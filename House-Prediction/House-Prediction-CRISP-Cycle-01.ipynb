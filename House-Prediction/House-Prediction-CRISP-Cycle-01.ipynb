{
 "cells": [
  {
   "cell_type": "markdown",
   "metadata": {},
   "source": [
    "# <font color='red'> CRISP-DS - CYCLE 01 </font>"
   ]
  },
  {
   "cell_type": "markdown",
   "metadata": {},
   "source": [
    "# 0.0. IMPORTS"
   ]
  },
  {
   "cell_type": "code",
   "execution_count": 1,
   "metadata": {
    "ExecuteTime": {
     "end_time": "2020-01-24T19:48:04.808069Z",
     "start_time": "2020-01-24T19:48:03.126037Z"
    }
   },
   "outputs": [],
   "source": [
    "import numpy   as np\n",
    "import pandas  as pd\n",
    "import seaborn as sns\n",
    "\n",
    "from matplotlib import pyplot as plt\n",
    "\n",
    "from sklearn.preprocessing import StandardScaler, RobustScaler, MinMaxScaler\n",
    "from sklearn.model_selection import train_test_split\n",
    "\n",
    "from IPython.core.display import HTML"
   ]
  },
  {
   "cell_type": "markdown",
   "metadata": {},
   "source": [
    "## 0.1. Helper Functions"
   ]
  },
  {
   "cell_type": "code",
   "execution_count": 2,
   "metadata": {
    "ExecuteTime": {
     "end_time": "2020-01-24T19:34:11.437178Z",
     "start_time": "2020-01-24T19:34:11.414679Z"
    }
   },
   "outputs": [],
   "source": [
    "def jupyter_settings():\n",
    "    %matplotlib inline\n",
    "    %pylab inline\n",
    "    \n",
    "    plt.style.use( 'bmh' )\n",
    "    plt.rcParams['figure.figsize'] = [25, 12]\n",
    "    plt.rcParams['font.size'] = 24\n",
    "    \n",
    "    display( HTML( '<style>.container { width:100% !important; }</style>') )\n",
    "    pd.options.display.max_columns = None\n",
    "    pd.options.display.max_rows = None\n",
    "    pd.set_option( 'display.expand_frame_repr', False )\n",
    "    \n",
    "    sns.set()"
   ]
  },
  {
   "cell_type": "code",
   "execution_count": 3,
   "metadata": {
    "ExecuteTime": {
     "end_time": "2020-01-24T19:34:11.484724Z",
     "start_time": "2020-01-24T19:34:11.440930Z"
    }
   },
   "outputs": [
    {
     "name": "stdout",
     "output_type": "stream",
     "text": [
      "Populating the interactive namespace from numpy and matplotlib\n"
     ]
    },
    {
     "data": {
      "text/html": [
       "<style>.container { width:100% !important; }</style>"
      ],
      "text/plain": [
       "<IPython.core.display.HTML object>"
      ]
     },
     "metadata": {},
     "output_type": "display_data"
    }
   ],
   "source": [
    "jupyter_settings()\n",
    "\n",
    "pd.options.display.float_format = '{:.2f}'.format"
   ]
  },
  {
   "cell_type": "markdown",
   "metadata": {},
   "source": [
    "## 0.2. Loading dataset"
   ]
  },
  {
   "cell_type": "code",
   "execution_count": 4,
   "metadata": {
    "ExecuteTime": {
     "end_time": "2020-01-24T19:34:26.795326Z",
     "start_time": "2020-01-24T19:34:26.752289Z"
    }
   },
   "outputs": [],
   "source": [
    "df_raw = pd.read_csv( 'data/simulated_listings.csv' )"
   ]
  },
  {
   "cell_type": "markdown",
   "metadata": {},
   "source": [
    "# 1.0. DESCRICAO DOS DADOS"
   ]
  },
  {
   "cell_type": "code",
   "execution_count": 7,
   "metadata": {
    "ExecuteTime": {
     "end_time": "2020-01-24T19:47:05.340617Z",
     "start_time": "2020-01-24T19:47:05.335535Z"
    }
   },
   "outputs": [],
   "source": [
    "df1 = df_raw.copy()"
   ]
  },
  {
   "cell_type": "code",
   "execution_count": 10,
   "metadata": {
    "ExecuteTime": {
     "end_time": "2020-01-24T19:47:09.749773Z",
     "start_time": "2020-01-24T19:47:09.727903Z"
    }
   },
   "outputs": [
    {
     "data": {
      "text/html": [
       "<div>\n",
       "<style scoped>\n",
       "    .dataframe tbody tr th:only-of-type {\n",
       "        vertical-align: middle;\n",
       "    }\n",
       "\n",
       "    .dataframe tbody tr th {\n",
       "        vertical-align: top;\n",
       "    }\n",
       "\n",
       "    .dataframe thead th {\n",
       "        text-align: right;\n",
       "    }\n",
       "</style>\n",
       "<table border=\"1\" class=\"dataframe\">\n",
       "  <thead>\n",
       "    <tr style=\"text-align: right;\">\n",
       "      <th></th>\n",
       "      <th>apt_id</th>\n",
       "      <th>rooms</th>\n",
       "      <th>garages</th>\n",
       "      <th>useful_area</th>\n",
       "      <th>latitude</th>\n",
       "      <th>longitude</th>\n",
       "      <th>value</th>\n",
       "      <th>interior_quality</th>\n",
       "      <th>time_on_market</th>\n",
       "      <th>sold</th>\n",
       "    </tr>\n",
       "  </thead>\n",
       "  <tbody>\n",
       "    <tr>\n",
       "      <th>0</th>\n",
       "      <td>4435</td>\n",
       "      <td>3.00</td>\n",
       "      <td>1.00</td>\n",
       "      <td>130</td>\n",
       "      <td>-23.55</td>\n",
       "      <td>-46.65</td>\n",
       "      <td>1221160</td>\n",
       "      <td>3</td>\n",
       "      <td>15</td>\n",
       "      <td>0</td>\n",
       "    </tr>\n",
       "    <tr>\n",
       "      <th>1</th>\n",
       "      <td>5936</td>\n",
       "      <td>3.00</td>\n",
       "      <td>2.00</td>\n",
       "      <td>99</td>\n",
       "      <td>-23.61</td>\n",
       "      <td>-46.63</td>\n",
       "      <td>1019190</td>\n",
       "      <td>3</td>\n",
       "      <td>50</td>\n",
       "      <td>1</td>\n",
       "    </tr>\n",
       "    <tr>\n",
       "      <th>2</th>\n",
       "      <td>1886</td>\n",
       "      <td>2.00</td>\n",
       "      <td>1.00</td>\n",
       "      <td>72</td>\n",
       "      <td>-23.63</td>\n",
       "      <td>-46.69</td>\n",
       "      <td>794247</td>\n",
       "      <td>2</td>\n",
       "      <td>5</td>\n",
       "      <td>0</td>\n",
       "    </tr>\n",
       "    <tr>\n",
       "      <th>3</th>\n",
       "      <td>1148</td>\n",
       "      <td>3.00</td>\n",
       "      <td>2.00</td>\n",
       "      <td>115</td>\n",
       "      <td>-23.52</td>\n",
       "      <td>-46.69</td>\n",
       "      <td>811593</td>\n",
       "      <td>2</td>\n",
       "      <td>14</td>\n",
       "      <td>1</td>\n",
       "    </tr>\n",
       "    <tr>\n",
       "      <th>4</th>\n",
       "      <td>14529</td>\n",
       "      <td>2.00</td>\n",
       "      <td>1.00</td>\n",
       "      <td>80</td>\n",
       "      <td>-23.59</td>\n",
       "      <td>-46.64</td>\n",
       "      <td>606597</td>\n",
       "      <td>3</td>\n",
       "      <td>15</td>\n",
       "      <td>0</td>\n",
       "    </tr>\n",
       "  </tbody>\n",
       "</table>\n",
       "</div>"
      ],
      "text/plain": [
       "   apt_id  rooms  garages  useful_area  latitude  longitude    value  interior_quality  time_on_market  sold\n",
       "0    4435   3.00     1.00          130    -23.55     -46.65  1221160                 3              15     0\n",
       "1    5936   3.00     2.00           99    -23.61     -46.63  1019190                 3              50     1\n",
       "2    1886   2.00     1.00           72    -23.63     -46.69   794247                 2               5     0\n",
       "3    1148   3.00     2.00          115    -23.52     -46.69   811593                 2              14     1\n",
       "4   14529   2.00     1.00           80    -23.59     -46.64   606597                 3              15     0"
      ]
     },
     "execution_count": 10,
     "metadata": {},
     "output_type": "execute_result"
    }
   ],
   "source": [
    "df1.head()"
   ]
  },
  {
   "cell_type": "markdown",
   "metadata": {},
   "source": [
    "## 1.1. Rename Columns"
   ]
  },
  {
   "cell_type": "code",
   "execution_count": 9,
   "metadata": {
    "ExecuteTime": {
     "end_time": "2020-01-24T19:47:07.032108Z",
     "start_time": "2020-01-24T19:47:07.025633Z"
    }
   },
   "outputs": [],
   "source": [
    "cols_new = ['apt_id', 'rooms', 'garages', 'useful_area', 'latitude', 'longitude', 'value', 'interior_quality', 'time_on_market', 'sold' ]\n",
    "\n",
    "# rename\n",
    "df1.columns = cols_new"
   ]
  },
  {
   "cell_type": "markdown",
   "metadata": {},
   "source": [
    "## 1.2. Data Dimensions"
   ]
  },
  {
   "cell_type": "code",
   "execution_count": 11,
   "metadata": {
    "ExecuteTime": {
     "end_time": "2020-01-24T19:47:14.387955Z",
     "start_time": "2020-01-24T19:47:14.376701Z"
    }
   },
   "outputs": [
    {
     "name": "stdout",
     "output_type": "stream",
     "text": [
      "Number of Rows: 8966\n",
      "Number of Cols: 10\n"
     ]
    }
   ],
   "source": [
    "print( 'Number of Rows: {}'.format( df1.shape[0] ) )\n",
    "print( 'Number of Cols: {}'.format( df1.shape[1] ) )"
   ]
  },
  {
   "cell_type": "markdown",
   "metadata": {},
   "source": [
    "## 1.3. Data Types"
   ]
  },
  {
   "cell_type": "code",
   "execution_count": 12,
   "metadata": {
    "ExecuteTime": {
     "end_time": "2020-01-24T19:47:14.990756Z",
     "start_time": "2020-01-24T19:47:14.978786Z"
    }
   },
   "outputs": [
    {
     "data": {
      "text/plain": [
       "apt_id                int64\n",
       "rooms               float64\n",
       "garages             float64\n",
       "useful_area           int64\n",
       "latitude            float64\n",
       "longitude           float64\n",
       "value                 int64\n",
       "interior_quality      int64\n",
       "time_on_market        int64\n",
       "sold                  int64\n",
       "dtype: object"
      ]
     },
     "execution_count": 12,
     "metadata": {},
     "output_type": "execute_result"
    }
   ],
   "source": [
    "df1.dtypes"
   ]
  },
  {
   "cell_type": "markdown",
   "metadata": {},
   "source": [
    "## 1.4. Check NA"
   ]
  },
  {
   "cell_type": "code",
   "execution_count": 13,
   "metadata": {
    "ExecuteTime": {
     "end_time": "2020-01-24T19:47:15.702369Z",
     "start_time": "2020-01-24T19:47:15.686084Z"
    }
   },
   "outputs": [
    {
     "data": {
      "text/plain": [
       "apt_id              0\n",
       "rooms               0\n",
       "garages             0\n",
       "useful_area         0\n",
       "latitude            0\n",
       "longitude           0\n",
       "value               0\n",
       "interior_quality    0\n",
       "time_on_market      0\n",
       "sold                0\n",
       "dtype: int64"
      ]
     },
     "execution_count": 13,
     "metadata": {},
     "output_type": "execute_result"
    }
   ],
   "source": [
    "df1.isna().sum()"
   ]
  },
  {
   "cell_type": "markdown",
   "metadata": {},
   "source": [
    "## 1.5. Fillout NA"
   ]
  },
  {
   "cell_type": "code",
   "execution_count": 14,
   "metadata": {
    "ExecuteTime": {
     "end_time": "2020-01-24T19:47:16.668266Z",
     "start_time": "2020-01-24T19:47:16.466059Z"
    }
   },
   "outputs": [
    {
     "data": {
      "text/html": [
       "<div>\n",
       "<style scoped>\n",
       "    .dataframe tbody tr th:only-of-type {\n",
       "        vertical-align: middle;\n",
       "    }\n",
       "\n",
       "    .dataframe tbody tr th {\n",
       "        vertical-align: top;\n",
       "    }\n",
       "\n",
       "    .dataframe thead th {\n",
       "        text-align: right;\n",
       "    }\n",
       "</style>\n",
       "<table border=\"1\" class=\"dataframe\">\n",
       "  <thead>\n",
       "    <tr style=\"text-align: right;\">\n",
       "      <th></th>\n",
       "      <th>attributes</th>\n",
       "      <th>min</th>\n",
       "      <th>max</th>\n",
       "      <th>range</th>\n",
       "      <th>mean</th>\n",
       "      <th>median</th>\n",
       "      <th>std</th>\n",
       "      <th>skew</th>\n",
       "      <th>kurtosis</th>\n",
       "    </tr>\n",
       "  </thead>\n",
       "  <tbody>\n",
       "    <tr>\n",
       "      <th>0</th>\n",
       "      <td>apt_id</td>\n",
       "      <td>2.00</td>\n",
       "      <td>17929.00</td>\n",
       "      <td>17927.00</td>\n",
       "      <td>8938.48</td>\n",
       "      <td>8939.50</td>\n",
       "      <td>5165.66</td>\n",
       "      <td>0.01</td>\n",
       "      <td>-1.19</td>\n",
       "    </tr>\n",
       "    <tr>\n",
       "      <th>1</th>\n",
       "      <td>rooms</td>\n",
       "      <td>1.00</td>\n",
       "      <td>8.00</td>\n",
       "      <td>7.00</td>\n",
       "      <td>2.91</td>\n",
       "      <td>3.00</td>\n",
       "      <td>0.93</td>\n",
       "      <td>-0.21</td>\n",
       "      <td>-0.25</td>\n",
       "    </tr>\n",
       "    <tr>\n",
       "      <th>2</th>\n",
       "      <td>garages</td>\n",
       "      <td>1.00</td>\n",
       "      <td>15.00</td>\n",
       "      <td>14.00</td>\n",
       "      <td>2.23</td>\n",
       "      <td>2.00</td>\n",
       "      <td>1.38</td>\n",
       "      <td>1.61</td>\n",
       "      <td>4.57</td>\n",
       "    </tr>\n",
       "    <tr>\n",
       "      <th>3</th>\n",
       "      <td>useful_area</td>\n",
       "      <td>24.00</td>\n",
       "      <td>1700.00</td>\n",
       "      <td>1676.00</td>\n",
       "      <td>169.61</td>\n",
       "      <td>127.00</td>\n",
       "      <td>135.97</td>\n",
       "      <td>2.65</td>\n",
       "      <td>11.56</td>\n",
       "    </tr>\n",
       "    <tr>\n",
       "      <th>4</th>\n",
       "      <td>latitude</td>\n",
       "      <td>-23.65</td>\n",
       "      <td>-23.49</td>\n",
       "      <td>0.16</td>\n",
       "      <td>-23.58</td>\n",
       "      <td>-23.58</td>\n",
       "      <td>0.03</td>\n",
       "      <td>0.09</td>\n",
       "      <td>-0.73</td>\n",
       "    </tr>\n",
       "    <tr>\n",
       "      <th>5</th>\n",
       "      <td>longitude</td>\n",
       "      <td>-46.74</td>\n",
       "      <td>-46.57</td>\n",
       "      <td>0.17</td>\n",
       "      <td>-46.67</td>\n",
       "      <td>-46.67</td>\n",
       "      <td>0.03</td>\n",
       "      <td>0.06</td>\n",
       "      <td>0.16</td>\n",
       "    </tr>\n",
       "    <tr>\n",
       "      <th>6</th>\n",
       "      <td>value</td>\n",
       "      <td>190251.00</td>\n",
       "      <td>47735900.00</td>\n",
       "      <td>47545649.00</td>\n",
       "      <td>1975384.75</td>\n",
       "      <td>1246635.00</td>\n",
       "      <td>2478707.26</td>\n",
       "      <td>5.45</td>\n",
       "      <td>50.15</td>\n",
       "    </tr>\n",
       "    <tr>\n",
       "      <th>7</th>\n",
       "      <td>interior_quality</td>\n",
       "      <td>1.00</td>\n",
       "      <td>3.00</td>\n",
       "      <td>2.00</td>\n",
       "      <td>2.54</td>\n",
       "      <td>3.00</td>\n",
       "      <td>0.67</td>\n",
       "      <td>-1.13</td>\n",
       "      <td>0.03</td>\n",
       "    </tr>\n",
       "    <tr>\n",
       "      <th>8</th>\n",
       "      <td>time_on_market</td>\n",
       "      <td>0.00</td>\n",
       "      <td>180.00</td>\n",
       "      <td>180.00</td>\n",
       "      <td>52.00</td>\n",
       "      <td>41.00</td>\n",
       "      <td>42.77</td>\n",
       "      <td>0.94</td>\n",
       "      <td>0.11</td>\n",
       "    </tr>\n",
       "    <tr>\n",
       "      <th>9</th>\n",
       "      <td>sold</td>\n",
       "      <td>0.00</td>\n",
       "      <td>1.00</td>\n",
       "      <td>1.00</td>\n",
       "      <td>0.55</td>\n",
       "      <td>1.00</td>\n",
       "      <td>0.50</td>\n",
       "      <td>-0.21</td>\n",
       "      <td>-1.96</td>\n",
       "    </tr>\n",
       "  </tbody>\n",
       "</table>\n",
       "</div>"
      ],
      "text/plain": [
       "         attributes       min         max       range       mean     median        std  skew  kurtosis\n",
       "0            apt_id      2.00    17929.00    17927.00    8938.48    8939.50    5165.66  0.01     -1.19\n",
       "1             rooms      1.00        8.00        7.00       2.91       3.00       0.93 -0.21     -0.25\n",
       "2           garages      1.00       15.00       14.00       2.23       2.00       1.38  1.61      4.57\n",
       "3       useful_area     24.00     1700.00     1676.00     169.61     127.00     135.97  2.65     11.56\n",
       "4          latitude    -23.65      -23.49        0.16     -23.58     -23.58       0.03  0.09     -0.73\n",
       "5         longitude    -46.74      -46.57        0.17     -46.67     -46.67       0.03  0.06      0.16\n",
       "6             value 190251.00 47735900.00 47545649.00 1975384.75 1246635.00 2478707.26  5.45     50.15\n",
       "7  interior_quality      1.00        3.00        2.00       2.54       3.00       0.67 -1.13      0.03\n",
       "8    time_on_market      0.00      180.00      180.00      52.00      41.00      42.77  0.94      0.11\n",
       "9              sold      0.00        1.00        1.00       0.55       1.00       0.50 -0.21     -1.96"
      ]
     },
     "execution_count": 14,
     "metadata": {},
     "output_type": "execute_result"
    }
   ],
   "source": [
    "# Central Tendency - mean, mediana\n",
    "ct1 = pd.DataFrame( df1.apply( np.mean ) ).T\n",
    "ct2 = pd.DataFrame( df1.apply( np.median ) ).T\n",
    "\n",
    "# Dispersion - std, min, max, range, skew, kurtosis\n",
    "d1 = pd.DataFrame( df1.apply( np.std ) ).T\n",
    "d2 = pd.DataFrame( df1.apply( min ) ).T\n",
    "d3 = pd.DataFrame( df1.apply( max ) ).T\n",
    "d4 = pd.DataFrame( df1.apply( lambda x: x.max() - x.min() ) ).T\n",
    "d5 = pd.DataFrame( df1.apply( lambda x: x.skew() ) ).T\n",
    "d6 = pd.DataFrame( df1.apply( lambda x: x.kurtosis() ) ).T\n",
    "\n",
    "# Concatenar\n",
    "m = pd.concat( [d2, d3, d4, ct1, ct2, d1, d5, d6] ).T.reset_index()\n",
    "m.columns = ['attributes', 'min', 'max', 'range', 'mean', 'median', 'std', 'skew', 'kurtosis']\n",
    "m"
   ]
  },
  {
   "cell_type": "markdown",
   "metadata": {},
   "source": [
    "## 1.6. Change Data Types"
   ]
  },
  {
   "cell_type": "markdown",
   "metadata": {},
   "source": [
    "## 1.7. Descriptive Statistics"
   ]
  },
  {
   "cell_type": "markdown",
   "metadata": {},
   "source": [
    "### 1.7.1. Numerical Attributes"
   ]
  },
  {
   "cell_type": "markdown",
   "metadata": {},
   "source": [
    "### 1.7.2. Categorical Attributes"
   ]
  },
  {
   "cell_type": "markdown",
   "metadata": {},
   "source": [
    "# 2.0. FEATURE ENGINEERING"
   ]
  },
  {
   "cell_type": "code",
   "execution_count": 15,
   "metadata": {
    "ExecuteTime": {
     "end_time": "2020-01-24T19:47:19.075609Z",
     "start_time": "2020-01-24T19:47:19.039874Z"
    }
   },
   "outputs": [],
   "source": [
    "df2 = df1.copy()"
   ]
  },
  {
   "cell_type": "markdown",
   "metadata": {},
   "source": [
    "## 2.1. Mapa Mental de Hipoteses"
   ]
  },
  {
   "cell_type": "markdown",
   "metadata": {},
   "source": [
    "## 2.2. Criacao das Hipoteses"
   ]
  },
  {
   "cell_type": "markdown",
   "metadata": {},
   "source": [
    "## 2.3. Lista Final de Hipoteses"
   ]
  },
  {
   "cell_type": "markdown",
   "metadata": {},
   "source": [
    "## 2.4. Feature Engineering"
   ]
  },
  {
   "cell_type": "markdown",
   "metadata": {},
   "source": [
    "# 3.0. FILTRAGEM DAS VARIAVEIS"
   ]
  },
  {
   "cell_type": "code",
   "execution_count": 16,
   "metadata": {
    "ExecuteTime": {
     "end_time": "2020-01-24T19:47:20.729294Z",
     "start_time": "2020-01-24T19:47:20.721400Z"
    }
   },
   "outputs": [],
   "source": [
    "df3 = df2.copy()"
   ]
  },
  {
   "cell_type": "markdown",
   "metadata": {
    "heading_collapsed": true
   },
   "source": [
    "## 3.1. Filtragem das Linhas"
   ]
  },
  {
   "cell_type": "markdown",
   "metadata": {},
   "source": [
    "## 3.2. Selecao das Colunas"
   ]
  },
  {
   "cell_type": "markdown",
   "metadata": {},
   "source": [
    "# 4.0. ANALISE EXPLORATORIA DE DADOS"
   ]
  },
  {
   "cell_type": "code",
   "execution_count": 20,
   "metadata": {
    "ExecuteTime": {
     "end_time": "2020-01-24T19:47:34.053118Z",
     "start_time": "2020-01-24T19:47:34.042784Z"
    }
   },
   "outputs": [],
   "source": [
    "df4 = df3.copy()"
   ]
  },
  {
   "cell_type": "markdown",
   "metadata": {
    "heading_collapsed": true
   },
   "source": [
    "## 4.1. Analise Univariada"
   ]
  },
  {
   "cell_type": "markdown",
   "metadata": {
    "heading_collapsed": true,
    "hidden": true
   },
   "source": [
    "### 4.1.1. Response Variable"
   ]
  },
  {
   "cell_type": "code",
   "execution_count": 36,
   "metadata": {
    "ExecuteTime": {
     "end_time": "2020-01-24T18:10:48.618276Z",
     "start_time": "2020-01-24T18:10:46.634665Z"
    },
    "hidden": true
   },
   "outputs": [
    {
     "data": {
      "image/png": "[encoded data removed]",
      "text/plain": [
       "<Figure size 1800x864 with 2 Axes>"
      ]
     },
     "metadata": {},
     "output_type": "display_data"
    }
   ],
   "source": [
    "plt.subplot( 1, 2, 1 )\n",
    "sns.distplot( df4['value'], kde=False );\n",
    "\n",
    "plt.subplot( 1, 2, 2 )\n",
    "sns.distplot( np.log1p( df4['value'] ), kde=False );"
   ]
  },
  {
   "cell_type": "code",
   "execution_count": 37,
   "metadata": {
    "ExecuteTime": {
     "end_time": "2020-01-24T18:10:57.936742Z",
     "start_time": "2020-01-24T18:10:48.622191Z"
    },
    "hidden": true
   },
   "outputs": [
    {
     "data": {
      "image/png": "[encoded data removed]",
      "text/plain": [
       "<Figure size 1800x864 with 9 Axes>"
      ]
     },
     "metadata": {},
     "output_type": "display_data"
    }
   ],
   "source": [
    "df4.hist( bins=25 );"
   ]
  },
  {
   "cell_type": "markdown",
   "metadata": {},
   "source": [
    "## 4.2. Analise Bivariada"
   ]
  },
  {
   "cell_type": "markdown",
   "metadata": {
    "heading_collapsed": true
   },
   "source": [
    "## 4.3. Analise Multivariada"
   ]
  },
  {
   "cell_type": "code",
   "execution_count": 39,
   "metadata": {
    "ExecuteTime": {
     "end_time": "2020-01-24T18:14:31.861646Z",
     "start_time": "2020-01-24T18:14:30.214948Z"
    },
    "hidden": true
   },
   "outputs": [
    {
     "data": {
      "image/png": "[encoded data removed]",
      "text/plain": [
       "<Figure size 1800x864 with 2 Axes>"
      ]
     },
     "metadata": {},
     "output_type": "display_data"
    }
   ],
   "source": [
    "correlation = df4.corr( method='pearson' )\n",
    "x = sns.heatmap( correlation, annot=True );\n",
    "bottom, top = x.get_ylim()\n",
    "x.set_ylim( bottom+0.5, top-0.5 );"
   ]
  },
  {
   "cell_type": "markdown",
   "metadata": {},
   "source": [
    "# 5.0. PREPARACAO DOS DADOS"
   ]
  },
  {
   "cell_type": "code",
   "execution_count": 21,
   "metadata": {
    "ExecuteTime": {
     "end_time": "2020-01-24T19:47:38.920903Z",
     "start_time": "2020-01-24T19:47:38.891950Z"
    }
   },
   "outputs": [],
   "source": [
    "df5 = df4.copy()"
   ]
  },
  {
   "cell_type": "markdown",
   "metadata": {},
   "source": [
    "## 5.1. Normalizacao"
   ]
  },
  {
   "cell_type": "code",
   "execution_count": 22,
   "metadata": {
    "ExecuteTime": {
     "end_time": "2020-01-24T19:47:40.572137Z",
     "start_time": "2020-01-24T19:47:40.557893Z"
    }
   },
   "outputs": [],
   "source": [
    "ss = StandardScaler()\n",
    "\n",
    "# time on market\n",
    "df5['time_on_market'] = ss.fit_transform( df5[['time_on_market']].values )"
   ]
  },
  {
   "cell_type": "markdown",
   "metadata": {},
   "source": [
    "## 5.2. Rescaling"
   ]
  },
  {
   "cell_type": "code",
   "execution_count": 23,
   "metadata": {
    "ExecuteTime": {
     "end_time": "2020-01-24T19:47:41.009184Z",
     "start_time": "2020-01-24T19:47:40.969949Z"
    }
   },
   "outputs": [],
   "source": [
    "rs = RobustScaler()\n",
    "mms = MinMaxScaler()\n",
    "\n",
    "# rooms\n",
    "df5['rooms'] = mms.fit_transform( df5[['rooms']].values )\n",
    "\n",
    "# garages\n",
    "df5['garages'] = mms.fit_transform( df5[['garages']].values )\n",
    "\n",
    "# useful_area\n",
    "df5['useful_area'] = mms.fit_transform( df5[['useful_area']].values )\n",
    "\n",
    "# interior quality\n",
    "df5['interior_quality'] = mms.fit_transform( df5[['interior_quality']].values )\n",
    "\n",
    "# time on market\n",
    "df5['time_on_market'] = mms.fit_transform( df5[['time_on_market']].values )"
   ]
  },
  {
   "cell_type": "markdown",
   "metadata": {},
   "source": [
    "## 5.3. Transformacao"
   ]
  },
  {
   "cell_type": "markdown",
   "metadata": {},
   "source": [
    "### 5.3.1. Transformacao da Variavel Resposta"
   ]
  },
  {
   "cell_type": "code",
   "execution_count": 24,
   "metadata": {
    "ExecuteTime": {
     "end_time": "2020-01-24T19:47:41.477051Z",
     "start_time": "2020-01-24T19:47:41.465113Z"
    }
   },
   "outputs": [],
   "source": [
    "df5['value'] = np.log1p( df5['value'] )"
   ]
  },
  {
   "cell_type": "markdown",
   "metadata": {},
   "source": [
    "# 6.0. FEATURE SELECTION"
   ]
  },
  {
   "cell_type": "code",
   "execution_count": 25,
   "metadata": {
    "ExecuteTime": {
     "end_time": "2020-01-24T19:47:41.821602Z",
     "start_time": "2020-01-24T19:47:41.803345Z"
    }
   },
   "outputs": [],
   "source": [
    "df6 = df5.copy()"
   ]
  },
  {
   "cell_type": "markdown",
   "metadata": {},
   "source": [
    "## 6.1. Split dataframe into Training and Test dataset"
   ]
  },
  {
   "cell_type": "code",
   "execution_count": 26,
   "metadata": {
    "ExecuteTime": {
     "end_time": "2020-01-24T19:47:42.208185Z",
     "start_time": "2020-01-24T19:47:42.177486Z"
    }
   },
   "outputs": [],
   "source": [
    "X = df6.drop( 'value', axis=1 )\n",
    "y = df6['value']\n",
    "\n",
    "# training and test dataset\n",
    "X_train, X_test, y_train, y_test = train_test_split( X, y, test_size=0.2 )"
   ]
  },
  {
   "cell_type": "markdown",
   "metadata": {},
   "source": [
    "# 7.0. MACHINE LEARNING MODELLING"
   ]
  },
  {
   "cell_type": "markdown",
   "metadata": {},
   "source": [
    "## 7.1. Average Model"
   ]
  },
  {
   "cell_type": "code",
   "execution_count": null,
   "metadata": {},
   "outputs": [],
   "source": [
    "aux1 = X_test.copy()\n",
    "aux1['value'] = y_test.copy()\n",
    "\n",
    "# prediction\n",
    "aux2 = aux1[['value']].mean().reset_index().rename( columns={'value': 'predictions'} )"
   ]
  },
  {
   "cell_type": "markdown",
   "metadata": {},
   "source": [
    "## 7.2. Linear Regression Model"
   ]
  },
  {
   "cell_type": "markdown",
   "metadata": {},
   "source": [
    "## 7.3. Linear Regression Regularized Model - LASSO"
   ]
  },
  {
   "cell_type": "markdown",
   "metadata": {},
   "source": [
    "## 7.4. Random Forest Regressor"
   ]
  },
  {
   "cell_type": "markdown",
   "metadata": {},
   "source": [
    "## 7.5. XGBoost Regressor"
   ]
  },
  {
   "cell_type": "markdown",
   "metadata": {},
   "source": [
    "## 7.6. Gradient Boost Model Regressor"
   ]
  },
  {
   "cell_type": "markdown",
   "metadata": {},
   "source": [
    "## 7.7. Compare Model's Performance"
   ]
  },
  {
   "cell_type": "markdown",
   "metadata": {
    "heading_collapsed": true
   },
   "source": [
    "# 8.0. HYPERPARAMTER FINE TUNNING"
   ]
  },
  {
   "cell_type": "markdown",
   "metadata": {
    "hidden": true
   },
   "source": [
    "## 8.1. Random Search"
   ]
  },
  {
   "cell_type": "markdown",
   "metadata": {
    "hidden": true
   },
   "source": [
    "## 8.2. Final Model"
   ]
  },
  {
   "cell_type": "markdown",
   "metadata": {},
   "source": [
    "# 9.0. TRADUCAO E INTERPRETACAO DO ERRO"
   ]
  },
  {
   "cell_type": "markdown",
   "metadata": {},
   "source": [
    "## 9.1. Business Performance"
   ]
  },
  {
   "cell_type": "markdown",
   "metadata": {},
   "source": [
    "## 9.2. Total Performance"
   ]
  },
  {
   "cell_type": "markdown",
   "metadata": {},
   "source": [
    "## 9.3. Machine Learning performance"
   ]
  }
 ],
 "metadata": {
  "kernelspec": {
   "display_name": "Python 3",
   "language": "python",
   "name": "python3"
  },
  "language_info": {
   "codemirror_mode": {
    "name": "ipython",
    "version": 3
   },
   "file_extension": ".py",
   "mimetype": "text/x-python",
   "name": "python",
   "nbconvert_exporter": "python",
   "pygments_lexer": "ipython3",
   "version": "3.7.1"
  }
 },
 "nbformat": 4,
 "nbformat_minor": 2
}
