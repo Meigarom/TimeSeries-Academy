{
 "cells": [
  {
   "cell_type": "markdown",
   "metadata": {},
   "source": [
    "# 0.0. Imports\n",
    "---"
   ]
  },
  {
   "cell_type": "code",
   "execution_count": 1,
   "metadata": {
    "ExecuteTime": {
     "end_time": "2020-01-19T22:16:07.115948Z",
     "start_time": "2020-01-19T22:16:04.998378Z"
    }
   },
   "outputs": [],
   "source": [
    "import numpy  as np\n",
    "import pandas as pd\n",
    "\n",
    "import seaborn as sns\n",
    "\n",
    "from sklearn.preprocessing import MinMaxScaler\n",
    "\n",
    "from IPython.core.display import HTML\n",
    "from IPython.core.interactiveshell import InteractiveShell"
   ]
  },
  {
   "cell_type": "markdown",
   "metadata": {},
   "source": [
    "## 0.1. Helper Functions"
   ]
  },
  {
   "cell_type": "code",
   "execution_count": 23,
   "metadata": {
    "ExecuteTime": {
     "end_time": "2020-01-19T22:17:29.743785Z",
     "start_time": "2020-01-19T22:17:29.708272Z"
    }
   },
   "outputs": [
    {
     "name": "stdout",
     "output_type": "stream",
     "text": [
      "Populating the interactive namespace from numpy and matplotlib\n"
     ]
    },
    {
     "data": {
      "text/html": [
       "<style>.container { width:100% !important; }</style>"
      ],
      "text/plain": [
       "<IPython.core.display.HTML object>"
      ]
     },
     "metadata": {},
     "output_type": "display_data"
    }
   ],
   "source": [
    "def fractionTTF( df, q ):\n",
    "    return df['TTF'][q] - df['TTF'].min() / float( df['TTF'].max() - df['TTF'].min() )\n",
    "\n",
    "\n",
    "def jupyter_settings():\n",
    "    %matplotlib inline\n",
    "    %pylab inline\n",
    "    \n",
    "    plt.style.use( 'bmh' )\n",
    "    plt.rcParams['figure.figsize'] = [35, 12]\n",
    "    plt.rcParams['font.size'] = 24\n",
    "    \n",
    "    display( HTML( '<style>.container { width:100% !important; }</style>') )\n",
    "    pd.options.display.max_columns = None\n",
    "    pd.options.display.max_rows = None\n",
    "    pd.set_option( 'display.expand_frame_repr', False )\n",
    "    \n",
    "    sns.set()\n",
    "\n",
    "pd.set_option( 'display.float_format', lambda x: '%.5f' % x)\n",
    "\n",
    "jupyter_settings()"
   ]
  },
  {
   "cell_type": "markdown",
   "metadata": {},
   "source": [
    "## 0.2. Loading data"
   ]
  },
  {
   "cell_type": "code",
   "execution_count": 3,
   "metadata": {
    "ExecuteTime": {
     "end_time": "2020-01-19T22:16:08.418499Z",
     "start_time": "2020-01-19T22:16:08.289113Z"
    }
   },
   "outputs": [],
   "source": [
    "df_raw = pd.read_csv( '../data/PM_train.txt', sep=\" \", header=None )\n",
    "\n",
    "# Drop NA Columns\n",
    "df_raw = df_raw.drop( df_raw.columns[[-1, -2]], axis=1 )"
   ]
  },
  {
   "cell_type": "markdown",
   "metadata": {},
   "source": [
    "# 1.0. DESCRIÇÃO DOS DADOS\n",
    "---"
   ]
  },
  {
   "cell_type": "markdown",
   "metadata": {},
   "source": [
    "## 1.1. Rename Attributes"
   ]
  },
  {
   "cell_type": "code",
   "execution_count": 4,
   "metadata": {
    "ExecuteTime": {
     "end_time": "2020-01-19T22:16:09.021801Z",
     "start_time": "2020-01-19T22:16:09.015666Z"
    }
   },
   "outputs": [],
   "source": [
    "df1 = df_raw"
   ]
  },
  {
   "cell_type": "code",
   "execution_count": 5,
   "metadata": {
    "ExecuteTime": {
     "end_time": "2020-01-19T22:16:09.272380Z",
     "start_time": "2020-01-19T22:16:09.264743Z"
    }
   },
   "outputs": [],
   "source": [
    "# new columns name\n",
    "new_cols = ['asset_id', 'runtime', 'setting01', 'setting02', 'setting03', \n",
    "            'tag01', 'tag02', 'tag03', 'tag04', 'tag05', \n",
    "            'tag06', 'tag07', 'tag08', 'tag09', 'tag10', \n",
    "            'tag11', 'tag12', 'tag13', 'tag14', 'tag15', \n",
    "            'tag16', 'tag17', 'tag18', 'tag19', 'tag20', 'tag21'] \n",
    "\n",
    "# rename\n",
    "df1.columns = new_cols"
   ]
  },
  {
   "cell_type": "markdown",
   "metadata": {},
   "source": [
    "## 1.2. Data Dimensions"
   ]
  },
  {
   "cell_type": "code",
   "execution_count": 6,
   "metadata": {
    "ExecuteTime": {
     "end_time": "2020-01-19T22:16:09.839772Z",
     "start_time": "2020-01-19T22:16:09.831168Z"
    }
   },
   "outputs": [
    {
     "name": "stdout",
     "output_type": "stream",
     "text": [
      "Number of Rows: 20631\n",
      "Number of Cols: 26\n"
     ]
    }
   ],
   "source": [
    "print( 'Number of Rows: {}'.format( df1.shape[0] ) )\n",
    "print( 'Number of Cols: {}'.format( df1.shape[1] ) )"
   ]
  },
  {
   "cell_type": "markdown",
   "metadata": {},
   "source": [
    "## 1.3. Data Type Attributes"
   ]
  },
  {
   "cell_type": "code",
   "execution_count": 7,
   "metadata": {
    "ExecuteTime": {
     "end_time": "2020-01-19T22:16:10.451477Z",
     "start_time": "2020-01-19T22:16:10.352384Z"
    }
   },
   "outputs": [
    {
     "data": {
      "text/plain": [
       "asset_id       int64\n",
       "runtime        int64\n",
       "setting01    float64\n",
       "setting02    float64\n",
       "setting03    float64\n",
       "tag01        float64\n",
       "tag02        float64\n",
       "tag03        float64\n",
       "tag04        float64\n",
       "tag05        float64\n",
       "tag06        float64\n",
       "tag07        float64\n",
       "tag08        float64\n",
       "tag09        float64\n",
       "tag10        float64\n",
       "tag11        float64\n",
       "tag12        float64\n",
       "tag13        float64\n",
       "tag14        float64\n",
       "tag15        float64\n",
       "tag16        float64\n",
       "tag17          int64\n",
       "tag18          int64\n",
       "tag19        float64\n",
       "tag20        float64\n",
       "tag21        float64\n",
       "dtype: object"
      ]
     },
     "execution_count": 7,
     "metadata": {},
     "output_type": "execute_result"
    }
   ],
   "source": [
    "df1.dtypes"
   ]
  },
  {
   "cell_type": "markdown",
   "metadata": {},
   "source": [
    "## 1.4. Number of NA"
   ]
  },
  {
   "cell_type": "code",
   "execution_count": 8,
   "metadata": {
    "ExecuteTime": {
     "end_time": "2020-01-19T22:16:10.669986Z",
     "start_time": "2020-01-19T22:16:10.646572Z"
    }
   },
   "outputs": [
    {
     "data": {
      "text/plain": [
       "asset_id     0\n",
       "runtime      0\n",
       "setting01    0\n",
       "setting02    0\n",
       "setting03    0\n",
       "tag01        0\n",
       "tag02        0\n",
       "tag03        0\n",
       "tag04        0\n",
       "tag05        0\n",
       "tag06        0\n",
       "tag07        0\n",
       "tag08        0\n",
       "tag09        0\n",
       "tag10        0\n",
       "tag11        0\n",
       "tag12        0\n",
       "tag13        0\n",
       "tag14        0\n",
       "tag15        0\n",
       "tag16        0\n",
       "tag17        0\n",
       "tag18        0\n",
       "tag19        0\n",
       "tag20        0\n",
       "tag21        0\n",
       "dtype: int64"
      ]
     },
     "execution_count": 8,
     "metadata": {},
     "output_type": "execute_result"
    }
   ],
   "source": [
    "df1.isna().sum()"
   ]
  },
  {
   "cell_type": "markdown",
   "metadata": {},
   "source": [
    "## 1.5. Descriptive Statistics"
   ]
  },
  {
   "cell_type": "code",
   "execution_count": 9,
   "metadata": {
    "ExecuteTime": {
     "end_time": "2020-01-19T22:16:11.589829Z",
     "start_time": "2020-01-19T22:16:11.194456Z"
    }
   },
   "outputs": [
    {
     "data": {
      "text/html": [
       "<div>\n",
       "<style scoped>\n",
       "    .dataframe tbody tr th:only-of-type {\n",
       "        vertical-align: middle;\n",
       "    }\n",
       "\n",
       "    .dataframe tbody tr th {\n",
       "        vertical-align: top;\n",
       "    }\n",
       "\n",
       "    .dataframe thead th {\n",
       "        text-align: right;\n",
       "    }\n",
       "</style>\n",
       "<table border=\"1\" class=\"dataframe\">\n",
       "  <thead>\n",
       "    <tr style=\"text-align: right;\">\n",
       "      <th></th>\n",
       "      <th>attributes</th>\n",
       "      <th>min</th>\n",
       "      <th>max</th>\n",
       "      <th>range</th>\n",
       "      <th>mean</th>\n",
       "      <th>median</th>\n",
       "      <th>standard_deviation</th>\n",
       "      <th>kurtosis</th>\n",
       "      <th>skew</th>\n",
       "    </tr>\n",
       "  </thead>\n",
       "  <tbody>\n",
       "    <tr>\n",
       "      <th>0</th>\n",
       "      <td>asset_id</td>\n",
       "      <td>1.00000</td>\n",
       "      <td>100.00000</td>\n",
       "      <td>99.00000</td>\n",
       "      <td>51.50657</td>\n",
       "      <td>52.00000</td>\n",
       "      <td>29.22692</td>\n",
       "      <td>-1.21982</td>\n",
       "      <td>-0.06782</td>\n",
       "    </tr>\n",
       "    <tr>\n",
       "      <th>1</th>\n",
       "      <td>runtime</td>\n",
       "      <td>1.00000</td>\n",
       "      <td>362.00000</td>\n",
       "      <td>361.00000</td>\n",
       "      <td>108.80786</td>\n",
       "      <td>104.00000</td>\n",
       "      <td>68.87932</td>\n",
       "      <td>-0.21854</td>\n",
       "      <td>0.49990</td>\n",
       "    </tr>\n",
       "    <tr>\n",
       "      <th>2</th>\n",
       "      <td>setting01</td>\n",
       "      <td>-0.00870</td>\n",
       "      <td>0.00870</td>\n",
       "      <td>0.01740</td>\n",
       "      <td>-0.00001</td>\n",
       "      <td>0.00000</td>\n",
       "      <td>0.00219</td>\n",
       "      <td>-0.00913</td>\n",
       "      <td>-0.02477</td>\n",
       "    </tr>\n",
       "    <tr>\n",
       "      <th>3</th>\n",
       "      <td>setting02</td>\n",
       "      <td>-0.00060</td>\n",
       "      <td>0.00060</td>\n",
       "      <td>0.00120</td>\n",
       "      <td>0.00000</td>\n",
       "      <td>0.00000</td>\n",
       "      <td>0.00029</td>\n",
       "      <td>-1.13045</td>\n",
       "      <td>0.00909</td>\n",
       "    </tr>\n",
       "    <tr>\n",
       "      <th>4</th>\n",
       "      <td>setting03</td>\n",
       "      <td>100.00000</td>\n",
       "      <td>100.00000</td>\n",
       "      <td>0.00000</td>\n",
       "      <td>100.00000</td>\n",
       "      <td>100.00000</td>\n",
       "      <td>0.00000</td>\n",
       "      <td>0.00000</td>\n",
       "      <td>0.00000</td>\n",
       "    </tr>\n",
       "    <tr>\n",
       "      <th>5</th>\n",
       "      <td>tag01</td>\n",
       "      <td>518.67000</td>\n",
       "      <td>518.67000</td>\n",
       "      <td>0.00000</td>\n",
       "      <td>518.67000</td>\n",
       "      <td>518.67000</td>\n",
       "      <td>0.00000</td>\n",
       "      <td>0.00000</td>\n",
       "      <td>0.00000</td>\n",
       "    </tr>\n",
       "    <tr>\n",
       "      <th>6</th>\n",
       "      <td>tag02</td>\n",
       "      <td>641.21000</td>\n",
       "      <td>644.53000</td>\n",
       "      <td>3.32000</td>\n",
       "      <td>642.68093</td>\n",
       "      <td>642.64000</td>\n",
       "      <td>0.50004</td>\n",
       "      <td>-0.11204</td>\n",
       "      <td>0.31653</td>\n",
       "    </tr>\n",
       "    <tr>\n",
       "      <th>7</th>\n",
       "      <td>tag03</td>\n",
       "      <td>1571.04000</td>\n",
       "      <td>1616.91000</td>\n",
       "      <td>45.87000</td>\n",
       "      <td>1590.52312</td>\n",
       "      <td>1590.10000</td>\n",
       "      <td>6.13100</td>\n",
       "      <td>0.00776</td>\n",
       "      <td>0.30895</td>\n",
       "    </tr>\n",
       "    <tr>\n",
       "      <th>8</th>\n",
       "      <td>tag04</td>\n",
       "      <td>1382.25000</td>\n",
       "      <td>1441.49000</td>\n",
       "      <td>59.24000</td>\n",
       "      <td>1408.93378</td>\n",
       "      <td>1408.04000</td>\n",
       "      <td>9.00039</td>\n",
       "      <td>-0.16368</td>\n",
       "      <td>0.44319</td>\n",
       "    </tr>\n",
       "    <tr>\n",
       "      <th>9</th>\n",
       "      <td>tag05</td>\n",
       "      <td>14.62000</td>\n",
       "      <td>14.62000</td>\n",
       "      <td>0.00000</td>\n",
       "      <td>14.62000</td>\n",
       "      <td>14.62000</td>\n",
       "      <td>0.00000</td>\n",
       "      <td>0.00000</td>\n",
       "      <td>0.00000</td>\n",
       "    </tr>\n",
       "    <tr>\n",
       "      <th>10</th>\n",
       "      <td>tag06</td>\n",
       "      <td>21.60000</td>\n",
       "      <td>21.61000</td>\n",
       "      <td>0.01000</td>\n",
       "      <td>21.60980</td>\n",
       "      <td>21.61000</td>\n",
       "      <td>0.00139</td>\n",
       "      <td>45.84675</td>\n",
       "      <td>-6.91681</td>\n",
       "    </tr>\n",
       "    <tr>\n",
       "      <th>11</th>\n",
       "      <td>tag07</td>\n",
       "      <td>549.85000</td>\n",
       "      <td>556.06000</td>\n",
       "      <td>6.21000</td>\n",
       "      <td>553.36771</td>\n",
       "      <td>553.44000</td>\n",
       "      <td>0.88507</td>\n",
       "      <td>-0.15795</td>\n",
       "      <td>-0.39433</td>\n",
       "    </tr>\n",
       "    <tr>\n",
       "      <th>12</th>\n",
       "      <td>tag08</td>\n",
       "      <td>2387.90000</td>\n",
       "      <td>2388.56000</td>\n",
       "      <td>0.66000</td>\n",
       "      <td>2388.09665</td>\n",
       "      <td>2388.09000</td>\n",
       "      <td>0.07098</td>\n",
       "      <td>0.33315</td>\n",
       "      <td>0.47941</td>\n",
       "    </tr>\n",
       "    <tr>\n",
       "      <th>13</th>\n",
       "      <td>tag09</td>\n",
       "      <td>9021.73000</td>\n",
       "      <td>9244.59000</td>\n",
       "      <td>222.86000</td>\n",
       "      <td>9065.24294</td>\n",
       "      <td>9060.66000</td>\n",
       "      <td>22.08234</td>\n",
       "      <td>9.37868</td>\n",
       "      <td>2.55536</td>\n",
       "    </tr>\n",
       "    <tr>\n",
       "      <th>14</th>\n",
       "      <td>tag10</td>\n",
       "      <td>1.30000</td>\n",
       "      <td>1.30000</td>\n",
       "      <td>0.00000</td>\n",
       "      <td>1.30000</td>\n",
       "      <td>1.30000</td>\n",
       "      <td>0.00000</td>\n",
       "      <td>0.00000</td>\n",
       "      <td>0.00000</td>\n",
       "    </tr>\n",
       "    <tr>\n",
       "      <th>15</th>\n",
       "      <td>tag11</td>\n",
       "      <td>46.85000</td>\n",
       "      <td>48.53000</td>\n",
       "      <td>1.68000</td>\n",
       "      <td>47.54117</td>\n",
       "      <td>47.51000</td>\n",
       "      <td>0.26708</td>\n",
       "      <td>-0.17219</td>\n",
       "      <td>0.46933</td>\n",
       "    </tr>\n",
       "    <tr>\n",
       "      <th>16</th>\n",
       "      <td>tag12</td>\n",
       "      <td>518.69000</td>\n",
       "      <td>523.38000</td>\n",
       "      <td>4.69000</td>\n",
       "      <td>521.41347</td>\n",
       "      <td>521.48000</td>\n",
       "      <td>0.73754</td>\n",
       "      <td>-0.14492</td>\n",
       "      <td>-0.44241</td>\n",
       "    </tr>\n",
       "    <tr>\n",
       "      <th>17</th>\n",
       "      <td>tag13</td>\n",
       "      <td>2387.88000</td>\n",
       "      <td>2388.56000</td>\n",
       "      <td>0.68000</td>\n",
       "      <td>2388.09615</td>\n",
       "      <td>2388.09000</td>\n",
       "      <td>0.07192</td>\n",
       "      <td>0.38724</td>\n",
       "      <td>0.46979</td>\n",
       "    </tr>\n",
       "    <tr>\n",
       "      <th>18</th>\n",
       "      <td>tag14</td>\n",
       "      <td>8099.94000</td>\n",
       "      <td>8293.72000</td>\n",
       "      <td>193.78000</td>\n",
       "      <td>8143.75272</td>\n",
       "      <td>8140.54000</td>\n",
       "      <td>19.07571</td>\n",
       "      <td>8.85466</td>\n",
       "      <td>2.37255</td>\n",
       "    </tr>\n",
       "    <tr>\n",
       "      <th>19</th>\n",
       "      <td>tag15</td>\n",
       "      <td>8.32490</td>\n",
       "      <td>8.58480</td>\n",
       "      <td>0.25990</td>\n",
       "      <td>8.44215</td>\n",
       "      <td>8.43890</td>\n",
       "      <td>0.03750</td>\n",
       "      <td>-0.12143</td>\n",
       "      <td>0.38826</td>\n",
       "    </tr>\n",
       "    <tr>\n",
       "      <th>20</th>\n",
       "      <td>tag16</td>\n",
       "      <td>0.03000</td>\n",
       "      <td>0.03000</td>\n",
       "      <td>0.00000</td>\n",
       "      <td>0.03000</td>\n",
       "      <td>0.03000</td>\n",
       "      <td>0.00000</td>\n",
       "      <td>0.00000</td>\n",
       "      <td>0.00000</td>\n",
       "    </tr>\n",
       "    <tr>\n",
       "      <th>21</th>\n",
       "      <td>tag17</td>\n",
       "      <td>388.00000</td>\n",
       "      <td>400.00000</td>\n",
       "      <td>12.00000</td>\n",
       "      <td>393.21065</td>\n",
       "      <td>393.00000</td>\n",
       "      <td>1.54873</td>\n",
       "      <td>-0.03917</td>\n",
       "      <td>0.35313</td>\n",
       "    </tr>\n",
       "    <tr>\n",
       "      <th>22</th>\n",
       "      <td>tag18</td>\n",
       "      <td>2388.00000</td>\n",
       "      <td>2388.00000</td>\n",
       "      <td>0.00000</td>\n",
       "      <td>2388.00000</td>\n",
       "      <td>2388.00000</td>\n",
       "      <td>0.00000</td>\n",
       "      <td>0.00000</td>\n",
       "      <td>0.00000</td>\n",
       "    </tr>\n",
       "    <tr>\n",
       "      <th>23</th>\n",
       "      <td>tag19</td>\n",
       "      <td>100.00000</td>\n",
       "      <td>100.00000</td>\n",
       "      <td>0.00000</td>\n",
       "      <td>100.00000</td>\n",
       "      <td>100.00000</td>\n",
       "      <td>0.00000</td>\n",
       "      <td>0.00000</td>\n",
       "      <td>0.00000</td>\n",
       "    </tr>\n",
       "    <tr>\n",
       "      <th>24</th>\n",
       "      <td>tag20</td>\n",
       "      <td>38.14000</td>\n",
       "      <td>39.43000</td>\n",
       "      <td>1.29000</td>\n",
       "      <td>38.81627</td>\n",
       "      <td>38.83000</td>\n",
       "      <td>0.18074</td>\n",
       "      <td>-0.11283</td>\n",
       "      <td>-0.35845</td>\n",
       "    </tr>\n",
       "    <tr>\n",
       "      <th>25</th>\n",
       "      <td>tag21</td>\n",
       "      <td>22.89420</td>\n",
       "      <td>23.61840</td>\n",
       "      <td>0.72420</td>\n",
       "      <td>23.28971</td>\n",
       "      <td>23.29790</td>\n",
       "      <td>0.10825</td>\n",
       "      <td>-0.11704</td>\n",
       "      <td>-0.35037</td>\n",
       "    </tr>\n",
       "  </tbody>\n",
       "</table>\n",
       "</div>"
      ],
      "text/plain": [
       "   attributes        min        max     range       mean     median  standard_deviation  kurtosis     skew\n",
       "0    asset_id    1.00000  100.00000  99.00000   51.50657   52.00000            29.22692  -1.21982 -0.06782\n",
       "1     runtime    1.00000  362.00000 361.00000  108.80786  104.00000            68.87932  -0.21854  0.49990\n",
       "2   setting01   -0.00870    0.00870   0.01740   -0.00001    0.00000             0.00219  -0.00913 -0.02477\n",
       "3   setting02   -0.00060    0.00060   0.00120    0.00000    0.00000             0.00029  -1.13045  0.00909\n",
       "4   setting03  100.00000  100.00000   0.00000  100.00000  100.00000             0.00000   0.00000  0.00000\n",
       "5       tag01  518.67000  518.67000   0.00000  518.67000  518.67000             0.00000   0.00000  0.00000\n",
       "6       tag02  641.21000  644.53000   3.32000  642.68093  642.64000             0.50004  -0.11204  0.31653\n",
       "7       tag03 1571.04000 1616.91000  45.87000 1590.52312 1590.10000             6.13100   0.00776  0.30895\n",
       "8       tag04 1382.25000 1441.49000  59.24000 1408.93378 1408.04000             9.00039  -0.16368  0.44319\n",
       "9       tag05   14.62000   14.62000   0.00000   14.62000   14.62000             0.00000   0.00000  0.00000\n",
       "10      tag06   21.60000   21.61000   0.01000   21.60980   21.61000             0.00139  45.84675 -6.91681\n",
       "11      tag07  549.85000  556.06000   6.21000  553.36771  553.44000             0.88507  -0.15795 -0.39433\n",
       "12      tag08 2387.90000 2388.56000   0.66000 2388.09665 2388.09000             0.07098   0.33315  0.47941\n",
       "13      tag09 9021.73000 9244.59000 222.86000 9065.24294 9060.66000            22.08234   9.37868  2.55536\n",
       "14      tag10    1.30000    1.30000   0.00000    1.30000    1.30000             0.00000   0.00000  0.00000\n",
       "15      tag11   46.85000   48.53000   1.68000   47.54117   47.51000             0.26708  -0.17219  0.46933\n",
       "16      tag12  518.69000  523.38000   4.69000  521.41347  521.48000             0.73754  -0.14492 -0.44241\n",
       "17      tag13 2387.88000 2388.56000   0.68000 2388.09615 2388.09000             0.07192   0.38724  0.46979\n",
       "18      tag14 8099.94000 8293.72000 193.78000 8143.75272 8140.54000            19.07571   8.85466  2.37255\n",
       "19      tag15    8.32490    8.58480   0.25990    8.44215    8.43890             0.03750  -0.12143  0.38826\n",
       "20      tag16    0.03000    0.03000   0.00000    0.03000    0.03000             0.00000   0.00000  0.00000\n",
       "21      tag17  388.00000  400.00000  12.00000  393.21065  393.00000             1.54873  -0.03917  0.35313\n",
       "22      tag18 2388.00000 2388.00000   0.00000 2388.00000 2388.00000             0.00000   0.00000  0.00000\n",
       "23      tag19  100.00000  100.00000   0.00000  100.00000  100.00000             0.00000   0.00000  0.00000\n",
       "24      tag20   38.14000   39.43000   1.29000   38.81627   38.83000             0.18074  -0.11283 -0.35845\n",
       "25      tag21   22.89420   23.61840   0.72420   23.28971   23.29790             0.10825  -0.11704 -0.35037"
      ]
     },
     "execution_count": 9,
     "metadata": {},
     "output_type": "execute_result"
    }
   ],
   "source": [
    "# measure of Central Tendency\n",
    "ct1 = pd.DataFrame( df1.apply( np.mean ) ).T\n",
    "ct2 = pd.DataFrame( df1.apply( np.median ) ).T\n",
    "\n",
    "# dispersion\n",
    "d1 = pd.DataFrame( df1.apply( np.std ) ).T\n",
    "d2 = pd.DataFrame( df1.apply( min ) ).T\n",
    "d3 = pd.DataFrame( df1.apply( max ) ).T\n",
    "d4 = pd.DataFrame( df1.apply( lambda x: x.max() - x.min() ) ).T\n",
    "d5 = pd.DataFrame( df1.apply( lambda x: x.kurtosis() ) ).T\n",
    "d6 = pd.DataFrame( df1.apply( lambda x: x.skew() ) ).T\n",
    "\n",
    "m = pd.concat( [d2, d3, d4, ct1, ct2, d1, d5, d6] ).T.reset_index()\n",
    "m.columns = ['attributes', 'min', 'max', 'range', 'mean', 'median', \n",
    "             'standard_deviation', 'kurtosis', 'skew']\n",
    "m"
   ]
  },
  {
   "cell_type": "markdown",
   "metadata": {},
   "source": [
    "# 2.0. FEATURE ENGINEERING\n",
    "---"
   ]
  },
  {
   "cell_type": "code",
   "execution_count": 10,
   "metadata": {
    "ExecuteTime": {
     "end_time": "2020-01-19T22:16:11.655386Z",
     "start_time": "2020-01-19T22:16:11.646053Z"
    }
   },
   "outputs": [],
   "source": [
    "df2 = df1.copy()"
   ]
  },
  {
   "cell_type": "markdown",
   "metadata": {},
   "source": [
    "## 2.1. FEATURE CREATION"
   ]
  },
  {
   "cell_type": "code",
   "execution_count": 11,
   "metadata": {
    "ExecuteTime": {
     "end_time": "2020-01-19T22:16:12.145049Z",
     "start_time": "2020-01-19T22:16:12.101119Z"
    }
   },
   "outputs": [],
   "source": [
    "# Max Runtime of each asset\n",
    "df_max_runtime = df2[['asset_id', 'runtime']].groupby( 'asset_id' ).max().reset_index().rename( columns={'runtime':'max_runtime'} )\n",
    "\n",
    "# Merge Max Runtime\n",
    "df2 = pd.merge( df2, df_max_runtime, how='inner', on='asset_id' )\n",
    "\n",
    "# Determine TTF ( Time To Failure )\n",
    "df2['TTF'] = df2['max_runtime'] - df2['runtime']"
   ]
  },
  {
   "cell_type": "markdown",
   "metadata": {},
   "source": [
    "# 3.0. FILTRAGEM DE VARIÁVEIS\n",
    "---"
   ]
  },
  {
   "cell_type": "code",
   "execution_count": 12,
   "metadata": {
    "ExecuteTime": {
     "end_time": "2020-01-19T22:16:12.454140Z",
     "start_time": "2020-01-19T22:16:12.433823Z"
    }
   },
   "outputs": [],
   "source": [
    "df3 = df2.copy()"
   ]
  },
  {
   "cell_type": "markdown",
   "metadata": {},
   "source": [
    "## 3.1. Columns Selection"
   ]
  },
  {
   "cell_type": "markdown",
   "metadata": {},
   "source": [
    "**Columns to Drop**\n",
    "\n",
    "**1.setting03:** Equal values for Min and Max and Zero for standard deviation. Sensor might not been working really well.\n",
    "\n",
    "**2.tag01:** Equal values for Min and Max and Zero for standard deviation. Sensor might not been working really well.\n",
    "\n",
    "**3.tag05:** Equal values for Min and Max and Zero for standard deviation. Sensor might not been working really well.\n",
    "\n",
    "**4.tag10:** Equal values for Min and Max and Zero for standard deviation. Sensor might not been working really well.\n",
    "\n",
    "**5.tag16:** Equal values for Min and Max and Zero for standard deviation. Sensor might not been working really well.\n",
    "\n",
    "**6.tag18:** Equal values for Min and Max and Zero for standard deviation. Sensor might not been working really well.\n",
    "\n",
    "**7.tag19:** Equal values for Min and Max and Zero for standard deviation. Sensor might not been working really well."
   ]
  },
  {
   "cell_type": "code",
   "execution_count": 13,
   "metadata": {
    "ExecuteTime": {
     "end_time": "2020-01-19T22:16:13.515269Z",
     "start_time": "2020-01-19T22:16:13.508426Z"
    }
   },
   "outputs": [],
   "source": [
    "cols_drop = ['setting03', 'tag01', 'tag05', 'tag10', 'tag16', 'tag18', \n",
    "             'tag19']\n",
    "\n",
    "# drop columns\n",
    "df3 = df3.drop( cols_drop, axis=1 )"
   ]
  },
  {
   "cell_type": "markdown",
   "metadata": {},
   "source": [
    "# 4.0. ANALISE EXPLORATORIO DE DADOS\n",
    "---"
   ]
  },
  {
   "cell_type": "code",
   "execution_count": 14,
   "metadata": {
    "ExecuteTime": {
     "end_time": "2020-01-19T22:16:25.073081Z",
     "start_time": "2020-01-19T22:16:25.062154Z"
    }
   },
   "outputs": [],
   "source": [
    "df4 = df3.copy()"
   ]
  },
  {
   "cell_type": "markdown",
   "metadata": {},
   "source": [
    "## 4.1. Analise Univariada"
   ]
  },
  {
   "cell_type": "markdown",
   "metadata": {},
   "source": [
    "### 4.1.1. Response Variable"
   ]
  },
  {
   "cell_type": "code",
   "execution_count": 15,
   "metadata": {
    "ExecuteTime": {
     "end_time": "2020-01-19T22:16:40.728702Z",
     "start_time": "2020-01-19T22:16:27.195590Z"
    }
   },
   "outputs": [
    {
     "data": {
      "image/png": "[encoded data removed]",
      "text/plain": [
       "<Figure size 2520x864 with 1 Axes>"
      ]
     },
     "metadata": {},
     "output_type": "display_data"
    }
   ],
   "source": [
    "sns.barplot( x='asset_id', y='runtime', data=df3 );"
   ]
  },
  {
   "cell_type": "markdown",
   "metadata": {},
   "source": [
    "### 4.1.2. Predictor Variables"
   ]
  },
  {
   "cell_type": "code",
   "execution_count": 16,
   "metadata": {
    "ExecuteTime": {
     "end_time": "2020-01-19T22:16:53.202786Z",
     "start_time": "2020-01-19T22:16:40.737389Z"
    }
   },
   "outputs": [
    {
     "data": {
      "image/png": "[encoded data removed]",
      "text/plain": [
       "<Figure size 1296x1152 with 25 Axes>"
      ]
     },
     "metadata": {},
     "output_type": "display_data"
    }
   ],
   "source": [
    "df3.hist( bins=50, figsize=(18, 16) );"
   ]
  },
  {
   "cell_type": "markdown",
   "metadata": {},
   "source": [
    "# 5.0. DATA PREPARATION\n",
    "---"
   ]
  },
  {
   "cell_type": "code",
   "execution_count": 17,
   "metadata": {
    "ExecuteTime": {
     "end_time": "2020-01-19T22:16:53.239812Z",
     "start_time": "2020-01-19T22:16:53.209603Z"
    }
   },
   "outputs": [],
   "source": [
    "df5 = df4.copy()"
   ]
  },
  {
   "cell_type": "code",
   "execution_count": 18,
   "metadata": {
    "ExecuteTime": {
     "end_time": "2020-01-19T22:16:53.324644Z",
     "start_time": "2020-01-19T22:16:53.246898Z"
    }
   },
   "outputs": [
    {
     "data": {
      "text/html": [
       "<div>\n",
       "<style scoped>\n",
       "    .dataframe tbody tr th:only-of-type {\n",
       "        vertical-align: middle;\n",
       "    }\n",
       "\n",
       "    .dataframe tbody tr th {\n",
       "        vertical-align: top;\n",
       "    }\n",
       "\n",
       "    .dataframe thead th {\n",
       "        text-align: right;\n",
       "    }\n",
       "</style>\n",
       "<table border=\"1\" class=\"dataframe\">\n",
       "  <thead>\n",
       "    <tr style=\"text-align: right;\">\n",
       "      <th></th>\n",
       "      <th>asset_id</th>\n",
       "      <th>runtime</th>\n",
       "      <th>setting01</th>\n",
       "      <th>setting02</th>\n",
       "      <th>tag02</th>\n",
       "      <th>tag03</th>\n",
       "      <th>tag04</th>\n",
       "      <th>tag06</th>\n",
       "      <th>tag07</th>\n",
       "      <th>tag08</th>\n",
       "      <th>tag09</th>\n",
       "      <th>tag11</th>\n",
       "      <th>tag12</th>\n",
       "      <th>tag13</th>\n",
       "      <th>tag14</th>\n",
       "      <th>tag15</th>\n",
       "      <th>tag17</th>\n",
       "      <th>tag20</th>\n",
       "      <th>tag21</th>\n",
       "      <th>max_runtime</th>\n",
       "      <th>TTF</th>\n",
       "    </tr>\n",
       "  </thead>\n",
       "  <tbody>\n",
       "    <tr>\n",
       "      <th>0</th>\n",
       "      <td>1</td>\n",
       "      <td>1</td>\n",
       "      <td>-0.00070</td>\n",
       "      <td>-0.00040</td>\n",
       "      <td>641.82000</td>\n",
       "      <td>1589.70000</td>\n",
       "      <td>1400.60000</td>\n",
       "      <td>21.61000</td>\n",
       "      <td>554.36000</td>\n",
       "      <td>2388.06000</td>\n",
       "      <td>9046.19000</td>\n",
       "      <td>47.47000</td>\n",
       "      <td>521.66000</td>\n",
       "      <td>2388.02000</td>\n",
       "      <td>8138.62000</td>\n",
       "      <td>8.41950</td>\n",
       "      <td>392</td>\n",
       "      <td>39.06000</td>\n",
       "      <td>23.41900</td>\n",
       "      <td>192</td>\n",
       "      <td>191</td>\n",
       "    </tr>\n",
       "    <tr>\n",
       "      <th>1</th>\n",
       "      <td>1</td>\n",
       "      <td>2</td>\n",
       "      <td>0.00190</td>\n",
       "      <td>-0.00030</td>\n",
       "      <td>642.15000</td>\n",
       "      <td>1591.82000</td>\n",
       "      <td>1403.14000</td>\n",
       "      <td>21.61000</td>\n",
       "      <td>553.75000</td>\n",
       "      <td>2388.04000</td>\n",
       "      <td>9044.07000</td>\n",
       "      <td>47.49000</td>\n",
       "      <td>522.28000</td>\n",
       "      <td>2388.07000</td>\n",
       "      <td>8131.49000</td>\n",
       "      <td>8.43180</td>\n",
       "      <td>392</td>\n",
       "      <td>39.00000</td>\n",
       "      <td>23.42360</td>\n",
       "      <td>192</td>\n",
       "      <td>190</td>\n",
       "    </tr>\n",
       "    <tr>\n",
       "      <th>2</th>\n",
       "      <td>1</td>\n",
       "      <td>3</td>\n",
       "      <td>-0.00430</td>\n",
       "      <td>0.00030</td>\n",
       "      <td>642.35000</td>\n",
       "      <td>1587.99000</td>\n",
       "      <td>1404.20000</td>\n",
       "      <td>21.61000</td>\n",
       "      <td>554.26000</td>\n",
       "      <td>2388.08000</td>\n",
       "      <td>9052.94000</td>\n",
       "      <td>47.27000</td>\n",
       "      <td>522.42000</td>\n",
       "      <td>2388.03000</td>\n",
       "      <td>8133.23000</td>\n",
       "      <td>8.41780</td>\n",
       "      <td>390</td>\n",
       "      <td>38.95000</td>\n",
       "      <td>23.34420</td>\n",
       "      <td>192</td>\n",
       "      <td>189</td>\n",
       "    </tr>\n",
       "    <tr>\n",
       "      <th>3</th>\n",
       "      <td>1</td>\n",
       "      <td>4</td>\n",
       "      <td>0.00070</td>\n",
       "      <td>0.00000</td>\n",
       "      <td>642.35000</td>\n",
       "      <td>1582.79000</td>\n",
       "      <td>1401.87000</td>\n",
       "      <td>21.61000</td>\n",
       "      <td>554.45000</td>\n",
       "      <td>2388.11000</td>\n",
       "      <td>9049.48000</td>\n",
       "      <td>47.13000</td>\n",
       "      <td>522.86000</td>\n",
       "      <td>2388.08000</td>\n",
       "      <td>8133.83000</td>\n",
       "      <td>8.36820</td>\n",
       "      <td>392</td>\n",
       "      <td>38.88000</td>\n",
       "      <td>23.37390</td>\n",
       "      <td>192</td>\n",
       "      <td>188</td>\n",
       "    </tr>\n",
       "    <tr>\n",
       "      <th>4</th>\n",
       "      <td>1</td>\n",
       "      <td>5</td>\n",
       "      <td>-0.00190</td>\n",
       "      <td>-0.00020</td>\n",
       "      <td>642.37000</td>\n",
       "      <td>1582.85000</td>\n",
       "      <td>1406.22000</td>\n",
       "      <td>21.61000</td>\n",
       "      <td>554.00000</td>\n",
       "      <td>2388.06000</td>\n",
       "      <td>9055.15000</td>\n",
       "      <td>47.28000</td>\n",
       "      <td>522.19000</td>\n",
       "      <td>2388.04000</td>\n",
       "      <td>8133.80000</td>\n",
       "      <td>8.42940</td>\n",
       "      <td>393</td>\n",
       "      <td>38.90000</td>\n",
       "      <td>23.40440</td>\n",
       "      <td>192</td>\n",
       "      <td>187</td>\n",
       "    </tr>\n",
       "  </tbody>\n",
       "</table>\n",
       "</div>"
      ],
      "text/plain": [
       "   asset_id  runtime  setting01  setting02     tag02      tag03      tag04    tag06     tag07      tag08      tag09    tag11     tag12      tag13      tag14   tag15  tag17    tag20    tag21  max_runtime  TTF\n",
       "0         1        1   -0.00070   -0.00040 641.82000 1589.70000 1400.60000 21.61000 554.36000 2388.06000 9046.19000 47.47000 521.66000 2388.02000 8138.62000 8.41950    392 39.06000 23.41900          192  191\n",
       "1         1        2    0.00190   -0.00030 642.15000 1591.82000 1403.14000 21.61000 553.75000 2388.04000 9044.07000 47.49000 522.28000 2388.07000 8131.49000 8.43180    392 39.00000 23.42360          192  190\n",
       "2         1        3   -0.00430    0.00030 642.35000 1587.99000 1404.20000 21.61000 554.26000 2388.08000 9052.94000 47.27000 522.42000 2388.03000 8133.23000 8.41780    390 38.95000 23.34420          192  189\n",
       "3         1        4    0.00070    0.00000 642.35000 1582.79000 1401.87000 21.61000 554.45000 2388.11000 9049.48000 47.13000 522.86000 2388.08000 8133.83000 8.36820    392 38.88000 23.37390          192  188\n",
       "4         1        5   -0.00190   -0.00020 642.37000 1582.85000 1406.22000 21.61000 554.00000 2388.06000 9055.15000 47.28000 522.19000 2388.04000 8133.80000 8.42940    393 38.90000 23.40440          192  187"
      ]
     },
     "execution_count": 18,
     "metadata": {},
     "output_type": "execute_result"
    }
   ],
   "source": [
    "df5.head()"
   ]
  },
  {
   "cell_type": "markdown",
   "metadata": {},
   "source": [
    "## 5.1. Rescaling"
   ]
  },
  {
   "cell_type": "code",
   "execution_count": 20,
   "metadata": {
    "ExecuteTime": {
     "end_time": "2020-01-19T22:16:53.436527Z",
     "start_time": "2020-01-19T22:16:53.413261Z"
    }
   },
   "outputs": [],
   "source": [
    "mms = MinMaxScaler()\n",
    "\n",
    "df5.iloc[:,2:19] = mms.fit_transform( df5.iloc[:,2:19] )"
   ]
  },
  {
   "cell_type": "markdown",
   "metadata": {},
   "source": [
    "## 5.2. Transformation"
   ]
  },
  {
   "cell_type": "code",
   "execution_count": 22,
   "metadata": {
    "ExecuteTime": {
     "end_time": "2020-01-19T22:17:02.823356Z",
     "start_time": "2020-01-19T22:16:53.569619Z"
    }
   },
   "outputs": [],
   "source": [
    "fTTFz = []\n",
    "fTTF = []\n",
    "\n",
    "for i in range( df5['asset_id'].min(), df5['asset_id'].max()+1 ):\n",
    "    df = df5[ df5['asset_id'] == i ]\n",
    "    df = df.reset_index( drop=True )\n",
    "    \n",
    "    for q in range( len( df ) ):\n",
    "        fTTFz = fractionTTF( df, q )\n",
    "        fTTF.append( fTTFz )\n",
    "        \n",
    "df5['fTTF'] = fTTF"
   ]
  },
  {
   "cell_type": "code",
   "execution_count": null,
   "metadata": {},
   "outputs": [],
   "source": []
  }
 ],
 "metadata": {
  "kernelspec": {
   "display_name": "Python 3",
   "language": "python",
   "name": "python3"
  },
  "language_info": {
   "codemirror_mode": {
    "name": "ipython",
    "version": 3
   },
   "file_extension": ".py",
   "mimetype": "text/x-python",
   "name": "python",
   "nbconvert_exporter": "python",
   "pygments_lexer": "ipython3",
   "version": "3.8.0"
  }
 },
 "nbformat": 4,
 "nbformat_minor": 4
}
