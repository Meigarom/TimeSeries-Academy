{
 "cells": [
  {
   "cell_type": "code",
   "execution_count": 2,
   "metadata": {
    "ExecuteTime": {
     "end_time": "2019-11-05T10:49:57.629929Z",
     "start_time": "2019-11-05T10:49:57.611363Z"
    }
   },
   "outputs": [
    {
     "ename": "ModuleNotFoundError",
     "evalue": "No module named 'pandas'",
     "output_type": "error",
     "traceback": [
      "\u001b[0;31m---------------------------------------------------------------------------\u001b[0m",
      "\u001b[0;31mModuleNotFoundError\u001b[0m                       Traceback (most recent call last)",
      "\u001b[0;32m<ipython-input-2-80e943cb71c9>\u001b[0m in \u001b[0;36m<module>\u001b[0;34m\u001b[0m\n\u001b[1;32m      1\u001b[0m \u001b[0;32mimport\u001b[0m \u001b[0mos\u001b[0m\u001b[0;34m\u001b[0m\u001b[0;34m\u001b[0m\u001b[0m\n\u001b[0;32m----> 2\u001b[0;31m \u001b[0;32mimport\u001b[0m \u001b[0mpandas\u001b[0m \u001b[0;32mas\u001b[0m \u001b[0mpd\u001b[0m\u001b[0;34m\u001b[0m\u001b[0;34m\u001b[0m\u001b[0m\n\u001b[0m\u001b[1;32m      3\u001b[0m \u001b[0;32mimport\u001b[0m \u001b[0mnumpy\u001b[0m \u001b[0;32mas\u001b[0m \u001b[0mnp\u001b[0m\u001b[0;34m\u001b[0m\u001b[0;34m\u001b[0m\u001b[0m\n\u001b[1;32m      4\u001b[0m \u001b[0;32mimport\u001b[0m \u001b[0mseaborn\u001b[0m \u001b[0;32mas\u001b[0m \u001b[0msns\u001b[0m\u001b[0;34m\u001b[0m\u001b[0;34m\u001b[0m\u001b[0m\n\u001b[1;32m      5\u001b[0m \u001b[0;34m\u001b[0m\u001b[0m\n",
      "\u001b[0;31mModuleNotFoundError\u001b[0m: No module named 'pandas'"
     ]
    }
   ],
   "source": [
    "import os\n",
    "import pandas as pd\n",
    "import numpy as np\n",
    "import seaborn as sns\n",
    "\n",
    "from matplotlib import pyplot as plt\n",
    "\n",
    "%matplotlib inline"
   ]
  },
  {
   "cell_type": "markdown",
   "metadata": {},
   "source": [
    "# 1.0. Monthly C02 Concentrations"
   ]
  },
  {
   "cell_type": "code",
   "execution_count": 3,
   "metadata": {
    "ExecuteTime": {
     "end_time": "2019-10-21T21:09:58.498481Z",
     "start_time": "2019-10-21T21:09:58.427211Z"
    }
   },
   "outputs": [],
   "source": [
    "data = pd.read_csv( '../../data/Monthly_CO2_Concentrations.csv', converters = {'Year': np.int32, 'Month': np.int32} )\n",
    "data = data[['CO2', 'Year', 'Month']]\n",
    "data['Date'] = data['Year'].astype( str ) + '-' + data['Month'].astype( str )"
   ]
  },
  {
   "cell_type": "code",
   "execution_count": 1,
   "metadata": {
    "ExecuteTime": {
     "end_time": "2019-11-05T10:49:55.345000Z",
     "start_time": "2019-11-05T10:49:55.204430Z"
    }
   },
   "outputs": [
    {
     "ename": "NameError",
     "evalue": "name 'data' is not defined",
     "output_type": "error",
     "traceback": [
      "\u001b[0;31m---------------------------------------------------------------------------\u001b[0m",
      "\u001b[0;31mNameError\u001b[0m                                 Traceback (most recent call last)",
      "\u001b[0;32m<ipython-input-1-304fa4ce4ebd>\u001b[0m in \u001b[0;36m<module>\u001b[0;34m\u001b[0m\n\u001b[0;32m----> 1\u001b[0;31m \u001b[0mdata\u001b[0m\u001b[0;34m.\u001b[0m\u001b[0mhead\u001b[0m\u001b[0;34m(\u001b[0m\u001b[0;34m)\u001b[0m\u001b[0;34m\u001b[0m\u001b[0;34m\u001b[0m\u001b[0m\n\u001b[0m",
      "\u001b[0;31mNameError\u001b[0m: name 'data' is not defined"
     ]
    }
   ],
   "source": [
    "data.head()"
   ]
  },
  {
   "cell_type": "code",
   "execution_count": 5,
   "metadata": {
    "ExecuteTime": {
     "end_time": "2019-10-21T21:09:58.556540Z",
     "start_time": "2019-10-21T21:09:58.535596Z"
    }
   },
   "outputs": [],
   "source": [
    "# remove all columns having missing values\n",
    "data = data.loc[ (~pd.isnull( data['CO2'] ) ) & (~pd.isnull( data['Year'] ) ) & (~pd.isnull( data['Month'] ) ) ]\n",
    "data = data.sort_values( ['Year', 'Month'] )"
   ]
  },
  {
   "cell_type": "code",
   "execution_count": 6,
   "metadata": {
    "ExecuteTime": {
     "end_time": "2019-10-21T21:09:58.596534Z",
     "start_time": "2019-10-21T21:09:58.559739Z"
    }
   },
   "outputs": [
    {
     "data": {
      "text/html": [
       "<div>\n",
       "<style scoped>\n",
       "    .dataframe tbody tr th:only-of-type {\n",
       "        vertical-align: middle;\n",
       "    }\n",
       "\n",
       "    .dataframe tbody tr th {\n",
       "        vertical-align: top;\n",
       "    }\n",
       "\n",
       "    .dataframe thead th {\n",
       "        text-align: right;\n",
       "    }\n",
       "</style>\n",
       "<table border=\"1\" class=\"dataframe\">\n",
       "  <thead>\n",
       "    <tr style=\"text-align: right;\">\n",
       "      <th></th>\n",
       "      <th>CO2</th>\n",
       "      <th>Year</th>\n",
       "      <th>Month</th>\n",
       "      <th>Date</th>\n",
       "    </tr>\n",
       "  </thead>\n",
       "  <tbody>\n",
       "    <tr>\n",
       "      <th>5</th>\n",
       "      <td>327.29</td>\n",
       "      <td>1974</td>\n",
       "      <td>0</td>\n",
       "      <td>1974-0</td>\n",
       "    </tr>\n",
       "    <tr>\n",
       "      <th>6</th>\n",
       "      <td>328.23</td>\n",
       "      <td>1974</td>\n",
       "      <td>1</td>\n",
       "      <td>1974-1</td>\n",
       "    </tr>\n",
       "    <tr>\n",
       "      <th>7</th>\n",
       "      <td>329.55</td>\n",
       "      <td>1974</td>\n",
       "      <td>2</td>\n",
       "      <td>1974-2</td>\n",
       "    </tr>\n",
       "    <tr>\n",
       "      <th>0</th>\n",
       "      <td>333.13</td>\n",
       "      <td>1974</td>\n",
       "      <td>5</td>\n",
       "      <td>1974-5</td>\n",
       "    </tr>\n",
       "    <tr>\n",
       "      <th>1</th>\n",
       "      <td>332.09</td>\n",
       "      <td>1974</td>\n",
       "      <td>6</td>\n",
       "      <td>1974-6</td>\n",
       "    </tr>\n",
       "  </tbody>\n",
       "</table>\n",
       "</div>"
      ],
      "text/plain": [
       "      CO2  Year  Month    Date\n",
       "5  327.29  1974      0  1974-0\n",
       "6  328.23  1974      1  1974-1\n",
       "7  329.55  1974      2  1974-2\n",
       "0  333.13  1974      5  1974-5\n",
       "1  332.09  1974      6  1974-6"
      ]
     },
     "execution_count": 6,
     "metadata": {},
     "output_type": "execute_result"
    }
   ],
   "source": [
    "data.head()"
   ]
  },
  {
   "cell_type": "code",
   "execution_count": 7,
   "metadata": {
    "ExecuteTime": {
     "end_time": "2019-10-21T21:09:58.999527Z",
     "start_time": "2019-10-21T21:09:58.601230Z"
    }
   },
   "outputs": [
    {
     "data": {
      "image/png": "[encoded data removed]",
      "text/plain": [
       "<Figure size 396x396 with 1 Axes>"
      ]
     },
     "metadata": {
      "needs_background": "light"
     },
     "output_type": "display_data"
    }
   ],
   "source": [
    "plt.figure( figsize=(5.5, 5.5) )\n",
    "data['CO2'].plot( color='b' )\n",
    "plt.title( 'Monthly CO2 concentrations' )\n",
    "plt.xlabel( 'Time' )\n",
    "plt.ylabel( 'CO2 concentration' )\n",
    "plt.xticks( rotation=30 );"
   ]
  },
  {
   "cell_type": "markdown",
   "metadata": {},
   "source": [
    "# 2.0. DJIA  "
   ]
  },
  {
   "cell_type": "code",
   "execution_count": 12,
   "metadata": {
    "ExecuteTime": {
     "end_time": "2019-10-21T21:11:42.457995Z",
     "start_time": "2019-10-21T21:11:42.358377Z"
    }
   },
   "outputs": [
    {
     "data": {
      "text/html": [
       "<div>\n",
       "<style scoped>\n",
       "    .dataframe tbody tr th:only-of-type {\n",
       "        vertical-align: middle;\n",
       "    }\n",
       "\n",
       "    .dataframe tbody tr th {\n",
       "        vertical-align: top;\n",
       "    }\n",
       "\n",
       "    .dataframe thead th {\n",
       "        text-align: right;\n",
       "    }\n",
       "</style>\n",
       "<table border=\"1\" class=\"dataframe\">\n",
       "  <thead>\n",
       "    <tr style=\"text-align: right;\">\n",
       "      <th></th>\n",
       "      <th>Date</th>\n",
       "      <th>Open</th>\n",
       "      <th>High</th>\n",
       "      <th>Low</th>\n",
       "      <th>Close</th>\n",
       "      <th>Adj Close</th>\n",
       "      <th>Volume</th>\n",
       "    </tr>\n",
       "  </thead>\n",
       "  <tbody>\n",
       "    <tr>\n",
       "      <th>0</th>\n",
       "      <td>2016-01-04</td>\n",
       "      <td>17405.480469</td>\n",
       "      <td>17405.480469</td>\n",
       "      <td>16957.630859</td>\n",
       "      <td>17148.939453</td>\n",
       "      <td>17148.939453</td>\n",
       "      <td>148060000</td>\n",
       "    </tr>\n",
       "    <tr>\n",
       "      <th>1</th>\n",
       "      <td>2016-01-05</td>\n",
       "      <td>17147.500000</td>\n",
       "      <td>17195.839844</td>\n",
       "      <td>17038.609375</td>\n",
       "      <td>17158.660156</td>\n",
       "      <td>17158.660156</td>\n",
       "      <td>105750000</td>\n",
       "    </tr>\n",
       "    <tr>\n",
       "      <th>2</th>\n",
       "      <td>2016-01-06</td>\n",
       "      <td>17154.830078</td>\n",
       "      <td>17154.830078</td>\n",
       "      <td>16817.619141</td>\n",
       "      <td>16906.509766</td>\n",
       "      <td>16906.509766</td>\n",
       "      <td>120250000</td>\n",
       "    </tr>\n",
       "    <tr>\n",
       "      <th>3</th>\n",
       "      <td>2016-01-07</td>\n",
       "      <td>16888.359375</td>\n",
       "      <td>16888.359375</td>\n",
       "      <td>16463.630859</td>\n",
       "      <td>16514.099609</td>\n",
       "      <td>16514.099609</td>\n",
       "      <td>176240000</td>\n",
       "    </tr>\n",
       "    <tr>\n",
       "      <th>4</th>\n",
       "      <td>2016-01-08</td>\n",
       "      <td>16519.169922</td>\n",
       "      <td>16651.890625</td>\n",
       "      <td>16314.570313</td>\n",
       "      <td>16346.450195</td>\n",
       "      <td>16346.450195</td>\n",
       "      <td>141850000</td>\n",
       "    </tr>\n",
       "  </tbody>\n",
       "</table>\n",
       "</div>"
      ],
      "text/plain": [
       "        Date          Open          High           Low         Close  \\\n",
       "0 2016-01-04  17405.480469  17405.480469  16957.630859  17148.939453   \n",
       "1 2016-01-05  17147.500000  17195.839844  17038.609375  17158.660156   \n",
       "2 2016-01-06  17154.830078  17154.830078  16817.619141  16906.509766   \n",
       "3 2016-01-07  16888.359375  16888.359375  16463.630859  16514.099609   \n",
       "4 2016-01-08  16519.169922  16651.890625  16314.570313  16346.450195   \n",
       "\n",
       "      Adj Close     Volume  \n",
       "0  17148.939453  148060000  \n",
       "1  17158.660156  105750000  \n",
       "2  16906.509766  120250000  \n",
       "3  16514.099609  176240000  \n",
       "4  16346.450195  141850000  "
      ]
     },
     "execution_count": 12,
     "metadata": {},
     "output_type": "execute_result"
    }
   ],
   "source": [
    "djia_df = pd.read_excel( '../../data/DJIA_Jan2016_Dec2016.xlsx' )\n",
    "djia_df.head() "
   ]
  },
  {
   "cell_type": "code",
   "execution_count": 15,
   "metadata": {
    "ExecuteTime": {
     "end_time": "2019-10-21T21:13:34.680102Z",
     "start_time": "2019-10-21T21:13:34.101944Z"
    }
   },
   "outputs": [
    {
     "data": {
      "text/plain": [
       "Text(0, 0.5, 'Closing Value')"
      ]
     },
     "execution_count": 15,
     "metadata": {},
     "output_type": "execute_result"
    },
    {
     "data": {
      "image/png": "[encoded data removed]",
      "text/plain": [
       "<Figure size 432x288 with 1 Axes>"
      ]
     },
     "metadata": {
      "needs_background": "light"
     },
     "output_type": "display_data"
    }
   ],
   "source": [
    "g = sns.tsplot( djia_df['Close'] )\n",
    "g.set_title( 'Dow Jones Industrial Average between Jan 2016 - Dec 2016' )\n",
    "g.set_xlabel( 'Time' )\n",
    "g.set_ylabel( 'Closing Value' )"
   ]
  },
  {
   "cell_type": "code",
   "execution_count": 25,
   "metadata": {
    "ExecuteTime": {
     "end_time": "2019-10-21T21:19:47.031162Z",
     "start_time": "2019-10-21T21:19:46.989307Z"
    }
   },
   "outputs": [],
   "source": [
    "lag = np.arange( 0, 31 )\n",
    "djia_acf = []\n",
    "for l in lag:\n",
    "    djia_acf.append( djia_df['Close'].autocorr(l) )"
   ]
  },
  {
   "cell_type": "code",
   "execution_count": 26,
   "metadata": {
    "ExecuteTime": {
     "end_time": "2019-10-21T21:19:56.832092Z",
     "start_time": "2019-10-21T21:19:56.341253Z"
    }
   },
   "outputs": [
    {
     "data": {
      "image/png": "[encoded data removed]",
      "text/plain": [
       "<Figure size 432x288 with 1 Axes>"
      ]
     },
     "metadata": {
      "needs_background": "light"
     },
     "output_type": "display_data"
    }
   ],
   "source": [
    "g = sns.pointplot( x=lag, y=djia_acf, markers='.' )\n",
    "g.set_title( 'Autocorrelation function of DJIA' );\n",
    "g.set_xlabel( 'Lag in terms of number of trading days' );\n",
    "g.set_ylabel( 'Autocorrelation function' );\n",
    "g.set_xticklabels( lag, rotation=90 );"
   ]
  },
  {
   "cell_type": "markdown",
   "metadata": {},
   "source": [
    "# CHAPTER 02\n",
    "---"
   ]
  },
  {
   "cell_type": "code",
   "execution_count": 21,
   "metadata": {
    "ExecuteTime": {
     "end_time": "2019-11-05T11:00:42.826735Z",
     "start_time": "2019-11-05T11:00:42.791345Z"
    }
   },
   "outputs": [
    {
     "ename": "ModuleNotFoundError",
     "evalue": "No module named 'matplotlib'",
     "output_type": "error",
     "traceback": [
      "\u001b[0;31m---------------------------------------------------------------------------\u001b[0m",
      "\u001b[0;31mModuleNotFoundError\u001b[0m                       Traceback (most recent call last)",
      "\u001b[0;32m<ipython-input-21-22d0d77d6f11>\u001b[0m in \u001b[0;36m<module>\u001b[0;34m\u001b[0m\n\u001b[1;32m      3\u001b[0m \u001b[0;32mimport\u001b[0m \u001b[0mnumpy\u001b[0m  \u001b[0;32mas\u001b[0m \u001b[0mnp\u001b[0m\u001b[0;34m\u001b[0m\u001b[0;34m\u001b[0m\u001b[0m\n\u001b[1;32m      4\u001b[0m \u001b[0;34m\u001b[0m\u001b[0m\n\u001b[0;32m----> 5\u001b[0;31m \u001b[0;32mfrom\u001b[0m \u001b[0mmatplotlib\u001b[0m \u001b[0;32mimport\u001b[0m \u001b[0mpyplot\u001b[0m \u001b[0;32mas\u001b[0m \u001b[0mplt\u001b[0m\u001b[0;34m\u001b[0m\u001b[0;34m\u001b[0m\u001b[0m\n\u001b[0m",
      "\u001b[0;31mModuleNotFoundError\u001b[0m: No module named 'matplotlib'"
     ]
    }
   ],
   "source": [
    "import os\n",
    "import pandas as pd\n",
    "import numpy  as np\n",
    "\n",
    "from matplotlib import pyplot as plt"
   ]
  },
  {
   "cell_type": "code",
   "execution_count": 8,
   "metadata": {
    "ExecuteTime": {
     "end_time": "2019-11-05T10:54:46.821530Z",
     "start_time": "2019-11-05T10:54:46.789713Z"
    }
   },
   "outputs": [],
   "source": [
    "df = pd.read_csv( '../data/chemical-concentration-readings.csv' ) "
   ]
  },
  {
   "cell_type": "code",
   "execution_count": 10,
   "metadata": {
    "ExecuteTime": {
     "end_time": "2019-11-05T10:55:24.700933Z",
     "start_time": "2019-11-05T10:55:24.679518Z"
    }
   },
   "outputs": [
    {
     "name": "stdout",
     "output_type": "stream",
     "text": [
      "Shape of the dataset: (197, 2)\n"
     ]
    },
    {
     "data": {
      "text/html": [
       "<div>\n",
       "<style scoped>\n",
       "    .dataframe tbody tr th:only-of-type {\n",
       "        vertical-align: middle;\n",
       "    }\n",
       "\n",
       "    .dataframe tbody tr th {\n",
       "        vertical-align: top;\n",
       "    }\n",
       "\n",
       "    .dataframe thead th {\n",
       "        text-align: right;\n",
       "    }\n",
       "</style>\n",
       "<table border=\"1\" class=\"dataframe\">\n",
       "  <thead>\n",
       "    <tr style=\"text-align: right;\">\n",
       "      <th></th>\n",
       "      <th>Timestamp</th>\n",
       "      <th>Chemical conc.</th>\n",
       "    </tr>\n",
       "  </thead>\n",
       "  <tbody>\n",
       "    <tr>\n",
       "      <th>0</th>\n",
       "      <td>1975-01-01 00:00:00</td>\n",
       "      <td>17.0</td>\n",
       "    </tr>\n",
       "    <tr>\n",
       "      <th>1</th>\n",
       "      <td>1975-01-01 02:00:00</td>\n",
       "      <td>16.6</td>\n",
       "    </tr>\n",
       "    <tr>\n",
       "      <th>2</th>\n",
       "      <td>1975-01-01 04:00:00</td>\n",
       "      <td>16.3</td>\n",
       "    </tr>\n",
       "    <tr>\n",
       "      <th>3</th>\n",
       "      <td>1975-01-01 06:00:00</td>\n",
       "      <td>16.1</td>\n",
       "    </tr>\n",
       "    <tr>\n",
       "      <th>4</th>\n",
       "      <td>1975-01-01 08:00:00</td>\n",
       "      <td>17.1</td>\n",
       "    </tr>\n",
       "    <tr>\n",
       "      <th>5</th>\n",
       "      <td>1975-01-01 10:00:00</td>\n",
       "      <td>16.9</td>\n",
       "    </tr>\n",
       "    <tr>\n",
       "      <th>6</th>\n",
       "      <td>1975-01-01 12:00:00</td>\n",
       "      <td>16.8</td>\n",
       "    </tr>\n",
       "    <tr>\n",
       "      <th>7</th>\n",
       "      <td>1975-01-01 14:00:00</td>\n",
       "      <td>17.4</td>\n",
       "    </tr>\n",
       "    <tr>\n",
       "      <th>8</th>\n",
       "      <td>1975-01-01 16:00:00</td>\n",
       "      <td>17.1</td>\n",
       "    </tr>\n",
       "    <tr>\n",
       "      <th>9</th>\n",
       "      <td>1975-01-01 18:00:00</td>\n",
       "      <td>17.0</td>\n",
       "    </tr>\n",
       "  </tbody>\n",
       "</table>\n",
       "</div>"
      ],
      "text/plain": [
       "             Timestamp  Chemical conc.\n",
       "0  1975-01-01 00:00:00            17.0\n",
       "1  1975-01-01 02:00:00            16.6\n",
       "2  1975-01-01 04:00:00            16.3\n",
       "3  1975-01-01 06:00:00            16.1\n",
       "4  1975-01-01 08:00:00            17.1\n",
       "5  1975-01-01 10:00:00            16.9\n",
       "6  1975-01-01 12:00:00            16.8\n",
       "7  1975-01-01 14:00:00            17.4\n",
       "8  1975-01-01 16:00:00            17.1\n",
       "9  1975-01-01 18:00:00            17.0"
      ]
     },
     "execution_count": 10,
     "metadata": {},
     "output_type": "execute_result"
    }
   ],
   "source": [
    "print( 'Shape of the dataset:', df.shape )\n",
    "df.head( 10 )"
   ]
  },
  {
   "cell_type": "code",
   "execution_count": 11,
   "metadata": {
    "ExecuteTime": {
     "end_time": "2019-11-05T10:56:52.592132Z",
     "start_time": "2019-11-05T10:56:52.508450Z"
    }
   },
   "outputs": [
    {
     "data": {
      "text/html": [
       "<div>\n",
       "<style scoped>\n",
       "    .dataframe tbody tr th:only-of-type {\n",
       "        vertical-align: middle;\n",
       "    }\n",
       "\n",
       "    .dataframe tbody tr th {\n",
       "        vertical-align: top;\n",
       "    }\n",
       "\n",
       "    .dataframe thead th {\n",
       "        text-align: right;\n",
       "    }\n",
       "</style>\n",
       "<table border=\"1\" class=\"dataframe\">\n",
       "  <thead>\n",
       "    <tr style=\"text-align: right;\">\n",
       "      <th></th>\n",
       "      <th>Timestamp</th>\n",
       "      <th>Chemical conc.</th>\n",
       "    </tr>\n",
       "    <tr>\n",
       "      <th>Timestamp</th>\n",
       "      <th></th>\n",
       "      <th></th>\n",
       "    </tr>\n",
       "  </thead>\n",
       "  <tbody>\n",
       "    <tr>\n",
       "      <th>1975-01-01 00:00:00</th>\n",
       "      <td>1975-01-01 00:00:00</td>\n",
       "      <td>17.0</td>\n",
       "    </tr>\n",
       "    <tr>\n",
       "      <th>1975-01-01 02:00:00</th>\n",
       "      <td>1975-01-01 02:00:00</td>\n",
       "      <td>16.6</td>\n",
       "    </tr>\n",
       "    <tr>\n",
       "      <th>1975-01-01 04:00:00</th>\n",
       "      <td>1975-01-01 04:00:00</td>\n",
       "      <td>16.3</td>\n",
       "    </tr>\n",
       "    <tr>\n",
       "      <th>1975-01-01 06:00:00</th>\n",
       "      <td>1975-01-01 06:00:00</td>\n",
       "      <td>16.1</td>\n",
       "    </tr>\n",
       "    <tr>\n",
       "      <th>1975-01-01 08:00:00</th>\n",
       "      <td>1975-01-01 08:00:00</td>\n",
       "      <td>17.1</td>\n",
       "    </tr>\n",
       "    <tr>\n",
       "      <th>1975-01-01 10:00:00</th>\n",
       "      <td>1975-01-01 10:00:00</td>\n",
       "      <td>16.9</td>\n",
       "    </tr>\n",
       "    <tr>\n",
       "      <th>1975-01-01 12:00:00</th>\n",
       "      <td>1975-01-01 12:00:00</td>\n",
       "      <td>16.8</td>\n",
       "    </tr>\n",
       "    <tr>\n",
       "      <th>1975-01-01 14:00:00</th>\n",
       "      <td>1975-01-01 14:00:00</td>\n",
       "      <td>17.4</td>\n",
       "    </tr>\n",
       "    <tr>\n",
       "      <th>1975-01-01 16:00:00</th>\n",
       "      <td>1975-01-01 16:00:00</td>\n",
       "      <td>17.1</td>\n",
       "    </tr>\n",
       "    <tr>\n",
       "      <th>1975-01-01 18:00:00</th>\n",
       "      <td>1975-01-01 18:00:00</td>\n",
       "      <td>17.0</td>\n",
       "    </tr>\n",
       "  </tbody>\n",
       "</table>\n",
       "</div>"
      ],
      "text/plain": [
       "                               Timestamp  Chemical conc.\n",
       "Timestamp                                               \n",
       "1975-01-01 00:00:00  1975-01-01 00:00:00            17.0\n",
       "1975-01-01 02:00:00  1975-01-01 02:00:00            16.6\n",
       "1975-01-01 04:00:00  1975-01-01 04:00:00            16.3\n",
       "1975-01-01 06:00:00  1975-01-01 06:00:00            16.1\n",
       "1975-01-01 08:00:00  1975-01-01 08:00:00            17.1\n",
       "1975-01-01 10:00:00  1975-01-01 10:00:00            16.9\n",
       "1975-01-01 12:00:00  1975-01-01 12:00:00            16.8\n",
       "1975-01-01 14:00:00  1975-01-01 14:00:00            17.4\n",
       "1975-01-01 16:00:00  1975-01-01 16:00:00            17.1\n",
       "1975-01-01 18:00:00  1975-01-01 18:00:00            17.0"
      ]
     },
     "execution_count": 11,
     "metadata": {},
     "output_type": "execute_result"
    }
   ],
   "source": [
    "datetime_rowid = df['Timestamp'].map( lambda t: pd.to_datetime( t, format='%Y-%m-%d %H:%M:%S' ) )\n",
    "df.index = datetime_rowid\n",
    "df.head( 10 )"
   ]
  },
  {
   "cell_type": "code",
   "execution_count": 12,
   "metadata": {
    "ExecuteTime": {
     "end_time": "2019-11-05T10:57:34.881427Z",
     "start_time": "2019-11-05T10:57:34.862379Z"
    }
   },
   "outputs": [],
   "source": [
    "daily = df['Chemical conc.'].resample( 'D' )\n",
    "daily_mean = daily.mean()"
   ]
  },
  {
   "cell_type": "code",
   "execution_count": 13,
   "metadata": {
    "ExecuteTime": {
     "end_time": "2019-11-05T10:58:32.164263Z",
     "start_time": "2019-11-05T10:58:32.113953Z"
    }
   },
   "outputs": [
    {
     "ename": "NameError",
     "evalue": "name 'plt' is not defined",
     "output_type": "error",
     "traceback": [
      "\u001b[0;31m---------------------------------------------------------------------------\u001b[0m",
      "\u001b[0;31mNameError\u001b[0m                                 Traceback (most recent call last)",
      "\u001b[0;32m<ipython-input-13-3aab590581f1>\u001b[0m in \u001b[0;36m<module>\u001b[0;34m\u001b[0m\n\u001b[0;32m----> 1\u001b[0;31m \u001b[0mfig\u001b[0m \u001b[0;34m=\u001b[0m \u001b[0mplt\u001b[0m\u001b[0;34m.\u001b[0m\u001b[0mfigure\u001b[0m\u001b[0;34m(\u001b[0m \u001b[0mfigsize\u001b[0m\u001b[0;34m=\u001b[0m\u001b[0;34m(\u001b[0m\u001b[0;36m5.5\u001b[0m\u001b[0;34m,\u001b[0m \u001b[0;36m5.5\u001b[0m\u001b[0;34m)\u001b[0m \u001b[0;34m)\u001b[0m\u001b[0;34m\u001b[0m\u001b[0;34m\u001b[0m\u001b[0m\n\u001b[0m\u001b[1;32m      2\u001b[0m \u001b[0max\u001b[0m \u001b[0;34m=\u001b[0m \u001b[0mfig\u001b[0m\u001b[0;34m.\u001b[0m\u001b[0madd_subplot\u001b[0m\u001b[0;34m(\u001b[0m \u001b[0;36m1\u001b[0m\u001b[0;34m,\u001b[0m \u001b[0;36m1\u001b[0m\u001b[0;34m,\u001b[0m \u001b[0;36m1\u001b[0m \u001b[0;34m)\u001b[0m\u001b[0;34m\u001b[0m\u001b[0;34m\u001b[0m\u001b[0m\n\u001b[1;32m      3\u001b[0m \u001b[0mdf\u001b[0m\u001b[0;34m[\u001b[0m\u001b[0;34m'Chemical conc.'\u001b[0m\u001b[0;34m]\u001b[0m\u001b[0;34m.\u001b[0m\u001b[0mplot\u001b[0m\u001b[0;34m(\u001b[0m \u001b[0max\u001b[0m\u001b[0;34m=\u001b[0m\u001b[0max\u001b[0m\u001b[0;34m,\u001b[0m \u001b[0mcolor\u001b[0m\u001b[0;34m=\u001b[0m\u001b[0;34m'b'\u001b[0m \u001b[0;34m)\u001b[0m\u001b[0;34m\u001b[0m\u001b[0;34m\u001b[0m\u001b[0m\n\u001b[1;32m      4\u001b[0m \u001b[0mdaily_mean\u001b[0m\u001b[0;34m.\u001b[0m\u001b[0mplot\u001b[0m\u001b[0;34m(\u001b[0m \u001b[0max\u001b[0m\u001b[0;34m=\u001b[0m\u001b[0max\u001b[0m\u001b[0;34m,\u001b[0m \u001b[0mcolor\u001b[0m\u001b[0;34m=\u001b[0m\u001b[0;34m'r'\u001b[0m \u001b[0;34m)\u001b[0m\u001b[0;34m\u001b[0m\u001b[0;34m\u001b[0m\u001b[0m\n",
      "\u001b[0;31mNameError\u001b[0m: name 'plt' is not defined"
     ]
    }
   ],
   "source": [
    "fig = plt.figure( figsize=(5.5, 5.5) )\n",
    "ax = fig.add_subplot( 1, 1, 1 )\n",
    "df['Chemical conc.'].plot( ax=ax, color='b' )\n",
    "daily_mean.plot( ax=ax, color='r' )"
   ]
  },
  {
   "cell_type": "code",
   "execution_count": 15,
   "metadata": {
    "ExecuteTime": {
     "end_time": "2019-11-05T10:59:39.890263Z",
     "start_time": "2019-11-05T10:59:27.676682Z"
    }
   },
   "outputs": [
    {
     "name": "stdout",
     "output_type": "stream",
     "text": [
      "Collecting matplotlib\n",
      "\u001b[?25l  Downloading https://files.pythonhosted.org/packages/12/d1/7b12cd79c791348cb0c78ce6e7d16bd72992f13c9f1e8e43d2725a6d8adf/matplotlib-3.1.1.tar.gz (37.8MB)\n",
      "\u001b[K     |████████████████████████████████| 37.8MB 510kB/s  eta 0:00:01    |███████████████▌                | 18.3MB 3.7MB/s eta 0:00:06\n",
      "\u001b[?25hCollecting cycler>=0.10 (from matplotlib)\n",
      "  Downloading https://files.pythonhosted.org/packages/f7/d2/e07d3ebb2bd7af696440ce7e754c59dd546ffe1bbe732c8ab68b9c834e61/cycler-0.10.0-py2.py3-none-any.whl\n",
      "Collecting kiwisolver>=1.0.1 (from matplotlib)\n",
      "\u001b[?25l  Downloading https://files.pythonhosted.org/packages/22/a7/8f7706e8c1e847b9816bbb2c4c341e2ae9568653f17956f839574ed62815/kiwisolver-1.1.0-cp38-cp38-macosx_10_9_x86_64.whl (61kB)\n",
      "\u001b[K     |████████████████████████████████| 71kB 14.4MB/s eta 0:00:01\n",
      "\u001b[?25hCollecting pyparsing!=2.0.4,!=2.1.2,!=2.1.6,>=2.0.1 (from matplotlib)\n",
      "\u001b[?25l  Downloading https://files.pythonhosted.org/packages/f3/3e/71a8ae0368838ef328ba4470cb73813df77ba1ede0edb758fe01a6b39d2b/pyparsing-2.4.3-py2.py3-none-any.whl (67kB)\n",
      "\u001b[K     |████████████████████████████████| 71kB 14.3MB/s eta 0:00:01\n",
      "\u001b[?25hRequirement already satisfied: python-dateutil>=2.1 in /Users/meigarom/.pyenv/versions/3.8.0/envs/TimeSeriesAcademy/lib/python3.8/site-packages (from matplotlib) (2.8.1)\n",
      "Requirement already satisfied: numpy>=1.11 in /Users/meigarom/.pyenv/versions/3.8.0/envs/TimeSeriesAcademy/lib/python3.8/site-packages (from matplotlib) (1.17.3)\n",
      "Requirement already satisfied: six in /Users/meigarom/.pyenv/versions/3.8.0/envs/TimeSeriesAcademy/lib/python3.8/site-packages (from cycler>=0.10->matplotlib) (1.12.0)\n",
      "Requirement already satisfied: setuptools in /Users/meigarom/.pyenv/versions/3.8.0/envs/TimeSeriesAcademy/lib/python3.8/site-packages (from kiwisolver>=1.0.1->matplotlib) (41.2.0)\n",
      "Installing collected packages: cycler, kiwisolver, pyparsing, matplotlib\n",
      "  Running setup.py install for matplotlib ... \u001b[?25lerror\n",
      "\u001b[31m    ERROR: Command errored out with exit status 1:\n",
      "     command: /Users/meigarom/.pyenv/versions/3.8.0/envs/TimeSeriesAcademy/bin/python -u -c 'import sys, setuptools, tokenize; sys.argv[0] = '\"'\"'/private/var/folders/rq/5gngl6xn0357vjwv74fd5q7m0000gn/T/pip-install-o8ddp1z1/matplotlib/setup.py'\"'\"'; __file__='\"'\"'/private/var/folders/rq/5gngl6xn0357vjwv74fd5q7m0000gn/T/pip-install-o8ddp1z1/matplotlib/setup.py'\"'\"';f=getattr(tokenize, '\"'\"'open'\"'\"', open)(__file__);code=f.read().replace('\"'\"'\\r\\n'\"'\"', '\"'\"'\\n'\"'\"');f.close();exec(compile(code, __file__, '\"'\"'exec'\"'\"'))' install --record /private/var/folders/rq/5gngl6xn0357vjwv74fd5q7m0000gn/T/pip-record-mg0ttuw0/install-record.txt --single-version-externally-managed --compile --install-headers /Users/meigarom/.pyenv/versions/3.8.0/envs/TimeSeriesAcademy/include/site/python3.8/matplotlib\n",
      "         cwd: /private/var/folders/rq/5gngl6xn0357vjwv74fd5q7m0000gn/T/pip-install-o8ddp1z1/matplotlib/\n",
      "    Complete output (506 lines):\n",
      "    ================================================================================\n",
      "    Edit setup.cfg to change the build options\n",
      "    \n",
      "    BUILDING MATPLOTLIB\n",
      "      matplotlib: yes [3.1.1]\n",
      "          python: yes [3.8.0 (default, Oct 31 2019, 07:13:38)  [Clang 11.0.0\n",
      "                      (clang-1100.0.33.8)]]\n",
      "        platform: yes [darwin]\n",
      "    \n",
      "    OPTIONAL SUBPACKAGES\n",
      "     sample_data: yes [installing]\n",
      "           tests: no  [skipping due to configuration]\n",
      "    \n",
      "    OPTIONAL BACKEND EXTENSIONS\n",
      "             agg: yes [installing]\n",
      "           tkagg: yes [installing; run-time loading from Python Tcl/Tk]\n",
      "          macosx: yes [installing, darwin]\n",
      "    \n",
      "    OPTIONAL PACKAGE DATA\n",
      "            dlls: no  [skipping due to configuration]\n",
      "    \n",
      "    running install\n",
      "    running build\n",
      "    running build_py\n",
      "    creating build\n",
      "    creating build/lib.macosx-10.15-x86_64-3.8\n",
      "    copying lib/pylab.py -> build/lib.macosx-10.15-x86_64-3.8\n",
      "    creating build/lib.macosx-10.15-x86_64-3.8/mpl_toolkits\n",
      "    copying lib/mpl_toolkits/__init__.py -> build/lib.macosx-10.15-x86_64-3.8/mpl_toolkits\n",
      "    creating build/lib.macosx-10.15-x86_64-3.8/matplotlib\n",
      "    copying lib/matplotlib/hatch.py -> build/lib.macosx-10.15-x86_64-3.8/matplotlib\n",
      "    copying lib/matplotlib/transforms.py -> build/lib.macosx-10.15-x86_64-3.8/matplotlib\n",
      "    copying lib/matplotlib/legend_handler.py -> build/lib.macosx-10.15-x86_64-3.8/matplotlib\n",
      "    copying lib/matplotlib/axis.py -> build/lib.macosx-10.15-x86_64-3.8/matplotlib\n",
      "    copying lib/matplotlib/textpath.py -> build/lib.macosx-10.15-x86_64-3.8/matplotlib\n",
      "    copying lib/matplotlib/quiver.py -> build/lib.macosx-10.15-x86_64-3.8/matplotlib\n",
      "    copying lib/matplotlib/backend_bases.py -> build/lib.macosx-10.15-x86_64-3.8/matplotlib\n",
      "    copying lib/matplotlib/units.py -> build/lib.macosx-10.15-x86_64-3.8/matplotlib\n",
      "    copying lib/matplotlib/pylab.py -> build/lib.macosx-10.15-x86_64-3.8/matplotlib\n",
      "    copying lib/matplotlib/colorbar.py -> build/lib.macosx-10.15-x86_64-3.8/matplotlib\n",
      "    copying lib/matplotlib/_version.py -> build/lib.macosx-10.15-x86_64-3.8/matplotlib\n",
      "    copying lib/matplotlib/_cm.py -> build/lib.macosx-10.15-x86_64-3.8/matplotlib\n",
      "    copying lib/matplotlib/backend_managers.py -> build/lib.macosx-10.15-x86_64-3.8/matplotlib\n",
      "    copying lib/matplotlib/mathtext.py -> build/lib.macosx-10.15-x86_64-3.8/matplotlib\n",
      "    copying lib/matplotlib/font_manager.py -> build/lib.macosx-10.15-x86_64-3.8/matplotlib\n",
      "    copying lib/matplotlib/bezier.py -> build/lib.macosx-10.15-x86_64-3.8/matplotlib\n",
      "    copying lib/matplotlib/cm.py -> build/lib.macosx-10.15-x86_64-3.8/matplotlib\n",
      "    copying lib/matplotlib/legend.py -> build/lib.macosx-10.15-x86_64-3.8/matplotlib\n",
      "    copying lib/matplotlib/figure.py -> build/lib.macosx-10.15-x86_64-3.8/matplotlib\n",
      "    copying lib/matplotlib/__init__.py -> build/lib.macosx-10.15-x86_64-3.8/matplotlib\n",
      "    copying lib/matplotlib/offsetbox.py -> build/lib.macosx-10.15-x86_64-3.8/matplotlib\n",
      "    copying lib/matplotlib/tight_bbox.py -> build/lib.macosx-10.15-x86_64-3.8/matplotlib\n",
      "    copying lib/matplotlib/container.py -> build/lib.macosx-10.15-x86_64-3.8/matplotlib\n",
      "    copying lib/matplotlib/gridspec.py -> build/lib.macosx-10.15-x86_64-3.8/matplotlib\n",
      "    copying lib/matplotlib/lines.py -> build/lib.macosx-10.15-x86_64-3.8/matplotlib\n",
      "    copying lib/matplotlib/widgets.py -> build/lib.macosx-10.15-x86_64-3.8/matplotlib\n",
      "    copying lib/matplotlib/blocking_input.py -> build/lib.macosx-10.15-x86_64-3.8/matplotlib\n",
      "    copying lib/matplotlib/dviread.py -> build/lib.macosx-10.15-x86_64-3.8/matplotlib\n",
      "    copying lib/matplotlib/animation.py -> build/lib.macosx-10.15-x86_64-3.8/matplotlib\n",
      "    copying lib/matplotlib/type1font.py -> build/lib.macosx-10.15-x86_64-3.8/matplotlib\n",
      "    copying lib/matplotlib/_mathtext_data.py -> build/lib.macosx-10.15-x86_64-3.8/matplotlib\n",
      "    copying lib/matplotlib/artist.py -> build/lib.macosx-10.15-x86_64-3.8/matplotlib\n",
      "    copying lib/matplotlib/backend_tools.py -> build/lib.macosx-10.15-x86_64-3.8/matplotlib\n",
      "    copying lib/matplotlib/docstring.py -> build/lib.macosx-10.15-x86_64-3.8/matplotlib\n",
      "    copying lib/matplotlib/_color_data.py -> build/lib.macosx-10.15-x86_64-3.8/matplotlib\n",
      "    copying lib/matplotlib/texmanager.py -> build/lib.macosx-10.15-x86_64-3.8/matplotlib\n",
      "    copying lib/matplotlib/afm.py -> build/lib.macosx-10.15-x86_64-3.8/matplotlib\n",
      "    copying lib/matplotlib/patches.py -> build/lib.macosx-10.15-x86_64-3.8/matplotlib\n",
      "    copying lib/matplotlib/stackplot.py -> build/lib.macosx-10.15-x86_64-3.8/matplotlib\n",
      "    copying lib/matplotlib/collections.py -> build/lib.macosx-10.15-x86_64-3.8/matplotlib\n",
      "    copying lib/matplotlib/spines.py -> build/lib.macosx-10.15-x86_64-3.8/matplotlib\n",
      "    copying lib/matplotlib/text.py -> build/lib.macosx-10.15-x86_64-3.8/matplotlib\n",
      "    copying lib/matplotlib/markers.py -> build/lib.macosx-10.15-x86_64-3.8/matplotlib\n",
      "    copying lib/matplotlib/mlab.py -> build/lib.macosx-10.15-x86_64-3.8/matplotlib\n",
      "    copying lib/matplotlib/fontconfig_pattern.py -> build/lib.macosx-10.15-x86_64-3.8/matplotlib\n",
      "    copying lib/matplotlib/_pylab_helpers.py -> build/lib.macosx-10.15-x86_64-3.8/matplotlib\n",
      "    copying lib/matplotlib/tight_layout.py -> build/lib.macosx-10.15-x86_64-3.8/matplotlib\n",
      "    copying lib/matplotlib/_cm_listed.py -> build/lib.macosx-10.15-x86_64-3.8/matplotlib\n",
      "    copying lib/matplotlib/dates.py -> build/lib.macosx-10.15-x86_64-3.8/matplotlib\n",
      "    copying lib/matplotlib/table.py -> build/lib.macosx-10.15-x86_64-3.8/matplotlib\n",
      "    copying lib/matplotlib/_animation_data.py -> build/lib.macosx-10.15-x86_64-3.8/matplotlib\n",
      "    copying lib/matplotlib/pyplot.py -> build/lib.macosx-10.15-x86_64-3.8/matplotlib\n",
      "    copying lib/matplotlib/rcsetup.py -> build/lib.macosx-10.15-x86_64-3.8/matplotlib\n",
      "    copying lib/matplotlib/ticker.py -> build/lib.macosx-10.15-x86_64-3.8/matplotlib\n",
      "    copying lib/matplotlib/path.py -> build/lib.macosx-10.15-x86_64-3.8/matplotlib\n",
      "    copying lib/matplotlib/contour.py -> build/lib.macosx-10.15-x86_64-3.8/matplotlib\n",
      "    copying lib/matplotlib/_layoutbox.py -> build/lib.macosx-10.15-x86_64-3.8/matplotlib\n",
      "    copying lib/matplotlib/image.py -> build/lib.macosx-10.15-x86_64-3.8/matplotlib\n",
      "    copying lib/matplotlib/scale.py -> build/lib.macosx-10.15-x86_64-3.8/matplotlib\n",
      "    copying lib/matplotlib/category.py -> build/lib.macosx-10.15-x86_64-3.8/matplotlib\n",
      "    copying lib/matplotlib/_constrained_layout.py -> build/lib.macosx-10.15-x86_64-3.8/matplotlib\n",
      "    copying lib/matplotlib/sankey.py -> build/lib.macosx-10.15-x86_64-3.8/matplotlib\n",
      "    copying lib/matplotlib/patheffects.py -> build/lib.macosx-10.15-x86_64-3.8/matplotlib\n",
      "    copying lib/matplotlib/streamplot.py -> build/lib.macosx-10.15-x86_64-3.8/matplotlib\n",
      "    copying lib/matplotlib/colors.py -> build/lib.macosx-10.15-x86_64-3.8/matplotlib\n",
      "    creating build/lib.macosx-10.15-x86_64-3.8/mpl_toolkits/axes_grid1\n",
      "    copying lib/mpl_toolkits/axes_grid1/inset_locator.py -> build/lib.macosx-10.15-x86_64-3.8/mpl_toolkits/axes_grid1\n",
      "    copying lib/mpl_toolkits/axes_grid1/axes_grid.py -> build/lib.macosx-10.15-x86_64-3.8/mpl_toolkits/axes_grid1\n",
      "    copying lib/mpl_toolkits/axes_grid1/parasite_axes.py -> build/lib.macosx-10.15-x86_64-3.8/mpl_toolkits/axes_grid1\n",
      "    copying lib/mpl_toolkits/axes_grid1/colorbar.py -> build/lib.macosx-10.15-x86_64-3.8/mpl_toolkits/axes_grid1\n",
      "    copying lib/mpl_toolkits/axes_grid1/anchored_artists.py -> build/lib.macosx-10.15-x86_64-3.8/mpl_toolkits/axes_grid1\n",
      "    copying lib/mpl_toolkits/axes_grid1/__init__.py -> build/lib.macosx-10.15-x86_64-3.8/mpl_toolkits/axes_grid1\n",
      "    copying lib/mpl_toolkits/axes_grid1/axes_size.py -> build/lib.macosx-10.15-x86_64-3.8/mpl_toolkits/axes_grid1\n",
      "    copying lib/mpl_toolkits/axes_grid1/mpl_axes.py -> build/lib.macosx-10.15-x86_64-3.8/mpl_toolkits/axes_grid1\n",
      "    copying lib/mpl_toolkits/axes_grid1/axes_rgb.py -> build/lib.macosx-10.15-x86_64-3.8/mpl_toolkits/axes_grid1\n",
      "    copying lib/mpl_toolkits/axes_grid1/axes_divider.py -> build/lib.macosx-10.15-x86_64-3.8/mpl_toolkits/axes_grid1\n",
      "    creating build/lib.macosx-10.15-x86_64-3.8/mpl_toolkits/axes_grid\n",
      "    copying lib/mpl_toolkits/axes_grid/inset_locator.py -> build/lib.macosx-10.15-x86_64-3.8/mpl_toolkits/axes_grid\n",
      "    copying lib/mpl_toolkits/axes_grid/axislines.py -> build/lib.macosx-10.15-x86_64-3.8/mpl_toolkits/axes_grid\n",
      "    copying lib/mpl_toolkits/axes_grid/axes_grid.py -> build/lib.macosx-10.15-x86_64-3.8/mpl_toolkits/axes_grid\n",
      "    copying lib/mpl_toolkits/axes_grid/grid_finder.py -> build/lib.macosx-10.15-x86_64-3.8/mpl_toolkits/axes_grid\n",
      "    copying lib/mpl_toolkits/axes_grid/parasite_axes.py -> build/lib.macosx-10.15-x86_64-3.8/mpl_toolkits/axes_grid\n",
      "    copying lib/mpl_toolkits/axes_grid/colorbar.py -> build/lib.macosx-10.15-x86_64-3.8/mpl_toolkits/axes_grid\n",
      "    copying lib/mpl_toolkits/axes_grid/anchored_artists.py -> build/lib.macosx-10.15-x86_64-3.8/mpl_toolkits/axes_grid\n",
      "    copying lib/mpl_toolkits/axes_grid/axis_artist.py -> build/lib.macosx-10.15-x86_64-3.8/mpl_toolkits/axes_grid\n",
      "    copying lib/mpl_toolkits/axes_grid/axisline_style.py -> build/lib.macosx-10.15-x86_64-3.8/mpl_toolkits/axes_grid\n",
      "    copying lib/mpl_toolkits/axes_grid/__init__.py -> build/lib.macosx-10.15-x86_64-3.8/mpl_toolkits/axes_grid\n",
      "    copying lib/mpl_toolkits/axes_grid/axes_size.py -> build/lib.macosx-10.15-x86_64-3.8/mpl_toolkits/axes_grid\n",
      "    copying lib/mpl_toolkits/axes_grid/angle_helper.py -> build/lib.macosx-10.15-x86_64-3.8/mpl_toolkits/axes_grid\n",
      "    copying lib/mpl_toolkits/axes_grid/grid_helper_curvelinear.py -> build/lib.macosx-10.15-x86_64-3.8/mpl_toolkits/axes_grid\n",
      "    copying lib/mpl_toolkits/axes_grid/clip_path.py -> build/lib.macosx-10.15-x86_64-3.8/mpl_toolkits/axes_grid\n",
      "    copying lib/mpl_toolkits/axes_grid/floating_axes.py -> build/lib.macosx-10.15-x86_64-3.8/mpl_toolkits/axes_grid\n",
      "    copying lib/mpl_toolkits/axes_grid/axes_rgb.py -> build/lib.macosx-10.15-x86_64-3.8/mpl_toolkits/axes_grid\n",
      "    copying lib/mpl_toolkits/axes_grid/axes_divider.py -> build/lib.macosx-10.15-x86_64-3.8/mpl_toolkits/axes_grid\n",
      "    creating build/lib.macosx-10.15-x86_64-3.8/mpl_toolkits/mplot3d\n",
      "    copying lib/mpl_toolkits/mplot3d/proj3d.py -> build/lib.macosx-10.15-x86_64-3.8/mpl_toolkits/mplot3d\n",
      "    copying lib/mpl_toolkits/mplot3d/__init__.py -> build/lib.macosx-10.15-x86_64-3.8/mpl_toolkits/mplot3d\n",
      "    copying lib/mpl_toolkits/mplot3d/axes3d.py -> build/lib.macosx-10.15-x86_64-3.8/mpl_toolkits/mplot3d\n",
      "    copying lib/mpl_toolkits/mplot3d/axis3d.py -> build/lib.macosx-10.15-x86_64-3.8/mpl_toolkits/mplot3d\n",
      "    copying lib/mpl_toolkits/mplot3d/art3d.py -> build/lib.macosx-10.15-x86_64-3.8/mpl_toolkits/mplot3d\n",
      "    creating build/lib.macosx-10.15-x86_64-3.8/mpl_toolkits/axisartist\n",
      "    copying lib/mpl_toolkits/axisartist/axislines.py -> build/lib.macosx-10.15-x86_64-3.8/mpl_toolkits/axisartist\n",
      "    copying lib/mpl_toolkits/axisartist/axes_grid.py -> build/lib.macosx-10.15-x86_64-3.8/mpl_toolkits/axisartist\n",
      "    copying lib/mpl_toolkits/axisartist/grid_finder.py -> build/lib.macosx-10.15-x86_64-3.8/mpl_toolkits/axisartist\n",
      "    copying lib/mpl_toolkits/axisartist/parasite_axes.py -> build/lib.macosx-10.15-x86_64-3.8/mpl_toolkits/axisartist\n",
      "    copying lib/mpl_toolkits/axisartist/axis_artist.py -> build/lib.macosx-10.15-x86_64-3.8/mpl_toolkits/axisartist\n",
      "    copying lib/mpl_toolkits/axisartist/axisline_style.py -> build/lib.macosx-10.15-x86_64-3.8/mpl_toolkits/axisartist\n",
      "    copying lib/mpl_toolkits/axisartist/__init__.py -> build/lib.macosx-10.15-x86_64-3.8/mpl_toolkits/axisartist\n",
      "    copying lib/mpl_toolkits/axisartist/angle_helper.py -> build/lib.macosx-10.15-x86_64-3.8/mpl_toolkits/axisartist\n",
      "    copying lib/mpl_toolkits/axisartist/grid_helper_curvelinear.py -> build/lib.macosx-10.15-x86_64-3.8/mpl_toolkits/axisartist\n",
      "    copying lib/mpl_toolkits/axisartist/clip_path.py -> build/lib.macosx-10.15-x86_64-3.8/mpl_toolkits/axisartist\n",
      "    copying lib/mpl_toolkits/axisartist/floating_axes.py -> build/lib.macosx-10.15-x86_64-3.8/mpl_toolkits/axisartist\n",
      "    copying lib/mpl_toolkits/axisartist/axes_rgb.py -> build/lib.macosx-10.15-x86_64-3.8/mpl_toolkits/axisartist\n",
      "    copying lib/mpl_toolkits/axisartist/axes_divider.py -> build/lib.macosx-10.15-x86_64-3.8/mpl_toolkits/axisartist\n",
      "    creating build/lib.macosx-10.15-x86_64-3.8/matplotlib/compat\n",
      "    copying lib/matplotlib/compat/subprocess.py -> build/lib.macosx-10.15-x86_64-3.8/matplotlib/compat\n",
      "    copying lib/matplotlib/compat/__init__.py -> build/lib.macosx-10.15-x86_64-3.8/matplotlib/compat\n",
      "    creating build/lib.macosx-10.15-x86_64-3.8/matplotlib/tri\n",
      "    copying lib/matplotlib/tri/trirefine.py -> build/lib.macosx-10.15-x86_64-3.8/matplotlib/tri\n",
      "    copying lib/matplotlib/tri/tripcolor.py -> build/lib.macosx-10.15-x86_64-3.8/matplotlib/tri\n",
      "    copying lib/matplotlib/tri/trifinder.py -> build/lib.macosx-10.15-x86_64-3.8/matplotlib/tri\n",
      "    copying lib/matplotlib/tri/__init__.py -> build/lib.macosx-10.15-x86_64-3.8/matplotlib/tri\n",
      "    copying lib/matplotlib/tri/triplot.py -> build/lib.macosx-10.15-x86_64-3.8/matplotlib/tri\n",
      "    copying lib/matplotlib/tri/tritools.py -> build/lib.macosx-10.15-x86_64-3.8/matplotlib/tri\n",
      "    copying lib/matplotlib/tri/tricontour.py -> build/lib.macosx-10.15-x86_64-3.8/matplotlib/tri\n",
      "    copying lib/matplotlib/tri/triangulation.py -> build/lib.macosx-10.15-x86_64-3.8/matplotlib/tri\n",
      "    copying lib/matplotlib/tri/triinterpolate.py -> build/lib.macosx-10.15-x86_64-3.8/matplotlib/tri\n",
      "    creating build/lib.macosx-10.15-x86_64-3.8/matplotlib/axes\n",
      "    copying lib/matplotlib/axes/_axes.py -> build/lib.macosx-10.15-x86_64-3.8/matplotlib/axes\n",
      "    copying lib/matplotlib/axes/_base.py -> build/lib.macosx-10.15-x86_64-3.8/matplotlib/axes\n",
      "    copying lib/matplotlib/axes/_subplots.py -> build/lib.macosx-10.15-x86_64-3.8/matplotlib/axes\n",
      "    copying lib/matplotlib/axes/__init__.py -> build/lib.macosx-10.15-x86_64-3.8/matplotlib/axes\n",
      "    copying lib/matplotlib/axes/_secondary_axes.py -> build/lib.macosx-10.15-x86_64-3.8/matplotlib/axes\n",
      "    creating build/lib.macosx-10.15-x86_64-3.8/matplotlib/sphinxext\n",
      "    copying lib/matplotlib/sphinxext/__init__.py -> build/lib.macosx-10.15-x86_64-3.8/matplotlib/sphinxext\n",
      "    copying lib/matplotlib/sphinxext/mathmpl.py -> build/lib.macosx-10.15-x86_64-3.8/matplotlib/sphinxext\n",
      "    copying lib/matplotlib/sphinxext/plot_directive.py -> build/lib.macosx-10.15-x86_64-3.8/matplotlib/sphinxext\n",
      "    creating build/lib.macosx-10.15-x86_64-3.8/matplotlib/cbook\n",
      "    copying lib/matplotlib/cbook/deprecation.py -> build/lib.macosx-10.15-x86_64-3.8/matplotlib/cbook\n",
      "    copying lib/matplotlib/cbook/__init__.py -> build/lib.macosx-10.15-x86_64-3.8/matplotlib/cbook\n",
      "    creating build/lib.macosx-10.15-x86_64-3.8/matplotlib/backends\n",
      "    copying lib/matplotlib/backends/backend_template.py -> build/lib.macosx-10.15-x86_64-3.8/matplotlib/backends\n",
      "    copying lib/matplotlib/backends/backend_qt4agg.py -> build/lib.macosx-10.15-x86_64-3.8/matplotlib/backends\n",
      "    copying lib/matplotlib/backends/backend_gtk3cairo.py -> build/lib.macosx-10.15-x86_64-3.8/matplotlib/backends\n",
      "    copying lib/matplotlib/backends/backend_tkagg.py -> build/lib.macosx-10.15-x86_64-3.8/matplotlib/backends\n",
      "    copying lib/matplotlib/backends/wx_compat.py -> build/lib.macosx-10.15-x86_64-3.8/matplotlib/backends\n",
      "    copying lib/matplotlib/backends/backend_qt5agg.py -> build/lib.macosx-10.15-x86_64-3.8/matplotlib/backends\n",
      "    copying lib/matplotlib/backends/backend_qt5.py -> build/lib.macosx-10.15-x86_64-3.8/matplotlib/backends\n",
      "    copying lib/matplotlib/backends/backend_gtk3agg.py -> build/lib.macosx-10.15-x86_64-3.8/matplotlib/backends\n",
      "    copying lib/matplotlib/backends/backend_cairo.py -> build/lib.macosx-10.15-x86_64-3.8/matplotlib/backends\n",
      "    copying lib/matplotlib/backends/backend_pdf.py -> build/lib.macosx-10.15-x86_64-3.8/matplotlib/backends\n",
      "    copying lib/matplotlib/backends/backend_wxagg.py -> build/lib.macosx-10.15-x86_64-3.8/matplotlib/backends\n",
      "    copying lib/matplotlib/backends/backend_pgf.py -> build/lib.macosx-10.15-x86_64-3.8/matplotlib/backends\n",
      "    copying lib/matplotlib/backends/backend_mixed.py -> build/lib.macosx-10.15-x86_64-3.8/matplotlib/backends\n",
      "    copying lib/matplotlib/backends/backend_macosx.py -> build/lib.macosx-10.15-x86_64-3.8/matplotlib/backends\n",
      "    copying lib/matplotlib/backends/windowing.py -> build/lib.macosx-10.15-x86_64-3.8/matplotlib/backends\n",
      "    copying lib/matplotlib/backends/__init__.py -> build/lib.macosx-10.15-x86_64-3.8/matplotlib/backends\n",
      "    copying lib/matplotlib/backends/backend_qt4.py -> build/lib.macosx-10.15-x86_64-3.8/matplotlib/backends\n",
      "    copying lib/matplotlib/backends/backend_tkcairo.py -> build/lib.macosx-10.15-x86_64-3.8/matplotlib/backends\n",
      "    copying lib/matplotlib/backends/backend_qt4cairo.py -> build/lib.macosx-10.15-x86_64-3.8/matplotlib/backends\n",
      "    copying lib/matplotlib/backends/backend_gtk3.py -> build/lib.macosx-10.15-x86_64-3.8/matplotlib/backends\n",
      "    copying lib/matplotlib/backends/backend_wxcairo.py -> build/lib.macosx-10.15-x86_64-3.8/matplotlib/backends\n",
      "    copying lib/matplotlib/backends/backend_nbagg.py -> build/lib.macosx-10.15-x86_64-3.8/matplotlib/backends\n",
      "    copying lib/matplotlib/backends/backend_webagg_core.py -> build/lib.macosx-10.15-x86_64-3.8/matplotlib/backends\n",
      "    copying lib/matplotlib/backends/backend_wx.py -> build/lib.macosx-10.15-x86_64-3.8/matplotlib/backends\n",
      "    copying lib/matplotlib/backends/backend_qt5cairo.py -> build/lib.macosx-10.15-x86_64-3.8/matplotlib/backends\n",
      "    copying lib/matplotlib/backends/_backend_tk.py -> build/lib.macosx-10.15-x86_64-3.8/matplotlib/backends\n",
      "    copying lib/matplotlib/backends/qt_compat.py -> build/lib.macosx-10.15-x86_64-3.8/matplotlib/backends\n",
      "    copying lib/matplotlib/backends/backend_svg.py -> build/lib.macosx-10.15-x86_64-3.8/matplotlib/backends\n",
      "    copying lib/matplotlib/backends/_backend_pdf_ps.py -> build/lib.macosx-10.15-x86_64-3.8/matplotlib/backends\n",
      "    copying lib/matplotlib/backends/backend_webagg.py -> build/lib.macosx-10.15-x86_64-3.8/matplotlib/backends\n",
      "    copying lib/matplotlib/backends/tkagg.py -> build/lib.macosx-10.15-x86_64-3.8/matplotlib/backends\n",
      "    copying lib/matplotlib/backends/backend_ps.py -> build/lib.macosx-10.15-x86_64-3.8/matplotlib/backends\n",
      "    copying lib/matplotlib/backends/backend_agg.py -> build/lib.macosx-10.15-x86_64-3.8/matplotlib/backends\n",
      "    creating build/lib.macosx-10.15-x86_64-3.8/matplotlib/style\n",
      "    copying lib/matplotlib/style/__init__.py -> build/lib.macosx-10.15-x86_64-3.8/matplotlib/style\n",
      "    copying lib/matplotlib/style/core.py -> build/lib.macosx-10.15-x86_64-3.8/matplotlib/style\n",
      "    creating build/lib.macosx-10.15-x86_64-3.8/matplotlib/projections\n",
      "    copying lib/matplotlib/projections/geo.py -> build/lib.macosx-10.15-x86_64-3.8/matplotlib/projections\n",
      "    copying lib/matplotlib/projections/polar.py -> build/lib.macosx-10.15-x86_64-3.8/matplotlib/projections\n",
      "    copying lib/matplotlib/projections/__init__.py -> build/lib.macosx-10.15-x86_64-3.8/matplotlib/projections\n",
      "    creating build/lib.macosx-10.15-x86_64-3.8/matplotlib/testing\n",
      "    copying lib/matplotlib/testing/conftest.py -> build/lib.macosx-10.15-x86_64-3.8/matplotlib/testing\n",
      "    copying lib/matplotlib/testing/determinism.py -> build/lib.macosx-10.15-x86_64-3.8/matplotlib/testing\n",
      "    copying lib/matplotlib/testing/__init__.py -> build/lib.macosx-10.15-x86_64-3.8/matplotlib/testing\n",
      "    copying lib/matplotlib/testing/exceptions.py -> build/lib.macosx-10.15-x86_64-3.8/matplotlib/testing\n",
      "    copying lib/matplotlib/testing/disable_internet.py -> build/lib.macosx-10.15-x86_64-3.8/matplotlib/testing\n",
      "    copying lib/matplotlib/testing/compare.py -> build/lib.macosx-10.15-x86_64-3.8/matplotlib/testing\n",
      "    copying lib/matplotlib/testing/decorators.py -> build/lib.macosx-10.15-x86_64-3.8/matplotlib/testing\n",
      "    creating build/lib.macosx-10.15-x86_64-3.8/matplotlib/backends/qt_editor\n",
      "    copying lib/matplotlib/backends/qt_editor/_formlayout.py -> build/lib.macosx-10.15-x86_64-3.8/matplotlib/backends/qt_editor\n",
      "    copying lib/matplotlib/backends/qt_editor/formlayout.py -> build/lib.macosx-10.15-x86_64-3.8/matplotlib/backends/qt_editor\n",
      "    copying lib/matplotlib/backends/qt_editor/__init__.py -> build/lib.macosx-10.15-x86_64-3.8/matplotlib/backends/qt_editor\n",
      "    copying lib/matplotlib/backends/qt_editor/formsubplottool.py -> build/lib.macosx-10.15-x86_64-3.8/matplotlib/backends/qt_editor\n",
      "    copying lib/matplotlib/backends/qt_editor/figureoptions.py -> build/lib.macosx-10.15-x86_64-3.8/matplotlib/backends/qt_editor\n",
      "    creating build/lib.macosx-10.15-x86_64-3.8/matplotlib/testing/jpl_units\n",
      "    copying lib/matplotlib/testing/jpl_units/UnitDblFormatter.py -> build/lib.macosx-10.15-x86_64-3.8/matplotlib/testing/jpl_units\n",
      "    copying lib/matplotlib/testing/jpl_units/UnitDbl.py -> build/lib.macosx-10.15-x86_64-3.8/matplotlib/testing/jpl_units\n",
      "    copying lib/matplotlib/testing/jpl_units/EpochConverter.py -> build/lib.macosx-10.15-x86_64-3.8/matplotlib/testing/jpl_units\n",
      "    copying lib/matplotlib/testing/jpl_units/Duration.py -> build/lib.macosx-10.15-x86_64-3.8/matplotlib/testing/jpl_units\n",
      "    copying lib/matplotlib/testing/jpl_units/__init__.py -> build/lib.macosx-10.15-x86_64-3.8/matplotlib/testing/jpl_units\n",
      "    copying lib/matplotlib/testing/jpl_units/UnitDblConverter.py -> build/lib.macosx-10.15-x86_64-3.8/matplotlib/testing/jpl_units\n",
      "    copying lib/matplotlib/testing/jpl_units/Epoch.py -> build/lib.macosx-10.15-x86_64-3.8/matplotlib/testing/jpl_units\n",
      "    copying lib/matplotlib/testing/jpl_units/StrConverter.py -> build/lib.macosx-10.15-x86_64-3.8/matplotlib/testing/jpl_units\n",
      "    creating build/lib.macosx-10.15-x86_64-3.8/matplotlib/mpl-data\n",
      "    creating build/lib.macosx-10.15-x86_64-3.8/matplotlib/mpl-data/images\n",
      "    copying lib/matplotlib/mpl-data/images/hand.gif -> build/lib.macosx-10.15-x86_64-3.8/matplotlib/mpl-data/images\n",
      "    creating build/lib.macosx-10.15-x86_64-3.8/matplotlib/mpl-data/fonts\n",
      "    creating build/lib.macosx-10.15-x86_64-3.8/matplotlib/mpl-data/fonts/ttf\n",
      "    copying lib/matplotlib/mpl-data/fonts/ttf/STIXSizThreeSymBol.ttf -> build/lib.macosx-10.15-x86_64-3.8/matplotlib/mpl-data/fonts/ttf\n",
      "    creating build/lib.macosx-10.15-x86_64-3.8/matplotlib/backends/web_backend\n",
      "    copying lib/matplotlib/backends/web_backend/all_figures.html -> build/lib.macosx-10.15-x86_64-3.8/matplotlib/backends/web_backend\n",
      "    copying lib/matplotlib/mpl-data/images/filesave_large.png -> build/lib.macosx-10.15-x86_64-3.8/matplotlib/mpl-data/images\n",
      "    creating build/lib.macosx-10.15-x86_64-3.8/matplotlib/mpl-data/sample_data\n",
      "    copying lib/matplotlib/mpl-data/sample_data/logo2.png -> build/lib.macosx-10.15-x86_64-3.8/matplotlib/mpl-data/sample_data\n",
      "    copying lib/matplotlib/mpl-data/images/help_large.ppm -> build/lib.macosx-10.15-x86_64-3.8/matplotlib/mpl-data/images\n",
      "    copying lib/matplotlib/mpl-data/images/matplotlib_large.png -> build/lib.macosx-10.15-x86_64-3.8/matplotlib/mpl-data/images\n",
      "    copying lib/matplotlib/mpl-data/images/zoom_to_rect.pdf -> build/lib.macosx-10.15-x86_64-3.8/matplotlib/mpl-data/images\n",
      "    copying lib/matplotlib/mpl-data/images/move.svg -> build/lib.macosx-10.15-x86_64-3.8/matplotlib/mpl-data/images\n",
      "    copying lib/matplotlib/mpl-data/matplotlibrc -> build/lib.macosx-10.15-x86_64-3.8/matplotlib/mpl-data\n",
      "    copying lib/matplotlib/mpl-data/fonts/ttf/cmr10.ttf -> build/lib.macosx-10.15-x86_64-3.8/matplotlib/mpl-data/fonts/ttf\n",
      "    creating build/lib.macosx-10.15-x86_64-3.8/matplotlib/backends/web_backend/jquery-ui-1.12.1\n",
      "    copying lib/matplotlib/backends/web_backend/jquery-ui-1.12.1/jquery-ui.min.css -> build/lib.macosx-10.15-x86_64-3.8/matplotlib/backends/web_backend/jquery-ui-1.12.1\n",
      "    copying lib/matplotlib/mpl-data/fonts/ttf/STIXSizFourSymBol.ttf -> build/lib.macosx-10.15-x86_64-3.8/matplotlib/mpl-data/fonts/ttf\n",
      "    creating build/lib.macosx-10.15-x86_64-3.8/matplotlib/mpl-data/fonts/afm\n",
      "    copying lib/matplotlib/mpl-data/fonts/afm/pncri8a.afm -> build/lib.macosx-10.15-x86_64-3.8/matplotlib/mpl-data/fonts/afm\n",
      "    creating build/lib.macosx-10.15-x86_64-3.8/matplotlib/mpl-data/stylelib\n",
      "    copying lib/matplotlib/mpl-data/stylelib/seaborn-ticks.mplstyle -> build/lib.macosx-10.15-x86_64-3.8/matplotlib/mpl-data/stylelib\n",
      "    creating build/lib.macosx-10.15-x86_64-3.8/matplotlib/mpl-data/fonts/pdfcorefonts\n",
      "    copying lib/matplotlib/mpl-data/fonts/pdfcorefonts/Times-Italic.afm -> build/lib.macosx-10.15-x86_64-3.8/matplotlib/mpl-data/fonts/pdfcorefonts\n",
      "    copying lib/matplotlib/mpl-data/fonts/ttf/DejaVuSans-Bold.ttf -> build/lib.macosx-10.15-x86_64-3.8/matplotlib/mpl-data/fonts/ttf\n",
      "    copying lib/matplotlib/mpl-data/stylelib/bmh.mplstyle -> build/lib.macosx-10.15-x86_64-3.8/matplotlib/mpl-data/stylelib\n",
      "    copying lib/matplotlib/mpl-data/fonts/afm/cmsy10.afm -> build/lib.macosx-10.15-x86_64-3.8/matplotlib/mpl-data/fonts/afm\n",
      "    copying lib/matplotlib/backends/web_backend/nbagg_uat.ipynb -> build/lib.macosx-10.15-x86_64-3.8/matplotlib/backends/web_backend\n",
      "    copying lib/matplotlib/mpl-data/fonts/afm/psyr.afm -> build/lib.macosx-10.15-x86_64-3.8/matplotlib/mpl-data/fonts/afm\n",
      "    copying lib/matplotlib/backends/web_backend/jquery-ui-1.12.1/package.json -> build/lib.macosx-10.15-x86_64-3.8/matplotlib/backends/web_backend/jquery-ui-1.12.1\n",
      "    copying lib/matplotlib/mpl-data/fonts/afm/phvbo8a.afm -> build/lib.macosx-10.15-x86_64-3.8/matplotlib/mpl-data/fonts/afm\n",
      "    copying lib/matplotlib/mpl-data/images/filesave.pdf -> build/lib.macosx-10.15-x86_64-3.8/matplotlib/mpl-data/images\n",
      "    copying lib/matplotlib/mpl-data/stylelib/seaborn-dark-palette.mplstyle -> build/lib.macosx-10.15-x86_64-3.8/matplotlib/mpl-data/stylelib\n",
      "    copying lib/matplotlib/mpl-data/fonts/ttf/STIXNonUniBolIta.ttf -> build/lib.macosx-10.15-x86_64-3.8/matplotlib/mpl-data/fonts/ttf\n",
      "    creating build/lib.macosx-10.15-x86_64-3.8/matplotlib/backends/web_backend/css\n",
      "    copying lib/matplotlib/backends/web_backend/css/boilerplate.css -> build/lib.macosx-10.15-x86_64-3.8/matplotlib/backends/web_backend/css\n",
      "    copying lib/matplotlib/mpl-data/stylelib/seaborn-dark.mplstyle -> build/lib.macosx-10.15-x86_64-3.8/matplotlib/mpl-data/stylelib\n",
      "    copying lib/matplotlib/mpl-data/fonts/afm/phvro8a.afm -> build/lib.macosx-10.15-x86_64-3.8/matplotlib/mpl-data/fonts/afm\n",
      "    copying lib/matplotlib/mpl-data/fonts/ttf/STIXNonUniIta.ttf -> build/lib.macosx-10.15-x86_64-3.8/matplotlib/mpl-data/fonts/ttf\n",
      "    creating build/lib.macosx-10.15-x86_64-3.8/matplotlib/backends/web_backend/jquery-ui-1.12.1/images\n",
      "    copying lib/matplotlib/backends/web_backend/jquery-ui-1.12.1/images/ui-icons_777620_256x240.png -> build/lib.macosx-10.15-x86_64-3.8/matplotlib/backends/web_backend/jquery-ui-1.12.1/images\n",
      "    copying lib/matplotlib/mpl-data/fonts/pdfcorefonts/Helvetica-BoldOblique.afm -> build/lib.macosx-10.15-x86_64-3.8/matplotlib/mpl-data/fonts/pdfcorefonts\n",
      "    copying lib/matplotlib/mpl-data/fonts/afm/putbi8a.afm -> build/lib.macosx-10.15-x86_64-3.8/matplotlib/mpl-data/fonts/afm\n",
      "    copying lib/matplotlib/mpl-data/images/subplots.png -> build/lib.macosx-10.15-x86_64-3.8/matplotlib/mpl-data/images\n",
      "    copying lib/matplotlib/mpl-data/images/back.gif -> build/lib.macosx-10.15-x86_64-3.8/matplotlib/mpl-data/images\n",
      "    copying lib/matplotlib/mpl-data/fonts/afm/phvbo8an.afm -> build/lib.macosx-10.15-x86_64-3.8/matplotlib/mpl-data/fonts/afm\n",
      "    copying lib/matplotlib/mpl-data/images/filesave_large.gif -> build/lib.macosx-10.15-x86_64-3.8/matplotlib/mpl-data/images\n",
      "    copying lib/matplotlib/mpl-data/images/forward.png -> build/lib.macosx-10.15-x86_64-3.8/matplotlib/mpl-data/images\n",
      "    copying lib/matplotlib/mpl-data/images/back_large.png -> build/lib.macosx-10.15-x86_64-3.8/matplotlib/mpl-data/images\n",
      "    copying lib/matplotlib/mpl-data/images/matplotlib.pdf -> build/lib.macosx-10.15-x86_64-3.8/matplotlib/mpl-data/images\n",
      "    copying lib/matplotlib/mpl-data/fonts/ttf/STIXGeneral.ttf -> build/lib.macosx-10.15-x86_64-3.8/matplotlib/mpl-data/fonts/ttf\n",
      "    copying lib/matplotlib/mpl-data/fonts/pdfcorefonts/Helvetica-Bold.afm -> build/lib.macosx-10.15-x86_64-3.8/matplotlib/mpl-data/fonts/pdfcorefonts\n",
      "    copying lib/matplotlib/mpl-data/fonts/afm/phvl8a.afm -> build/lib.macosx-10.15-x86_64-3.8/matplotlib/mpl-data/fonts/afm\n",
      "    copying lib/matplotlib/mpl-data/fonts/ttf/STIXGeneralBolIta.ttf -> build/lib.macosx-10.15-x86_64-3.8/matplotlib/mpl-data/fonts/ttf\n",
      "    copying lib/matplotlib/mpl-data/images/subplots_large.png -> build/lib.macosx-10.15-x86_64-3.8/matplotlib/mpl-data/images\n",
      "    copying lib/matplotlib/mpl-data/images/home_large.gif -> build/lib.macosx-10.15-x86_64-3.8/matplotlib/mpl-data/images\n",
      "    copying lib/matplotlib/mpl-data/fonts/afm/putri8a.afm -> build/lib.macosx-10.15-x86_64-3.8/matplotlib/mpl-data/fonts/afm\n",
      "    copying lib/matplotlib/mpl-data/sample_data/grace_hopper.jpg -> build/lib.macosx-10.15-x86_64-3.8/matplotlib/mpl-data/sample_data\n",
      "    copying lib/matplotlib/mpl-data/fonts/afm/pzdr.afm -> build/lib.macosx-10.15-x86_64-3.8/matplotlib/mpl-data/fonts/afm\n",
      "    copying lib/matplotlib/mpl-data/fonts/ttf/DejaVuSans-Oblique.ttf -> build/lib.macosx-10.15-x86_64-3.8/matplotlib/mpl-data/fonts/ttf\n",
      "    creating build/lib.macosx-10.15-x86_64-3.8/matplotlib/mpl-data/sample_data/axes_grid\n",
      "    copying lib/matplotlib/mpl-data/sample_data/axes_grid/bivariate_normal.npy -> build/lib.macosx-10.15-x86_64-3.8/matplotlib/mpl-data/sample_data/axes_grid\n",
      "    copying lib/matplotlib/mpl-data/fonts/ttf/DejaVuSansMono.ttf -> build/lib.macosx-10.15-x86_64-3.8/matplotlib/mpl-data/fonts/ttf\n",
      "    copying lib/matplotlib/mpl-data/images/zoom_to_rect_large.png -> build/lib.macosx-10.15-x86_64-3.8/matplotlib/mpl-data/images\n",
      "    copying lib/matplotlib/mpl-data/fonts/pdfcorefonts/Times-Roman.afm -> build/lib.macosx-10.15-x86_64-3.8/matplotlib/mpl-data/fonts/pdfcorefonts\n",
      "    copying lib/matplotlib/mpl-data/images/zoom_to_rect.svg -> build/lib.macosx-10.15-x86_64-3.8/matplotlib/mpl-data/images\n",
      "    copying lib/matplotlib/mpl-data/images/qt4_editor_options_large.png -> build/lib.macosx-10.15-x86_64-3.8/matplotlib/mpl-data/images\n",
      "    copying lib/matplotlib/mpl-data/images/qt4_editor_options.pdf -> build/lib.macosx-10.15-x86_64-3.8/matplotlib/mpl-data/images\n",
      "    copying lib/matplotlib/mpl-data/fonts/afm/pcrbo8a.afm -> build/lib.macosx-10.15-x86_64-3.8/matplotlib/mpl-data/fonts/afm\n",
      "    copying lib/matplotlib/mpl-data/stylelib/seaborn-pastel.mplstyle -> build/lib.macosx-10.15-x86_64-3.8/matplotlib/mpl-data/stylelib\n",
      "    copying lib/matplotlib/mpl-data/stylelib/seaborn-colorblind.mplstyle -> build/lib.macosx-10.15-x86_64-3.8/matplotlib/mpl-data/stylelib\n",
      "    copying lib/matplotlib/backends/web_backend/jquery-ui-1.12.1/jquery-ui.structure.min.css -> build/lib.macosx-10.15-x86_64-3.8/matplotlib/backends/web_backend/jquery-ui-1.12.1\n",
      "    copying lib/matplotlib/mpl-data/fonts/ttf/STIXNonUniBol.ttf -> build/lib.macosx-10.15-x86_64-3.8/matplotlib/mpl-data/fonts/ttf\n",
      "    copying lib/matplotlib/mpl-data/fonts/ttf/LICENSE_STIX -> build/lib.macosx-10.15-x86_64-3.8/matplotlib/mpl-data/fonts/ttf\n",
      "    copying lib/matplotlib/backends/web_backend/css/fbm.css -> build/lib.macosx-10.15-x86_64-3.8/matplotlib/backends/web_backend/css\n",
      "    copying lib/matplotlib/mpl-data/sample_data/data_x_x2_x3.csv -> build/lib.macosx-10.15-x86_64-3.8/matplotlib/mpl-data/sample_data\n",
      "    copying lib/matplotlib/mpl-data/fonts/afm/ptmri8a.afm -> build/lib.macosx-10.15-x86_64-3.8/matplotlib/mpl-data/fonts/afm\n",
      "    copying lib/matplotlib/mpl-data/stylelib/grayscale.mplstyle -> build/lib.macosx-10.15-x86_64-3.8/matplotlib/mpl-data/stylelib\n",
      "    copying lib/matplotlib/mpl-data/fonts/afm/phvlo8a.afm -> build/lib.macosx-10.15-x86_64-3.8/matplotlib/mpl-data/fonts/afm\n",
      "    copying lib/matplotlib/mpl-data/sample_data/aapl.npz -> build/lib.macosx-10.15-x86_64-3.8/matplotlib/mpl-data/sample_data\n",
      "    copying lib/matplotlib/mpl-data/fonts/afm/pagdo8a.afm -> build/lib.macosx-10.15-x86_64-3.8/matplotlib/mpl-data/fonts/afm\n",
      "    copying lib/matplotlib/backends/web_backend/jquery-ui-1.12.1/index.html -> build/lib.macosx-10.15-x86_64-3.8/matplotlib/backends/web_backend/jquery-ui-1.12.1\n",
      "    copying lib/matplotlib/mpl-data/fonts/afm/ptmb8a.afm -> build/lib.macosx-10.15-x86_64-3.8/matplotlib/mpl-data/fonts/afm\n",
      "    copying lib/matplotlib/mpl-data/fonts/ttf/cmmi10.ttf -> build/lib.macosx-10.15-x86_64-3.8/matplotlib/mpl-data/fonts/ttf\n",
      "    copying lib/matplotlib/backends/web_backend/jquery-ui-1.12.1/jquery-ui.theme.css -> build/lib.macosx-10.15-x86_64-3.8/matplotlib/backends/web_backend/jquery-ui-1.12.1\n",
      "    copying lib/matplotlib/mpl-data/sample_data/None_vs_nearest-pdf.png -> build/lib.macosx-10.15-x86_64-3.8/matplotlib/mpl-data/sample_data\n",
      "    copying lib/matplotlib/mpl-data/fonts/afm/pncb8a.afm -> build/lib.macosx-10.15-x86_64-3.8/matplotlib/mpl-data/fonts/afm\n",
      "    copying lib/matplotlib/mpl-data/images/help.svg -> build/lib.macosx-10.15-x86_64-3.8/matplotlib/mpl-data/images\n",
      "    copying lib/matplotlib/mpl-data/stylelib/seaborn-muted.mplstyle -> build/lib.macosx-10.15-x86_64-3.8/matplotlib/mpl-data/stylelib\n",
      "    copying lib/matplotlib/mpl-data/stylelib/classic.mplstyle -> build/lib.macosx-10.15-x86_64-3.8/matplotlib/mpl-data/stylelib\n",
      "    copying lib/matplotlib/mpl-data/sample_data/grace_hopper.png -> build/lib.macosx-10.15-x86_64-3.8/matplotlib/mpl-data/sample_data\n",
      "    copying lib/matplotlib/mpl-data/fonts/ttf/STIXSizFiveSymReg.ttf -> build/lib.macosx-10.15-x86_64-3.8/matplotlib/mpl-data/fonts/ttf\n",
      "    copying lib/matplotlib/mpl-data/fonts/afm/pcrro8a.afm -> build/lib.macosx-10.15-x86_64-3.8/matplotlib/mpl-data/fonts/afm\n",
      "    copying lib/matplotlib/mpl-data/images/matplotlib.svg -> build/lib.macosx-10.15-x86_64-3.8/matplotlib/mpl-data/images\n",
      "    copying lib/matplotlib/mpl-data/images/help.ppm -> build/lib.macosx-10.15-x86_64-3.8/matplotlib/mpl-data/images\n",
      "    copying lib/matplotlib/mpl-data/images/zoom_to_rect.png -> build/lib.macosx-10.15-x86_64-3.8/matplotlib/mpl-data/images\n",
      "    copying lib/matplotlib/mpl-data/fonts/ttf/cmtt10.ttf -> build/lib.macosx-10.15-x86_64-3.8/matplotlib/mpl-data/fonts/ttf\n",
      "    copying lib/matplotlib/mpl-data/fonts/afm/pagk8a.afm -> build/lib.macosx-10.15-x86_64-3.8/matplotlib/mpl-data/fonts/afm\n",
      "    copying lib/matplotlib/mpl-data/images/help.png -> build/lib.macosx-10.15-x86_64-3.8/matplotlib/mpl-data/images\n",
      "    copying lib/matplotlib/mpl-data/stylelib/seaborn-darkgrid.mplstyle -> build/lib.macosx-10.15-x86_64-3.8/matplotlib/mpl-data/stylelib\n",
      "    copying lib/matplotlib/mpl-data/images/move_large.gif -> build/lib.macosx-10.15-x86_64-3.8/matplotlib/mpl-data/images\n",
      "    copying lib/matplotlib/mpl-data/fonts/afm/pplr8a.afm -> build/lib.macosx-10.15-x86_64-3.8/matplotlib/mpl-data/fonts/afm\n",
      "    copying lib/matplotlib/mpl-data/images/home.gif -> build/lib.macosx-10.15-x86_64-3.8/matplotlib/mpl-data/images\n",
      "    copying lib/matplotlib/mpl-data/images/back.png -> build/lib.macosx-10.15-x86_64-3.8/matplotlib/mpl-data/images\n",
      "    copying lib/matplotlib/mpl-data/fonts/afm/pncbi8a.afm -> build/lib.macosx-10.15-x86_64-3.8/matplotlib/mpl-data/fonts/afm\n",
      "    copying lib/matplotlib/mpl-data/fonts/afm/pbkd8a.afm -> build/lib.macosx-10.15-x86_64-3.8/matplotlib/mpl-data/fonts/afm\n",
      "    copying lib/matplotlib/mpl-data/fonts/afm/cmtt10.afm -> build/lib.macosx-10.15-x86_64-3.8/matplotlib/mpl-data/fonts/afm\n",
      "    copying lib/matplotlib/mpl-data/fonts/afm/pzcmi8a.afm -> build/lib.macosx-10.15-x86_64-3.8/matplotlib/mpl-data/fonts/afm\n",
      "    copying lib/matplotlib/mpl-data/fonts/afm/pplbi8a.afm -> build/lib.macosx-10.15-x86_64-3.8/matplotlib/mpl-data/fonts/afm\n",
      "    copying lib/matplotlib/mpl-data/images/move.png -> build/lib.macosx-10.15-x86_64-3.8/matplotlib/mpl-data/images\n",
      "    copying lib/matplotlib/mpl-data/sample_data/ada.png -> build/lib.macosx-10.15-x86_64-3.8/matplotlib/mpl-data/sample_data\n",
      "    copying lib/matplotlib/mpl-data/fonts/ttf/DejaVuSerifDisplay.ttf -> build/lib.macosx-10.15-x86_64-3.8/matplotlib/mpl-data/fonts/ttf\n",
      "    creating build/lib.macosx-10.15-x86_64-3.8/matplotlib/backends/web_backend/jquery\n",
      "    creating build/lib.macosx-10.15-x86_64-3.8/matplotlib/backends/web_backend/jquery/js\n",
      "    copying lib/matplotlib/backends/web_backend/jquery/js/jquery.min.js -> build/lib.macosx-10.15-x86_64-3.8/matplotlib/backends/web_backend/jquery/js\n",
      "    copying lib/matplotlib/mpl-data/fonts/afm/pbkli8a.afm -> build/lib.macosx-10.15-x86_64-3.8/matplotlib/mpl-data/fonts/afm\n",
      "    copying lib/matplotlib/mpl-data/stylelib/seaborn-white.mplstyle -> build/lib.macosx-10.15-x86_64-3.8/matplotlib/mpl-data/stylelib\n",
      "    copying lib/matplotlib/mpl-data/fonts/afm/putr8a.afm -> build/lib.macosx-10.15-x86_64-3.8/matplotlib/mpl-data/fonts/afm\n",
      "    creating build/lib.macosx-10.15-x86_64-3.8/matplotlib/backends/web_backend/jquery-ui-1.12.1/external\n",
      "    creating build/lib.macosx-10.15-x86_64-3.8/matplotlib/backends/web_backend/jquery-ui-1.12.1/external/jquery\n",
      "    copying lib/matplotlib/backends/web_backend/jquery-ui-1.12.1/external/jquery/jquery.js -> build/lib.macosx-10.15-x86_64-3.8/matplotlib/backends/web_backend/jquery-ui-1.12.1/external/jquery\n",
      "    copying lib/matplotlib/mpl-data/fonts/pdfcorefonts/Symbol.afm -> build/lib.macosx-10.15-x86_64-3.8/matplotlib/mpl-data/fonts/pdfcorefonts\n",
      "    copying lib/matplotlib/mpl-data/fonts/ttf/STIXGeneralBol.ttf -> build/lib.macosx-10.15-x86_64-3.8/matplotlib/mpl-data/fonts/ttf\n",
      "    copying lib/matplotlib/mpl-data/fonts/ttf/DejaVuSansMono-Bold.ttf -> build/lib.macosx-10.15-x86_64-3.8/matplotlib/mpl-data/fonts/ttf\n",
      "    copying lib/matplotlib/backends/web_backend/jquery-ui-1.12.1/images/ui-icons_ffffff_256x240.png -> build/lib.macosx-10.15-x86_64-3.8/matplotlib/backends/web_backend/jquery-ui-1.12.1/images\n",
      "    copying lib/matplotlib/mpl-data/images/qt4_editor_options.svg -> build/lib.macosx-10.15-x86_64-3.8/matplotlib/mpl-data/images\n",
      "    copying lib/matplotlib/mpl-data/fonts/afm/cmmi10.afm -> build/lib.macosx-10.15-x86_64-3.8/matplotlib/mpl-data/fonts/afm\n",
      "    copying lib/matplotlib/mpl-data/sample_data/Minduka_Present_Blue_Pack.png -> build/lib.macosx-10.15-x86_64-3.8/matplotlib/mpl-data/sample_data\n",
      "    copying lib/matplotlib/mpl-data/fonts/ttf/STIXSizFourSymReg.ttf -> build/lib.macosx-10.15-x86_64-3.8/matplotlib/mpl-data/fonts/ttf\n",
      "    copying lib/matplotlib/mpl-data/fonts/pdfcorefonts/Courier.afm -> build/lib.macosx-10.15-x86_64-3.8/matplotlib/mpl-data/fonts/pdfcorefonts\n",
      "    copying lib/matplotlib/mpl-data/fonts/ttf/STIXNonUni.ttf -> build/lib.macosx-10.15-x86_64-3.8/matplotlib/mpl-data/fonts/ttf\n",
      "    copying lib/matplotlib/mpl-data/fonts/pdfcorefonts/Times-Bold.afm -> build/lib.macosx-10.15-x86_64-3.8/matplotlib/mpl-data/fonts/pdfcorefonts\n",
      "    copying lib/matplotlib/mpl-data/fonts/ttf/STIXSizOneSymReg.ttf -> build/lib.macosx-10.15-x86_64-3.8/matplotlib/mpl-data/fonts/ttf\n",
      "    copying lib/matplotlib/backends/web_backend/css/page.css -> build/lib.macosx-10.15-x86_64-3.8/matplotlib/backends/web_backend/css\n",
      "    copying lib/matplotlib/mpl-data/fonts/afm/pplri8a.afm -> build/lib.macosx-10.15-x86_64-3.8/matplotlib/mpl-data/fonts/afm\n",
      "    copying lib/matplotlib/mpl-data/fonts/afm/putb8a.afm -> build/lib.macosx-10.15-x86_64-3.8/matplotlib/mpl-data/fonts/afm\n",
      "    copying lib/matplotlib/mpl-data/fonts/afm/ptmbi8a.afm -> build/lib.macosx-10.15-x86_64-3.8/matplotlib/mpl-data/fonts/afm\n",
      "    copying lib/matplotlib/mpl-data/fonts/ttf/STIXSizThreeSymReg.ttf -> build/lib.macosx-10.15-x86_64-3.8/matplotlib/mpl-data/fonts/ttf\n",
      "    copying lib/matplotlib/mpl-data/sample_data/topobathy.npz -> build/lib.macosx-10.15-x86_64-3.8/matplotlib/mpl-data/sample_data\n",
      "    copying lib/matplotlib/mpl-data/fonts/pdfcorefonts/Courier-BoldOblique.afm -> build/lib.macosx-10.15-x86_64-3.8/matplotlib/mpl-data/fonts/pdfcorefonts\n",
      "    copying lib/matplotlib/mpl-data/fonts/afm/pagd8a.afm -> build/lib.macosx-10.15-x86_64-3.8/matplotlib/mpl-data/fonts/afm\n",
      "    copying lib/matplotlib/mpl-data/fonts/ttf/LICENSE_DEJAVU -> build/lib.macosx-10.15-x86_64-3.8/matplotlib/mpl-data/fonts/ttf\n",
      "    copying lib/matplotlib/mpl-data/sample_data/goog.npz -> build/lib.macosx-10.15-x86_64-3.8/matplotlib/mpl-data/sample_data\n",
      "    copying lib/matplotlib/mpl-data/stylelib/seaborn-paper.mplstyle -> build/lib.macosx-10.15-x86_64-3.8/matplotlib/mpl-data/stylelib\n",
      "    copying lib/matplotlib/mpl-data/sample_data/percent_bachelors_degrees_women_usa.csv -> build/lib.macosx-10.15-x86_64-3.8/matplotlib/mpl-data/sample_data\n",
      "    copying lib/matplotlib/mpl-data/fonts/afm/pcrb8a.afm -> build/lib.macosx-10.15-x86_64-3.8/matplotlib/mpl-data/fonts/afm\n",
      "    copying lib/matplotlib/mpl-data/images/matplotlib.png -> build/lib.macosx-10.15-x86_64-3.8/matplotlib/mpl-data/images\n",
      "    copying lib/matplotlib/mpl-data/stylelib/Solarize_Light2.mplstyle -> build/lib.macosx-10.15-x86_64-3.8/matplotlib/mpl-data/stylelib\n",
      "    copying lib/matplotlib/backends/web_backend/jquery-ui-1.12.1/images/ui-icons_555555_256x240.png -> build/lib.macosx-10.15-x86_64-3.8/matplotlib/backends/web_backend/jquery-ui-1.12.1/images\n",
      "    creating build/lib.macosx-10.15-x86_64-3.8/matplotlib/backends/web_backend/js\n",
      "    copying lib/matplotlib/backends/web_backend/js/nbagg_mpl.js -> build/lib.macosx-10.15-x86_64-3.8/matplotlib/backends/web_backend/js\n",
      "    copying lib/matplotlib/mpl-data/fonts/ttf/STIXGeneralItalic.ttf -> build/lib.macosx-10.15-x86_64-3.8/matplotlib/mpl-data/fonts/ttf\n",
      "    copying lib/matplotlib/mpl-data/fonts/afm/phvr8an.afm -> build/lib.macosx-10.15-x86_64-3.8/matplotlib/mpl-data/fonts/afm\n",
      "    copying lib/matplotlib/mpl-data/fonts/pdfcorefonts/Helvetica-Oblique.afm -> build/lib.macosx-10.15-x86_64-3.8/matplotlib/mpl-data/fonts/pdfcorefonts\n",
      "    copying lib/matplotlib/backends/web_backend/js/mpl_tornado.js -> build/lib.macosx-10.15-x86_64-3.8/matplotlib/backends/web_backend/js\n",
      "    copying lib/matplotlib/mpl-data/images/forward_large.gif -> build/lib.macosx-10.15-x86_64-3.8/matplotlib/mpl-data/images\n",
      "    copying lib/matplotlib/mpl-data/images/hand.svg -> build/lib.macosx-10.15-x86_64-3.8/matplotlib/mpl-data/images\n",
      "    copying lib/matplotlib/mpl-data/stylelib/seaborn-deep.mplstyle -> build/lib.macosx-10.15-x86_64-3.8/matplotlib/mpl-data/stylelib\n",
      "    copying lib/matplotlib/mpl-data/fonts/afm/cmr10.afm -> build/lib.macosx-10.15-x86_64-3.8/matplotlib/mpl-data/fonts/afm\n",
      "    copying lib/matplotlib/mpl-data/stylelib/fast.mplstyle -> build/lib.macosx-10.15-x86_64-3.8/matplotlib/mpl-data/stylelib\n",
      "    copying lib/matplotlib/mpl-data/fonts/afm/pagko8a.afm -> build/lib.macosx-10.15-x86_64-3.8/matplotlib/mpl-data/fonts/afm\n",
      "    copying lib/matplotlib/mpl-data/images/hand.pdf -> build/lib.macosx-10.15-x86_64-3.8/matplotlib/mpl-data/images\n",
      "    copying lib/matplotlib/mpl-data/fonts/afm/phvb8an.afm -> build/lib.macosx-10.15-x86_64-3.8/matplotlib/mpl-data/fonts/afm\n",
      "    copying lib/matplotlib/mpl-data/fonts/afm/pbkdi8a.afm -> build/lib.macosx-10.15-x86_64-3.8/matplotlib/mpl-data/fonts/afm\n",
      "    copying lib/matplotlib/mpl-data/images/home.png -> build/lib.macosx-10.15-x86_64-3.8/matplotlib/mpl-data/images\n",
      "    copying lib/matplotlib/mpl-data/stylelib/seaborn.mplstyle -> build/lib.macosx-10.15-x86_64-3.8/matplotlib/mpl-data/stylelib\n",
      "    copying lib/matplotlib/mpl-data/fonts/afm/pplb8a.afm -> build/lib.macosx-10.15-x86_64-3.8/matplotlib/mpl-data/fonts/afm\n",
      "    copying lib/matplotlib/mpl-data/images/hand.png -> build/lib.macosx-10.15-x86_64-3.8/matplotlib/mpl-data/images\n",
      "    copying lib/matplotlib/mpl-data/fonts/ttf/cmsy10.ttf -> build/lib.macosx-10.15-x86_64-3.8/matplotlib/mpl-data/fonts/ttf\n",
      "    copying lib/matplotlib/mpl-data/fonts/pdfcorefonts/ZapfDingbats.afm -> build/lib.macosx-10.15-x86_64-3.8/matplotlib/mpl-data/fonts/pdfcorefonts\n",
      "    copying lib/matplotlib/mpl-data/stylelib/seaborn-poster.mplstyle -> build/lib.macosx-10.15-x86_64-3.8/matplotlib/mpl-data/stylelib\n",
      "    copying lib/matplotlib/mpl-data/fonts/ttf/STIXSizTwoSymBol.ttf -> build/lib.macosx-10.15-x86_64-3.8/matplotlib/mpl-data/fonts/ttf\n",
      "    copying lib/matplotlib/mpl-data/stylelib/seaborn-bright.mplstyle -> build/lib.macosx-10.15-x86_64-3.8/matplotlib/mpl-data/stylelib\n",
      "    copying lib/matplotlib/backends/web_backend/jquery-ui-1.12.1/jquery-ui.structure.css -> build/lib.macosx-10.15-x86_64-3.8/matplotlib/backends/web_backend/jquery-ui-1.12.1\n",
      "    copying lib/matplotlib/mpl-data/fonts/afm/cmex10.afm -> build/lib.macosx-10.15-x86_64-3.8/matplotlib/mpl-data/fonts/afm\n",
      "    copying lib/matplotlib/mpl-data/stylelib/seaborn-notebook.mplstyle -> build/lib.macosx-10.15-x86_64-3.8/matplotlib/mpl-data/stylelib\n",
      "    copying lib/matplotlib/mpl-data/sample_data/demodata.csv -> build/lib.macosx-10.15-x86_64-3.8/matplotlib/mpl-data/sample_data\n",
      "    copying lib/matplotlib/backends/web_backend/js/mpl.js -> build/lib.macosx-10.15-x86_64-3.8/matplotlib/backends/web_backend/js\n",
      "    copying lib/matplotlib/mpl-data/stylelib/tableau-colorblind10.mplstyle -> build/lib.macosx-10.15-x86_64-3.8/matplotlib/mpl-data/stylelib\n",
      "    copying lib/matplotlib/mpl-data/sample_data/eeg.dat -> build/lib.macosx-10.15-x86_64-3.8/matplotlib/mpl-data/sample_data\n",
      "    copying lib/matplotlib/mpl-data/fonts/ttf/DejaVuSansMono-Oblique.ttf -> build/lib.macosx-10.15-x86_64-3.8/matplotlib/mpl-data/fonts/ttf\n",
      "    copying lib/matplotlib/mpl-data/images/help.pdf -> build/lib.macosx-10.15-x86_64-3.8/matplotlib/mpl-data/images\n",
      "    copying lib/matplotlib/mpl-data/images/filesave.svg -> build/lib.macosx-10.15-x86_64-3.8/matplotlib/mpl-data/images\n",
      "    copying lib/matplotlib/mpl-data/fonts/afm/pbkl8a.afm -> build/lib.macosx-10.15-x86_64-3.8/matplotlib/mpl-data/fonts/afm\n",
      "    copying lib/matplotlib/mpl-data/images/home.pdf -> build/lib.macosx-10.15-x86_64-3.8/matplotlib/mpl-data/images\n",
      "    copying lib/matplotlib/mpl-data/fonts/ttf/cmex10.ttf -> build/lib.macosx-10.15-x86_64-3.8/matplotlib/mpl-data/fonts/ttf\n",
      "    copying lib/matplotlib/mpl-data/fonts/afm/pncr8a.afm -> build/lib.macosx-10.15-x86_64-3.8/matplotlib/mpl-data/fonts/afm\n",
      "    copying lib/matplotlib/mpl-data/images/zoom_to_rect_large.gif -> build/lib.macosx-10.15-x86_64-3.8/matplotlib/mpl-data/images\n",
      "    copying lib/matplotlib/mpl-data/images/subplots.gif -> build/lib.macosx-10.15-x86_64-3.8/matplotlib/mpl-data/images\n",
      "    copying lib/matplotlib/mpl-data/stylelib/_classic_test.mplstyle -> build/lib.macosx-10.15-x86_64-3.8/matplotlib/mpl-data/stylelib\n",
      "    copying lib/matplotlib/backends/web_backend/jquery-ui-1.12.1/images/ui-icons_cc0000_256x240.png -> build/lib.macosx-10.15-x86_64-3.8/matplotlib/backends/web_backend/jquery-ui-1.12.1/images\n",
      "    copying lib/matplotlib/mpl-data/sample_data/msft.csv -> build/lib.macosx-10.15-x86_64-3.8/matplotlib/mpl-data/sample_data\n",
      "    copying lib/matplotlib/mpl-data/images/filesave.png -> build/lib.macosx-10.15-x86_64-3.8/matplotlib/mpl-data/images\n",
      "    copying lib/matplotlib/mpl-data/fonts/ttf/DejaVuSansMono-BoldOblique.ttf -> build/lib.macosx-10.15-x86_64-3.8/matplotlib/mpl-data/fonts/ttf\n",
      "    copying lib/matplotlib/mpl-data/images/move.pdf -> build/lib.macosx-10.15-x86_64-3.8/matplotlib/mpl-data/images\n",
      "    copying lib/matplotlib/mpl-data/images/back_large.gif -> build/lib.macosx-10.15-x86_64-3.8/matplotlib/mpl-data/images\n",
      "    copying lib/matplotlib/mpl-data/fonts/afm/pcrr8a.afm -> build/lib.macosx-10.15-x86_64-3.8/matplotlib/mpl-data/fonts/afm\n",
      "    copying lib/matplotlib/mpl-data/images/qt4_editor_options.png -> build/lib.macosx-10.15-x86_64-3.8/matplotlib/mpl-data/images\n",
      "    copying lib/matplotlib/backends/web_backend/jquery-ui-1.12.1/AUTHORS.txt -> build/lib.macosx-10.15-x86_64-3.8/matplotlib/backends/web_backend/jquery-ui-1.12.1\n",
      "    copying lib/matplotlib/mpl-data/images/forward.svg -> build/lib.macosx-10.15-x86_64-3.8/matplotlib/mpl-data/images\n",
      "    copying lib/matplotlib/mpl-data/images/move.gif -> build/lib.macosx-10.15-x86_64-3.8/matplotlib/mpl-data/images\n",
      "    copying lib/matplotlib/mpl-data/fonts/ttf/cmss10.ttf -> build/lib.macosx-10.15-x86_64-3.8/matplotlib/mpl-data/fonts/ttf\n",
      "    copying lib/matplotlib/mpl-data/fonts/afm/phvro8an.afm -> build/lib.macosx-10.15-x86_64-3.8/matplotlib/mpl-data/fonts/afm\n",
      "    copying lib/matplotlib/mpl-data/fonts/ttf/STIXSizTwoSymReg.ttf -> build/lib.macosx-10.15-x86_64-3.8/matplotlib/mpl-data/fonts/ttf\n",
      "    copying lib/matplotlib/backends/web_backend/single_figure.html -> build/lib.macosx-10.15-x86_64-3.8/matplotlib/backends/web_backend\n",
      "    copying lib/matplotlib/mpl-data/images/subplots_large.gif -> build/lib.macosx-10.15-x86_64-3.8/matplotlib/mpl-data/images\n",
      "    copying lib/matplotlib/mpl-data/images/home.svg -> build/lib.macosx-10.15-x86_64-3.8/matplotlib/mpl-data/images\n",
      "    copying lib/matplotlib/mpl-data/sample_data/s1045.ima.gz -> build/lib.macosx-10.15-x86_64-3.8/matplotlib/mpl-data/sample_data\n",
      "    copying lib/matplotlib/mpl-data/images/subplots.svg -> build/lib.macosx-10.15-x86_64-3.8/matplotlib/mpl-data/images\n",
      "    copying lib/matplotlib/mpl-data/sample_data/README.txt -> build/lib.macosx-10.15-x86_64-3.8/matplotlib/mpl-data/sample_data\n",
      "    copying lib/matplotlib/backends/web_backend/jquery-ui-1.12.1/LICENSE.txt -> build/lib.macosx-10.15-x86_64-3.8/matplotlib/backends/web_backend/jquery-ui-1.12.1\n",
      "    copying lib/matplotlib/mpl-data/fonts/pdfcorefonts/Courier-Bold.afm -> build/lib.macosx-10.15-x86_64-3.8/matplotlib/mpl-data/fonts/pdfcorefonts\n",
      "    copying lib/matplotlib/mpl-data/images/forward_large.png -> build/lib.macosx-10.15-x86_64-3.8/matplotlib/mpl-data/images\n",
      "    copying lib/matplotlib/mpl-data/fonts/pdfcorefonts/Times-BoldItalic.afm -> build/lib.macosx-10.15-x86_64-3.8/matplotlib/mpl-data/fonts/pdfcorefonts\n",
      "    copying lib/matplotlib/mpl-data/images/home_large.png -> build/lib.macosx-10.15-x86_64-3.8/matplotlib/mpl-data/images\n",
      "    copying lib/matplotlib/mpl-data/images/zoom_to_rect.gif -> build/lib.macosx-10.15-x86_64-3.8/matplotlib/mpl-data/images\n",
      "    copying lib/matplotlib/mpl-data/fonts/pdfcorefonts/readme.txt -> build/lib.macosx-10.15-x86_64-3.8/matplotlib/mpl-data/fonts/pdfcorefonts\n",
      "    copying lib/matplotlib/mpl-data/images/help_large.png -> build/lib.macosx-10.15-x86_64-3.8/matplotlib/mpl-data/images\n",
      "    copying lib/matplotlib/mpl-data/fonts/ttf/DejaVuSerif-Bold.ttf -> build/lib.macosx-10.15-x86_64-3.8/matplotlib/mpl-data/fonts/ttf\n",
      "    copying lib/matplotlib/mpl-data/images/matplotlib.ppm -> build/lib.macosx-10.15-x86_64-3.8/matplotlib/mpl-data/images\n",
      "    copying lib/matplotlib/mpl-data/stylelib/ggplot.mplstyle -> build/lib.macosx-10.15-x86_64-3.8/matplotlib/mpl-data/stylelib\n",
      "    copying lib/matplotlib/backends/web_backend/jquery-ui-1.12.1/images/ui-icons_777777_256x240.png -> build/lib.macosx-10.15-x86_64-3.8/matplotlib/backends/web_backend/jquery-ui-1.12.1/images\n",
      "    copying lib/matplotlib/mpl-data/stylelib/dark_background.mplstyle -> build/lib.macosx-10.15-x86_64-3.8/matplotlib/mpl-data/stylelib\n",
      "    copying lib/matplotlib/mpl-data/images/subplots.pdf -> build/lib.macosx-10.15-x86_64-3.8/matplotlib/mpl-data/images\n",
      "    copying lib/matplotlib/mpl-data/fonts/ttf/DejaVuSansDisplay.ttf -> build/lib.macosx-10.15-x86_64-3.8/matplotlib/mpl-data/fonts/ttf\n",
      "    copying lib/matplotlib/mpl-data/fonts/ttf/STIXSizOneSymBol.ttf -> build/lib.macosx-10.15-x86_64-3.8/matplotlib/mpl-data/fonts/ttf\n",
      "    copying lib/matplotlib/mpl-data/images/hand_large.gif -> build/lib.macosx-10.15-x86_64-3.8/matplotlib/mpl-data/images\n",
      "    copying lib/matplotlib/mpl-data/sample_data/membrane.dat -> build/lib.macosx-10.15-x86_64-3.8/matplotlib/mpl-data/sample_data\n",
      "    copying lib/matplotlib/mpl-data/images/filesave.gif -> build/lib.macosx-10.15-x86_64-3.8/matplotlib/mpl-data/images\n",
      "    copying lib/matplotlib/backends/web_backend/jquery/js/jquery.js -> build/lib.macosx-10.15-x86_64-3.8/matplotlib/backends/web_backend/jquery/js\n",
      "    copying lib/matplotlib/mpl-data/sample_data/ct.raw.gz -> build/lib.macosx-10.15-x86_64-3.8/matplotlib/mpl-data/sample_data\n",
      "    copying lib/matplotlib/mpl-data/stylelib/fivethirtyeight.mplstyle -> build/lib.macosx-10.15-x86_64-3.8/matplotlib/mpl-data/stylelib\n",
      "    copying lib/matplotlib/backends/web_backend/jquery-ui-1.12.1/images/ui-icons_444444_256x240.png -> build/lib.macosx-10.15-x86_64-3.8/matplotlib/backends/web_backend/jquery-ui-1.12.1/images\n",
      "    copying lib/matplotlib/backends/web_backend/jquery-ui-1.12.1/jquery-ui.js -> build/lib.macosx-10.15-x86_64-3.8/matplotlib/backends/web_backend/jquery-ui-1.12.1\n",
      "    copying lib/matplotlib/backends/web_backend/jquery-ui-1.12.1/jquery-ui.theme.min.css -> build/lib.macosx-10.15-x86_64-3.8/matplotlib/backends/web_backend/jquery-ui-1.12.1\n",
      "    copying lib/matplotlib/mpl-data/fonts/ttf/cmb10.ttf -> build/lib.macosx-10.15-x86_64-3.8/matplotlib/mpl-data/fonts/ttf\n",
      "    copying lib/matplotlib/mpl-data/fonts/afm/phvr8a.afm -> build/lib.macosx-10.15-x86_64-3.8/matplotlib/mpl-data/fonts/afm\n",
      "    copying lib/matplotlib/mpl-data/images/move_large.png -> build/lib.macosx-10.15-x86_64-3.8/matplotlib/mpl-data/images\n",
      "    copying lib/matplotlib/mpl-data/fonts/ttf/DejaVuSerif-BoldItalic.ttf -> build/lib.macosx-10.15-x86_64-3.8/matplotlib/mpl-data/fonts/ttf\n",
      "    copying lib/matplotlib/mpl-data/stylelib/seaborn-talk.mplstyle -> build/lib.macosx-10.15-x86_64-3.8/matplotlib/mpl-data/stylelib\n",
      "    copying lib/matplotlib/mpl-data/images/forward.pdf -> build/lib.macosx-10.15-x86_64-3.8/matplotlib/mpl-data/images\n",
      "    copying lib/matplotlib/mpl-data/images/back.pdf -> build/lib.macosx-10.15-x86_64-3.8/matplotlib/mpl-data/images\n",
      "    copying lib/matplotlib/mpl-data/fonts/pdfcorefonts/Helvetica.afm -> build/lib.macosx-10.15-x86_64-3.8/matplotlib/mpl-data/fonts/pdfcorefonts\n",
      "    copying lib/matplotlib/mpl-data/images/back.svg -> build/lib.macosx-10.15-x86_64-3.8/matplotlib/mpl-data/images\n",
      "    copying lib/matplotlib/mpl-data/fonts/pdfcorefonts/Courier-Oblique.afm -> build/lib.macosx-10.15-x86_64-3.8/matplotlib/mpl-data/fonts/pdfcorefonts\n",
      "    copying lib/matplotlib/mpl-data/sample_data/jacksboro_fault_dem.npz -> build/lib.macosx-10.15-x86_64-3.8/matplotlib/mpl-data/sample_data\n",
      "    copying lib/matplotlib/mpl-data/sample_data/embedding_in_wx3.xrc -> build/lib.macosx-10.15-x86_64-3.8/matplotlib/mpl-data/sample_data\n",
      "    copying lib/matplotlib/mpl-data/fonts/afm/ptmr8a.afm -> build/lib.macosx-10.15-x86_64-3.8/matplotlib/mpl-data/fonts/afm\n",
      "    copying lib/matplotlib/mpl-data/fonts/afm/phvb8a.afm -> build/lib.macosx-10.15-x86_64-3.8/matplotlib/mpl-data/fonts/afm\n",
      "    copying lib/matplotlib/mpl-data/fonts/ttf/DejaVuSans-BoldOblique.ttf -> build/lib.macosx-10.15-x86_64-3.8/matplotlib/mpl-data/fonts/ttf\n",
      "    copying lib/matplotlib/mpl-data/stylelib/seaborn-whitegrid.mplstyle -> build/lib.macosx-10.15-x86_64-3.8/matplotlib/mpl-data/stylelib\n",
      "    copying lib/matplotlib/backends/web_backend/jquery-ui-1.12.1/jquery-ui.min.js -> build/lib.macosx-10.15-x86_64-3.8/matplotlib/backends/web_backend/jquery-ui-1.12.1\n",
      "    copying lib/matplotlib/mpl-data/fonts/ttf/DejaVuSerif.ttf -> build/lib.macosx-10.15-x86_64-3.8/matplotlib/mpl-data/fonts/ttf\n",
      "    copying lib/matplotlib/backends/web_backend/jquery-ui-1.12.1/jquery-ui.css -> build/lib.macosx-10.15-x86_64-3.8/matplotlib/backends/web_backend/jquery-ui-1.12.1\n",
      "    copying lib/matplotlib/mpl-data/images/forward.gif -> build/lib.macosx-10.15-x86_64-3.8/matplotlib/mpl-data/images\n",
      "    copying lib/matplotlib/backends/web_backend/ipython_inline_figure.html -> build/lib.macosx-10.15-x86_64-3.8/matplotlib/backends/web_backend\n",
      "    copying lib/matplotlib/mpl-data/fonts/ttf/DejaVuSerif-Italic.ttf -> build/lib.macosx-10.15-x86_64-3.8/matplotlib/mpl-data/fonts/ttf\n",
      "    copying lib/matplotlib/mpl-data/fonts/ttf/DejaVuSans.ttf -> build/lib.macosx-10.15-x86_64-3.8/matplotlib/mpl-data/fonts/ttf\n",
      "    UPDATING build/lib.macosx-10.15-x86_64-3.8/matplotlib/_version.py\n",
      "    set build/lib.macosx-10.15-x86_64-3.8/matplotlib/_version.py to '3.1.1'\n",
      "    running build_ext\n",
      "    building 'matplotlib.ft2font' extension\n",
      "    creating build/temp.macosx-10.15-x86_64-3.8\n",
      "    creating build/temp.macosx-10.15-x86_64-3.8/src\n",
      "    clang -Wno-unused-result -Wsign-compare -Wunreachable-code -DNDEBUG -g -fwrapv -O3 -Wall -I/Library/Developer/CommandLineTools/SDKs/MacOSX.sdk/usr/include -I/Library/Developer/CommandLineTools/SDKs/MacOSX.sdk/usr/include -DFREETYPE_BUILD_TYPE=system -DPY_ARRAY_UNIQUE_SYMBOL=MPL_matplotlib_ft2font_ARRAY_API -DNPY_NO_DEPRECATED_API=NPY_1_7_API_VERSION -D__STDC_FORMAT_MACROS=1 -Iextern/agg24-svn/include -I/Users/meigarom/.pyenv/versions/3.8.0/envs/TimeSeriesAcademy/lib/python3.8/site-packages/numpy/core/include -I/Users/meigarom/.pyenv/versions/3.8.0/envs/TimeSeriesAcademy/include -I/Users/meigarom/.pyenv/versions/3.8.0/include/python3.8 -c src/checkdep_freetype2.c -o build/temp.macosx-10.15-x86_64-3.8/src/checkdep_freetype2.o\n",
      "    src/checkdep_freetype2.c:1:10: fatal error: 'ft2build.h' file not found\n",
      "    #include <ft2build.h>\n",
      "             ^~~~~~~~~~~~\n",
      "    1 error generated.\n",
      "    error: command 'clang' failed with exit status 1\n",
      "    ----------------------------------------\u001b[0m\n"
     ]
    },
    {
     "name": "stdout",
     "output_type": "stream",
     "text": [
      "\u001b[31mERROR: Command errored out with exit status 1: /Users/meigarom/.pyenv/versions/3.8.0/envs/TimeSeriesAcademy/bin/python -u -c 'import sys, setuptools, tokenize; sys.argv[0] = '\"'\"'/private/var/folders/rq/5gngl6xn0357vjwv74fd5q7m0000gn/T/pip-install-o8ddp1z1/matplotlib/setup.py'\"'\"'; __file__='\"'\"'/private/var/folders/rq/5gngl6xn0357vjwv74fd5q7m0000gn/T/pip-install-o8ddp1z1/matplotlib/setup.py'\"'\"';f=getattr(tokenize, '\"'\"'open'\"'\"', open)(__file__);code=f.read().replace('\"'\"'\\r\\n'\"'\"', '\"'\"'\\n'\"'\"');f.close();exec(compile(code, __file__, '\"'\"'exec'\"'\"'))' install --record /private/var/folders/rq/5gngl6xn0357vjwv74fd5q7m0000gn/T/pip-record-mg0ttuw0/install-record.txt --single-version-externally-managed --compile --install-headers /Users/meigarom/.pyenv/versions/3.8.0/envs/TimeSeriesAcademy/include/site/python3.8/matplotlib Check the logs for full command output.\u001b[0m\n",
      "\u001b[33mWARNING: You are using pip version 19.2.3, however version 19.3.1 is available.\n",
      "You should consider upgrading via the 'pip install --upgrade pip' command.\u001b[0m\n",
      "\u001b[?25h"
     ]
    }
   ],
   "source": [
    "!pip install matplotlib\n"
   ]
  },
  {
   "cell_type": "code",
   "execution_count": null,
   "metadata": {},
   "outputs": [],
   "source": []
  }
 ],
 "metadata": {
  "kernelspec": {
   "display_name": "Python 3",
   "language": "python",
   "name": "python3"
  },
  "language_info": {
   "codemirror_mode": {
    "name": "ipython",
    "version": 3
   },
   "file_extension": ".py",
   "mimetype": "text/x-python",
   "name": "python",
   "nbconvert_exporter": "python",
   "pygments_lexer": "ipython3",
   "version": "3.8.0"
  }
 },
 "nbformat": 4,
 "nbformat_minor": 2
}
