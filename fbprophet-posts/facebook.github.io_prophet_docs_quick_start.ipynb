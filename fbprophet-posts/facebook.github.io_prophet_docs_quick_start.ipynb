{
 "cells": [
  {
   "cell_type": "markdown",
   "metadata": {
    "ExecuteTime": {
     "end_time": "2019-11-11T18:13:59.029858Z",
     "start_time": "2019-11-11T18:13:59.022120Z"
    }
   },
   "source": [
    "Reference: \n",
    "\n",
    "1) https://facebook.github.io/prophet/docs/quick_start.html\n",
    "\n",
    "2) https://www.digitalocean.com/community/tutorials/a-guide-to-time-series-forecasting-with-prophet-in-python-3\n",
    "\n",
    "3) https://www.analyticsvidhya.com/blog/2018/05/generate-accurate-forecasts-facebook-prophet-python-r/\n",
    "\n",
    "4) https://www.kdnuggets.com/2018/11/sales-forecasting-using-prophet.html\n",
    "\n",
    "5) https://medium.com/open-machine-learning-course/open-machine-learning-course-topic-9-part-3-predicting-the-future-with-facebook-prophet-3f3af145cdc\n",
    "\n",
    "6) https://mode.com/example-gallery/forecasting_prophet_python_cookbook\n",
    "\n",
    "7) https://www.kaggle.com/armamut/predicting-transactions-fb-prophet-tutorial"
   ]
  },
  {
   "cell_type": "markdown",
   "metadata": {},
   "source": [
    "# 0.0. Imports"
   ]
  },
  {
   "cell_type": "code",
   "execution_count": 2,
   "metadata": {
    "ExecuteTime": {
     "end_time": "2019-11-28T21:20:58.339441Z",
     "start_time": "2019-11-28T21:20:58.329849Z"
    }
   },
   "outputs": [],
   "source": [
    "import pandas as pd\n",
    "from fbprophet import Prophet"
   ]
  },
  {
   "cell_type": "markdown",
   "metadata": {},
   "source": [
    "## 0.1. Read dataset"
   ]
  },
  {
   "cell_type": "code",
   "execution_count": 21,
   "metadata": {
    "ExecuteTime": {
     "end_time": "2019-11-28T21:27:37.027840Z",
     "start_time": "2019-11-28T21:27:36.999483Z"
    }
   },
   "outputs": [],
   "source": [
    "df1 = pd.read_csv( '/home/meigarom/Downloads/revenue_BF2019.csv', low_memory=False )\n",
    "df1.columns = ['ds', 'y']\n",
    "df1 = df1.sort_values( 'ds' )"
   ]
  },
  {
   "cell_type": "code",
   "execution_count": 22,
   "metadata": {
    "ExecuteTime": {
     "end_time": "2019-11-28T21:27:37.792002Z",
     "start_time": "2019-11-28T21:27:37.769059Z"
    }
   },
   "outputs": [
    {
     "data": {
      "text/html": [
       "<div>\n",
       "<style scoped>\n",
       "    .dataframe tbody tr th:only-of-type {\n",
       "        vertical-align: middle;\n",
       "    }\n",
       "\n",
       "    .dataframe tbody tr th {\n",
       "        vertical-align: top;\n",
       "    }\n",
       "\n",
       "    .dataframe thead th {\n",
       "        text-align: right;\n",
       "    }\n",
       "</style>\n",
       "<table border=\"1\" class=\"dataframe\">\n",
       "  <thead>\n",
       "    <tr style=\"text-align: right;\">\n",
       "      <th></th>\n",
       "      <th>ds</th>\n",
       "      <th>y</th>\n",
       "    </tr>\n",
       "  </thead>\n",
       "  <tbody>\n",
       "    <tr>\n",
       "      <th>1120</th>\n",
       "      <td>2016-01-01</td>\n",
       "      <td>6381.32</td>\n",
       "    </tr>\n",
       "    <tr>\n",
       "      <th>1045</th>\n",
       "      <td>2016-01-02</td>\n",
       "      <td>13247.27</td>\n",
       "    </tr>\n",
       "    <tr>\n",
       "      <th>1002</th>\n",
       "      <td>2016-01-03</td>\n",
       "      <td>18065.85</td>\n",
       "    </tr>\n",
       "    <tr>\n",
       "      <th>1003</th>\n",
       "      <td>2016-01-04</td>\n",
       "      <td>27673.29</td>\n",
       "    </tr>\n",
       "    <tr>\n",
       "      <th>1307</th>\n",
       "      <td>2016-01-05</td>\n",
       "      <td>29653.49</td>\n",
       "    </tr>\n",
       "  </tbody>\n",
       "</table>\n",
       "</div>"
      ],
      "text/plain": [
       "              ds         y\n",
       "1120  2016-01-01   6381.32\n",
       "1045  2016-01-02  13247.27\n",
       "1002  2016-01-03  18065.85\n",
       "1003  2016-01-04  27673.29\n",
       "1307  2016-01-05  29653.49"
      ]
     },
     "execution_count": 22,
     "metadata": {},
     "output_type": "execute_result"
    }
   ],
   "source": [
    "df1.head()"
   ]
  },
  {
   "cell_type": "code",
   "execution_count": 23,
   "metadata": {
    "ExecuteTime": {
     "end_time": "2019-11-28T21:28:45.175729Z",
     "start_time": "2019-11-28T21:28:45.171620Z"
    }
   },
   "outputs": [],
   "source": [
    "m = Prophet()"
   ]
  },
  {
   "cell_type": "code",
   "execution_count": 24,
   "metadata": {
    "ExecuteTime": {
     "end_time": "2019-11-28T21:28:49.372939Z",
     "start_time": "2019-11-28T21:28:48.567996Z"
    }
   },
   "outputs": [
    {
     "name": "stderr",
     "output_type": "stream",
     "text": [
      "INFO:fbprophet:Disabling daily seasonality. Run prophet with daily_seasonality=True to override this.\n"
     ]
    },
    {
     "data": {
      "text/plain": [
       "<fbprophet.forecaster.Prophet at 0x7fbdc9890a58>"
      ]
     },
     "execution_count": 24,
     "metadata": {},
     "output_type": "execute_result"
    }
   ],
   "source": [
    "m.fit( df1 )"
   ]
  },
  {
   "cell_type": "code",
   "execution_count": 25,
   "metadata": {
    "ExecuteTime": {
     "end_time": "2019-11-28T21:28:54.367388Z",
     "start_time": "2019-11-28T21:28:54.358444Z"
    }
   },
   "outputs": [],
   "source": [
    "future = m.make_future_dataframe( periods=2 )"
   ]
  },
  {
   "cell_type": "code",
   "execution_count": 28,
   "metadata": {
    "ExecuteTime": {
     "end_time": "2019-11-28T21:31:19.163725Z",
     "start_time": "2019-11-28T21:31:19.149930Z"
    }
   },
   "outputs": [
    {
     "data": {
      "text/html": [
       "<div>\n",
       "<style scoped>\n",
       "    .dataframe tbody tr th:only-of-type {\n",
       "        vertical-align: middle;\n",
       "    }\n",
       "\n",
       "    .dataframe tbody tr th {\n",
       "        vertical-align: top;\n",
       "    }\n",
       "\n",
       "    .dataframe thead th {\n",
       "        text-align: right;\n",
       "    }\n",
       "</style>\n",
       "<table border=\"1\" class=\"dataframe\">\n",
       "  <thead>\n",
       "    <tr style=\"text-align: right;\">\n",
       "      <th></th>\n",
       "      <th>ds</th>\n",
       "    </tr>\n",
       "  </thead>\n",
       "  <tbody>\n",
       "    <tr>\n",
       "      <th>1425</th>\n",
       "      <td>2019-11-26</td>\n",
       "    </tr>\n",
       "    <tr>\n",
       "      <th>1426</th>\n",
       "      <td>2019-11-27</td>\n",
       "    </tr>\n",
       "    <tr>\n",
       "      <th>1427</th>\n",
       "      <td>2019-11-28</td>\n",
       "    </tr>\n",
       "    <tr>\n",
       "      <th>1428</th>\n",
       "      <td>2019-11-29</td>\n",
       "    </tr>\n",
       "    <tr>\n",
       "      <th>1429</th>\n",
       "      <td>2019-11-30</td>\n",
       "    </tr>\n",
       "  </tbody>\n",
       "</table>\n",
       "</div>"
      ],
      "text/plain": [
       "             ds\n",
       "1425 2019-11-26\n",
       "1426 2019-11-27\n",
       "1427 2019-11-28\n",
       "1428 2019-11-29\n",
       "1429 2019-11-30"
      ]
     },
     "execution_count": 28,
     "metadata": {},
     "output_type": "execute_result"
    }
   ],
   "source": [
    "future.tail()"
   ]
  },
  {
   "cell_type": "code",
   "execution_count": 29,
   "metadata": {
    "ExecuteTime": {
     "end_time": "2019-11-28T21:31:37.026380Z",
     "start_time": "2019-11-28T21:31:25.089695Z"
    }
   },
   "outputs": [],
   "source": [
    "forecast = m.predict( future )"
   ]
  },
  {
   "cell_type": "code",
   "execution_count": 30,
   "metadata": {
    "ExecuteTime": {
     "end_time": "2019-11-28T21:31:37.064631Z",
     "start_time": "2019-11-28T21:31:37.030136Z"
    }
   },
   "outputs": [
    {
     "data": {
      "text/html": [
       "<div>\n",
       "<style scoped>\n",
       "    .dataframe tbody tr th:only-of-type {\n",
       "        vertical-align: middle;\n",
       "    }\n",
       "\n",
       "    .dataframe tbody tr th {\n",
       "        vertical-align: top;\n",
       "    }\n",
       "\n",
       "    .dataframe thead th {\n",
       "        text-align: right;\n",
       "    }\n",
       "</style>\n",
       "<table border=\"1\" class=\"dataframe\">\n",
       "  <thead>\n",
       "    <tr style=\"text-align: right;\">\n",
       "      <th></th>\n",
       "      <th>ds</th>\n",
       "      <th>yhat</th>\n",
       "      <th>yhat_lower</th>\n",
       "      <th>yhat_upper</th>\n",
       "    </tr>\n",
       "  </thead>\n",
       "  <tbody>\n",
       "    <tr>\n",
       "      <th>1425</th>\n",
       "      <td>2019-11-26</td>\n",
       "      <td>622786.917030</td>\n",
       "      <td>507144.962648</td>\n",
       "      <td>744279.834528</td>\n",
       "    </tr>\n",
       "    <tr>\n",
       "      <th>1426</th>\n",
       "      <td>2019-11-27</td>\n",
       "      <td>640095.637518</td>\n",
       "      <td>522605.286393</td>\n",
       "      <td>748838.331051</td>\n",
       "    </tr>\n",
       "    <tr>\n",
       "      <th>1427</th>\n",
       "      <td>2019-11-28</td>\n",
       "      <td>629645.117715</td>\n",
       "      <td>518007.255223</td>\n",
       "      <td>745695.112160</td>\n",
       "    </tr>\n",
       "    <tr>\n",
       "      <th>1428</th>\n",
       "      <td>2019-11-29</td>\n",
       "      <td>624337.821339</td>\n",
       "      <td>509980.136493</td>\n",
       "      <td>731153.419966</td>\n",
       "    </tr>\n",
       "    <tr>\n",
       "      <th>1429</th>\n",
       "      <td>2019-11-30</td>\n",
       "      <td>580361.068647</td>\n",
       "      <td>464467.381045</td>\n",
       "      <td>704617.413629</td>\n",
       "    </tr>\n",
       "  </tbody>\n",
       "</table>\n",
       "</div>"
      ],
      "text/plain": [
       "             ds           yhat     yhat_lower     yhat_upper\n",
       "1425 2019-11-26  622786.917030  507144.962648  744279.834528\n",
       "1426 2019-11-27  640095.637518  522605.286393  748838.331051\n",
       "1427 2019-11-28  629645.117715  518007.255223  745695.112160\n",
       "1428 2019-11-29  624337.821339  509980.136493  731153.419966\n",
       "1429 2019-11-30  580361.068647  464467.381045  704617.413629"
      ]
     },
     "execution_count": 30,
     "metadata": {},
     "output_type": "execute_result"
    }
   ],
   "source": [
    "forecast[['ds', 'yhat', 'yhat_lower', 'yhat_upper']].tail()"
   ]
  },
  {
   "cell_type": "code",
   "execution_count": 31,
   "metadata": {
    "ExecuteTime": {
     "end_time": "2019-11-28T21:31:37.889022Z",
     "start_time": "2019-11-28T21:31:37.069681Z"
    }
   },
   "outputs": [
    {
     "data": {
      "image/png": "[encoded data removed]",
      "text/plain": [
       "<Figure size 720x432 with 1 Axes>"
      ]
     },
     "metadata": {},
     "output_type": "display_data"
    }
   ],
   "source": [
    "fig1 = m.plot( forecast )"
   ]
  },
  {
   "cell_type": "code",
   "execution_count": 32,
   "metadata": {
    "ExecuteTime": {
     "end_time": "2019-11-28T21:31:40.441103Z",
     "start_time": "2019-11-28T21:31:37.892776Z"
    }
   },
   "outputs": [
    {
     "data": {
      "image/png": "[encoded data removed]",
      "text/plain": [
       "<Figure size 648x648 with 3 Axes>"
      ]
     },
     "metadata": {},
     "output_type": "display_data"
    }
   ],
   "source": [
    "fig2 = m.plot_components( forecast )"
   ]
  },
  {
   "cell_type": "code",
   "execution_count": 34,
   "metadata": {
    "ExecuteTime": {
     "end_time": "2019-11-28T21:35:34.026334Z",
     "start_time": "2019-11-28T21:35:33.980584Z"
    }
   },
   "outputs": [
    {
     "data": {
      "text/html": [
       "<div>\n",
       "<style scoped>\n",
       "    .dataframe tbody tr th:only-of-type {\n",
       "        vertical-align: middle;\n",
       "    }\n",
       "\n",
       "    .dataframe tbody tr th {\n",
       "        vertical-align: top;\n",
       "    }\n",
       "\n",
       "    .dataframe thead th {\n",
       "        text-align: right;\n",
       "    }\n",
       "</style>\n",
       "<table border=\"1\" class=\"dataframe\">\n",
       "  <thead>\n",
       "    <tr style=\"text-align: right;\">\n",
       "      <th></th>\n",
       "      <th>ds</th>\n",
       "      <th>trend</th>\n",
       "      <th>yhat_lower</th>\n",
       "      <th>yhat_upper</th>\n",
       "      <th>trend_lower</th>\n",
       "      <th>trend_upper</th>\n",
       "      <th>additive_terms</th>\n",
       "      <th>additive_terms_lower</th>\n",
       "      <th>additive_terms_upper</th>\n",
       "      <th>weekly</th>\n",
       "      <th>weekly_lower</th>\n",
       "      <th>weekly_upper</th>\n",
       "      <th>yearly</th>\n",
       "      <th>yearly_lower</th>\n",
       "      <th>yearly_upper</th>\n",
       "      <th>multiplicative_terms</th>\n",
       "      <th>multiplicative_terms_lower</th>\n",
       "      <th>multiplicative_terms_upper</th>\n",
       "      <th>yhat</th>\n",
       "    </tr>\n",
       "  </thead>\n",
       "  <tbody>\n",
       "    <tr>\n",
       "      <th>1425</th>\n",
       "      <td>2019-11-26</td>\n",
       "      <td>496296.128840</td>\n",
       "      <td>507144.962648</td>\n",
       "      <td>744279.834528</td>\n",
       "      <td>496296.128840</td>\n",
       "      <td>496296.128840</td>\n",
       "      <td>126490.788190</td>\n",
       "      <td>126490.788190</td>\n",
       "      <td>126490.788190</td>\n",
       "      <td>18748.241615</td>\n",
       "      <td>18748.241615</td>\n",
       "      <td>18748.241615</td>\n",
       "      <td>107742.546575</td>\n",
       "      <td>107742.546575</td>\n",
       "      <td>107742.546575</td>\n",
       "      <td>0.0</td>\n",
       "      <td>0.0</td>\n",
       "      <td>0.0</td>\n",
       "      <td>622786.917030</td>\n",
       "    </tr>\n",
       "    <tr>\n",
       "      <th>1426</th>\n",
       "      <td>2019-11-27</td>\n",
       "      <td>496449.975967</td>\n",
       "      <td>522605.286393</td>\n",
       "      <td>748838.331051</td>\n",
       "      <td>496449.975967</td>\n",
       "      <td>496449.975967</td>\n",
       "      <td>143645.661550</td>\n",
       "      <td>143645.661550</td>\n",
       "      <td>143645.661550</td>\n",
       "      <td>33439.602510</td>\n",
       "      <td>33439.602510</td>\n",
       "      <td>33439.602510</td>\n",
       "      <td>110206.059040</td>\n",
       "      <td>110206.059040</td>\n",
       "      <td>110206.059040</td>\n",
       "      <td>0.0</td>\n",
       "      <td>0.0</td>\n",
       "      <td>0.0</td>\n",
       "      <td>640095.637518</td>\n",
       "    </tr>\n",
       "    <tr>\n",
       "      <th>1427</th>\n",
       "      <td>2019-11-28</td>\n",
       "      <td>496603.823094</td>\n",
       "      <td>518007.255223</td>\n",
       "      <td>745695.112160</td>\n",
       "      <td>496603.823094</td>\n",
       "      <td>496603.823094</td>\n",
       "      <td>133041.294620</td>\n",
       "      <td>133041.294620</td>\n",
       "      <td>133041.294620</td>\n",
       "      <td>21230.510449</td>\n",
       "      <td>21230.510449</td>\n",
       "      <td>21230.510449</td>\n",
       "      <td>111810.784171</td>\n",
       "      <td>111810.784171</td>\n",
       "      <td>111810.784171</td>\n",
       "      <td>0.0</td>\n",
       "      <td>0.0</td>\n",
       "      <td>0.0</td>\n",
       "      <td>629645.117715</td>\n",
       "    </tr>\n",
       "    <tr>\n",
       "      <th>1428</th>\n",
       "      <td>2019-11-29</td>\n",
       "      <td>496757.670222</td>\n",
       "      <td>509980.136493</td>\n",
       "      <td>731153.419966</td>\n",
       "      <td>496757.670222</td>\n",
       "      <td>496757.670222</td>\n",
       "      <td>127580.151117</td>\n",
       "      <td>127580.151117</td>\n",
       "      <td>127580.151117</td>\n",
       "      <td>15049.331324</td>\n",
       "      <td>15049.331324</td>\n",
       "      <td>15049.331324</td>\n",
       "      <td>112530.819793</td>\n",
       "      <td>112530.819793</td>\n",
       "      <td>112530.819793</td>\n",
       "      <td>0.0</td>\n",
       "      <td>0.0</td>\n",
       "      <td>0.0</td>\n",
       "      <td>624337.821339</td>\n",
       "    </tr>\n",
       "    <tr>\n",
       "      <th>1429</th>\n",
       "      <td>2019-11-30</td>\n",
       "      <td>496911.517349</td>\n",
       "      <td>464467.381045</td>\n",
       "      <td>704617.413629</td>\n",
       "      <td>496911.517349</td>\n",
       "      <td>496911.517349</td>\n",
       "      <td>83449.551299</td>\n",
       "      <td>83449.551299</td>\n",
       "      <td>83449.551299</td>\n",
       "      <td>-28901.127371</td>\n",
       "      <td>-28901.127371</td>\n",
       "      <td>-28901.127371</td>\n",
       "      <td>112350.678669</td>\n",
       "      <td>112350.678669</td>\n",
       "      <td>112350.678669</td>\n",
       "      <td>0.0</td>\n",
       "      <td>0.0</td>\n",
       "      <td>0.0</td>\n",
       "      <td>580361.068647</td>\n",
       "    </tr>\n",
       "  </tbody>\n",
       "</table>\n",
       "</div>"
      ],
      "text/plain": [
       "             ds          trend     yhat_lower     yhat_upper    trend_lower  \\\n",
       "1425 2019-11-26  496296.128840  507144.962648  744279.834528  496296.128840   \n",
       "1426 2019-11-27  496449.975967  522605.286393  748838.331051  496449.975967   \n",
       "1427 2019-11-28  496603.823094  518007.255223  745695.112160  496603.823094   \n",
       "1428 2019-11-29  496757.670222  509980.136493  731153.419966  496757.670222   \n",
       "1429 2019-11-30  496911.517349  464467.381045  704617.413629  496911.517349   \n",
       "\n",
       "        trend_upper  additive_terms  additive_terms_lower  \\\n",
       "1425  496296.128840   126490.788190         126490.788190   \n",
       "1426  496449.975967   143645.661550         143645.661550   \n",
       "1427  496603.823094   133041.294620         133041.294620   \n",
       "1428  496757.670222   127580.151117         127580.151117   \n",
       "1429  496911.517349    83449.551299          83449.551299   \n",
       "\n",
       "      additive_terms_upper        weekly  weekly_lower  weekly_upper  \\\n",
       "1425         126490.788190  18748.241615  18748.241615  18748.241615   \n",
       "1426         143645.661550  33439.602510  33439.602510  33439.602510   \n",
       "1427         133041.294620  21230.510449  21230.510449  21230.510449   \n",
       "1428         127580.151117  15049.331324  15049.331324  15049.331324   \n",
       "1429          83449.551299 -28901.127371 -28901.127371 -28901.127371   \n",
       "\n",
       "             yearly   yearly_lower   yearly_upper  multiplicative_terms  \\\n",
       "1425  107742.546575  107742.546575  107742.546575                   0.0   \n",
       "1426  110206.059040  110206.059040  110206.059040                   0.0   \n",
       "1427  111810.784171  111810.784171  111810.784171                   0.0   \n",
       "1428  112530.819793  112530.819793  112530.819793                   0.0   \n",
       "1429  112350.678669  112350.678669  112350.678669                   0.0   \n",
       "\n",
       "      multiplicative_terms_lower  multiplicative_terms_upper           yhat  \n",
       "1425                         0.0                         0.0  622786.917030  \n",
       "1426                         0.0                         0.0  640095.637518  \n",
       "1427                         0.0                         0.0  629645.117715  \n",
       "1428                         0.0                         0.0  624337.821339  \n",
       "1429                         0.0                         0.0  580361.068647  "
      ]
     },
     "execution_count": 34,
     "metadata": {},
     "output_type": "execute_result"
    }
   ],
   "source": [
    "forecast.tail()"
   ]
  },
  {
   "cell_type": "code",
   "execution_count": 41,
   "metadata": {
    "ExecuteTime": {
     "end_time": "2019-11-28T21:44:05.213228Z",
     "start_time": "2019-11-28T21:44:05.203865Z"
    }
   },
   "outputs": [],
   "source": [
    "a = df1[(df1['ds'] >= '2018-11-01') & (df1['ds'] <= '2018-11-30')]"
   ]
  },
  {
   "cell_type": "code",
   "execution_count": 42,
   "metadata": {
    "ExecuteTime": {
     "end_time": "2019-11-28T21:44:10.102534Z",
     "start_time": "2019-11-28T21:44:10.060962Z"
    }
   },
   "outputs": [
    {
     "data": {
      "text/html": [
       "<div>\n",
       "<style scoped>\n",
       "    .dataframe tbody tr th:only-of-type {\n",
       "        vertical-align: middle;\n",
       "    }\n",
       "\n",
       "    .dataframe tbody tr th {\n",
       "        vertical-align: top;\n",
       "    }\n",
       "\n",
       "    .dataframe thead th {\n",
       "        text-align: right;\n",
       "    }\n",
       "</style>\n",
       "<table border=\"1\" class=\"dataframe\">\n",
       "  <thead>\n",
       "    <tr style=\"text-align: right;\">\n",
       "      <th></th>\n",
       "      <th>ds</th>\n",
       "      <th>y</th>\n",
       "    </tr>\n",
       "  </thead>\n",
       "  <tbody>\n",
       "    <tr>\n",
       "      <th>477</th>\n",
       "      <td>2018-11-01</td>\n",
       "      <td>346079.85</td>\n",
       "    </tr>\n",
       "    <tr>\n",
       "      <th>569</th>\n",
       "      <td>2018-11-02</td>\n",
       "      <td>305249.66</td>\n",
       "    </tr>\n",
       "    <tr>\n",
       "      <th>1290</th>\n",
       "      <td>2018-11-03</td>\n",
       "      <td>309849.68</td>\n",
       "    </tr>\n",
       "    <tr>\n",
       "      <th>1247</th>\n",
       "      <td>2018-11-04</td>\n",
       "      <td>279972.55</td>\n",
       "    </tr>\n",
       "    <tr>\n",
       "      <th>1125</th>\n",
       "      <td>2018-11-05</td>\n",
       "      <td>358773.53</td>\n",
       "    </tr>\n",
       "    <tr>\n",
       "      <th>1328</th>\n",
       "      <td>2018-11-06</td>\n",
       "      <td>409554.36</td>\n",
       "    </tr>\n",
       "    <tr>\n",
       "      <th>764</th>\n",
       "      <td>2018-11-07</td>\n",
       "      <td>508421.64</td>\n",
       "    </tr>\n",
       "    <tr>\n",
       "      <th>1104</th>\n",
       "      <td>2018-11-08</td>\n",
       "      <td>479690.89</td>\n",
       "    </tr>\n",
       "    <tr>\n",
       "      <th>184</th>\n",
       "      <td>2018-11-09</td>\n",
       "      <td>395443.36</td>\n",
       "    </tr>\n",
       "    <tr>\n",
       "      <th>522</th>\n",
       "      <td>2018-11-10</td>\n",
       "      <td>379965.24</td>\n",
       "    </tr>\n",
       "    <tr>\n",
       "      <th>310</th>\n",
       "      <td>2018-11-11</td>\n",
       "      <td>320856.78</td>\n",
       "    </tr>\n",
       "    <tr>\n",
       "      <th>878</th>\n",
       "      <td>2018-11-12</td>\n",
       "      <td>399018.03</td>\n",
       "    </tr>\n",
       "    <tr>\n",
       "      <th>285</th>\n",
       "      <td>2018-11-13</td>\n",
       "      <td>429131.03</td>\n",
       "    </tr>\n",
       "    <tr>\n",
       "      <th>389</th>\n",
       "      <td>2018-11-14</td>\n",
       "      <td>315176.16</td>\n",
       "    </tr>\n",
       "    <tr>\n",
       "      <th>1209</th>\n",
       "      <td>2018-11-15</td>\n",
       "      <td>265645.77</td>\n",
       "    </tr>\n",
       "    <tr>\n",
       "      <th>1406</th>\n",
       "      <td>2018-11-16</td>\n",
       "      <td>331856.63</td>\n",
       "    </tr>\n",
       "    <tr>\n",
       "      <th>615</th>\n",
       "      <td>2018-11-17</td>\n",
       "      <td>256613.52</td>\n",
       "    </tr>\n",
       "    <tr>\n",
       "      <th>72</th>\n",
       "      <td>2018-11-18</td>\n",
       "      <td>222716.80</td>\n",
       "    </tr>\n",
       "    <tr>\n",
       "      <th>10</th>\n",
       "      <td>2018-11-19</td>\n",
       "      <td>513475.29</td>\n",
       "    </tr>\n",
       "    <tr>\n",
       "      <th>684</th>\n",
       "      <td>2018-11-20</td>\n",
       "      <td>632940.10</td>\n",
       "    </tr>\n",
       "    <tr>\n",
       "      <th>562</th>\n",
       "      <td>2018-11-21</td>\n",
       "      <td>725156.98</td>\n",
       "    </tr>\n",
       "    <tr>\n",
       "      <th>279</th>\n",
       "      <td>2018-11-22</td>\n",
       "      <td>703737.14</td>\n",
       "    </tr>\n",
       "    <tr>\n",
       "      <th>370</th>\n",
       "      <td>2018-11-23</td>\n",
       "      <td>2124781.77</td>\n",
       "    </tr>\n",
       "    <tr>\n",
       "      <th>244</th>\n",
       "      <td>2018-11-24</td>\n",
       "      <td>881058.75</td>\n",
       "    </tr>\n",
       "    <tr>\n",
       "      <th>1004</th>\n",
       "      <td>2018-11-25</td>\n",
       "      <td>697854.78</td>\n",
       "    </tr>\n",
       "    <tr>\n",
       "      <th>961</th>\n",
       "      <td>2018-11-26</td>\n",
       "      <td>586880.97</td>\n",
       "    </tr>\n",
       "    <tr>\n",
       "      <th>656</th>\n",
       "      <td>2018-11-27</td>\n",
       "      <td>325502.37</td>\n",
       "    </tr>\n",
       "    <tr>\n",
       "      <th>518</th>\n",
       "      <td>2018-11-28</td>\n",
       "      <td>291231.94</td>\n",
       "    </tr>\n",
       "    <tr>\n",
       "      <th>1069</th>\n",
       "      <td>2018-11-29</td>\n",
       "      <td>321080.26</td>\n",
       "    </tr>\n",
       "    <tr>\n",
       "      <th>962</th>\n",
       "      <td>2018-11-30</td>\n",
       "      <td>304069.34</td>\n",
       "    </tr>\n",
       "  </tbody>\n",
       "</table>\n",
       "</div>"
      ],
      "text/plain": [
       "              ds           y\n",
       "477   2018-11-01   346079.85\n",
       "569   2018-11-02   305249.66\n",
       "1290  2018-11-03   309849.68\n",
       "1247  2018-11-04   279972.55\n",
       "1125  2018-11-05   358773.53\n",
       "1328  2018-11-06   409554.36\n",
       "764   2018-11-07   508421.64\n",
       "1104  2018-11-08   479690.89\n",
       "184   2018-11-09   395443.36\n",
       "522   2018-11-10   379965.24\n",
       "310   2018-11-11   320856.78\n",
       "878   2018-11-12   399018.03\n",
       "285   2018-11-13   429131.03\n",
       "389   2018-11-14   315176.16\n",
       "1209  2018-11-15   265645.77\n",
       "1406  2018-11-16   331856.63\n",
       "615   2018-11-17   256613.52\n",
       "72    2018-11-18   222716.80\n",
       "10    2018-11-19   513475.29\n",
       "684   2018-11-20   632940.10\n",
       "562   2018-11-21   725156.98\n",
       "279   2018-11-22   703737.14\n",
       "370   2018-11-23  2124781.77\n",
       "244   2018-11-24   881058.75\n",
       "1004  2018-11-25   697854.78\n",
       "961   2018-11-26   586880.97\n",
       "656   2018-11-27   325502.37\n",
       "518   2018-11-28   291231.94\n",
       "1069  2018-11-29   321080.26\n",
       "962   2018-11-30   304069.34"
      ]
     },
     "execution_count": 42,
     "metadata": {},
     "output_type": "execute_result"
    }
   ],
   "source": [
    "a"
   ]
  },
  {
   "cell_type": "code",
   "execution_count": 43,
   "metadata": {
    "ExecuteTime": {
     "end_time": "2019-11-28T21:45:06.292648Z",
     "start_time": "2019-11-28T21:45:06.282224Z"
    }
   },
   "outputs": [],
   "source": [
    "b = forecast[(forecast['ds'] >= '2018-11-01') & (forecast['ds'] <= '2018-11-30')]"
   ]
  },
  {
   "cell_type": "code",
   "execution_count": 45,
   "metadata": {
    "ExecuteTime": {
     "end_time": "2019-11-28T21:45:34.011971Z",
     "start_time": "2019-11-28T21:45:33.987240Z"
    }
   },
   "outputs": [
    {
     "data": {
      "text/html": [
       "<div>\n",
       "<style scoped>\n",
       "    .dataframe tbody tr th:only-of-type {\n",
       "        vertical-align: middle;\n",
       "    }\n",
       "\n",
       "    .dataframe tbody tr th {\n",
       "        vertical-align: top;\n",
       "    }\n",
       "\n",
       "    .dataframe thead th {\n",
       "        text-align: right;\n",
       "    }\n",
       "</style>\n",
       "<table border=\"1\" class=\"dataframe\">\n",
       "  <thead>\n",
       "    <tr style=\"text-align: right;\">\n",
       "      <th></th>\n",
       "      <th>ds</th>\n",
       "      <th>yhat</th>\n",
       "    </tr>\n",
       "  </thead>\n",
       "  <tbody>\n",
       "    <tr>\n",
       "      <th>1035</th>\n",
       "      <td>2018-11-01</td>\n",
       "      <td>393911.023768</td>\n",
       "    </tr>\n",
       "    <tr>\n",
       "      <th>1036</th>\n",
       "      <td>2018-11-02</td>\n",
       "      <td>390914.809826</td>\n",
       "    </tr>\n",
       "    <tr>\n",
       "      <th>1037</th>\n",
       "      <td>2018-11-03</td>\n",
       "      <td>350702.711873</td>\n",
       "    </tr>\n",
       "    <tr>\n",
       "      <th>1038</th>\n",
       "      <td>2018-11-04</td>\n",
       "      <td>317809.974856</td>\n",
       "    </tr>\n",
       "    <tr>\n",
       "      <th>1039</th>\n",
       "      <td>2018-11-05</td>\n",
       "      <td>395276.699130</td>\n",
       "    </tr>\n",
       "    <tr>\n",
       "      <th>1040</th>\n",
       "      <td>2018-11-06</td>\n",
       "      <td>412895.553136</td>\n",
       "    </tr>\n",
       "    <tr>\n",
       "      <th>1041</th>\n",
       "      <td>2018-11-07</td>\n",
       "      <td>433503.306244</td>\n",
       "    </tr>\n",
       "    <tr>\n",
       "      <th>1042</th>\n",
       "      <td>2018-11-08</td>\n",
       "      <td>427702.029174</td>\n",
       "    </tr>\n",
       "    <tr>\n",
       "      <th>1043</th>\n",
       "      <td>2018-11-09</td>\n",
       "      <td>428380.995568</td>\n",
       "    </tr>\n",
       "    <tr>\n",
       "      <th>1044</th>\n",
       "      <td>2018-11-10</td>\n",
       "      <td>391695.359577</td>\n",
       "    </tr>\n",
       "    <tr>\n",
       "      <th>1045</th>\n",
       "      <td>2018-11-11</td>\n",
       "      <td>362119.550156</td>\n",
       "    </tr>\n",
       "    <tr>\n",
       "      <th>1046</th>\n",
       "      <td>2018-11-12</td>\n",
       "      <td>442633.864674</td>\n",
       "    </tr>\n",
       "    <tr>\n",
       "      <th>1047</th>\n",
       "      <td>2018-11-13</td>\n",
       "      <td>462973.290876</td>\n",
       "    </tr>\n",
       "    <tr>\n",
       "      <th>1048</th>\n",
       "      <td>2018-11-14</td>\n",
       "      <td>485920.128239</td>\n",
       "    </tr>\n",
       "    <tr>\n",
       "      <th>1049</th>\n",
       "      <td>2018-11-15</td>\n",
       "      <td>482026.233565</td>\n",
       "    </tr>\n",
       "    <tr>\n",
       "      <th>1050</th>\n",
       "      <td>2018-11-16</td>\n",
       "      <td>484135.902660</td>\n",
       "    </tr>\n",
       "    <tr>\n",
       "      <th>1051</th>\n",
       "      <td>2018-11-17</td>\n",
       "      <td>448296.337892</td>\n",
       "    </tr>\n",
       "    <tr>\n",
       "      <th>1052</th>\n",
       "      <td>2018-11-18</td>\n",
       "      <td>419019.147223</td>\n",
       "    </tr>\n",
       "    <tr>\n",
       "      <th>1053</th>\n",
       "      <td>2018-11-19</td>\n",
       "      <td>499260.294068</td>\n",
       "    </tr>\n",
       "    <tr>\n",
       "      <th>1054</th>\n",
       "      <td>2018-11-20</td>\n",
       "      <td>518738.560125</td>\n",
       "    </tr>\n",
       "    <tr>\n",
       "      <th>1055</th>\n",
       "      <td>2018-11-21</td>\n",
       "      <td>540228.557837</td>\n",
       "    </tr>\n",
       "    <tr>\n",
       "      <th>1056</th>\n",
       "      <td>2018-11-22</td>\n",
       "      <td>534283.214162</td>\n",
       "    </tr>\n",
       "    <tr>\n",
       "      <th>1057</th>\n",
       "      <td>2018-11-23</td>\n",
       "      <td>533756.732854</td>\n",
       "    </tr>\n",
       "    <tr>\n",
       "      <th>1058</th>\n",
       "      <td>2018-11-24</td>\n",
       "      <td>494784.088411</td>\n",
       "    </tr>\n",
       "    <tr>\n",
       "      <th>1059</th>\n",
       "      <td>2018-11-25</td>\n",
       "      <td>461834.975775</td>\n",
       "    </tr>\n",
       "    <tr>\n",
       "      <th>1060</th>\n",
       "      <td>2018-11-26</td>\n",
       "      <td>537900.687186</td>\n",
       "    </tr>\n",
       "    <tr>\n",
       "      <th>1061</th>\n",
       "      <td>2018-11-27</td>\n",
       "      <td>552742.939649</td>\n",
       "    </tr>\n",
       "    <tr>\n",
       "      <th>1062</th>\n",
       "      <td>2018-11-28</td>\n",
       "      <td>569186.224209</td>\n",
       "    </tr>\n",
       "    <tr>\n",
       "      <th>1063</th>\n",
       "      <td>2018-11-29</td>\n",
       "      <td>557839.507605</td>\n",
       "    </tr>\n",
       "    <tr>\n",
       "      <th>1064</th>\n",
       "      <td>2018-11-30</td>\n",
       "      <td>551618.309356</td>\n",
       "    </tr>\n",
       "  </tbody>\n",
       "</table>\n",
       "</div>"
      ],
      "text/plain": [
       "             ds           yhat\n",
       "1035 2018-11-01  393911.023768\n",
       "1036 2018-11-02  390914.809826\n",
       "1037 2018-11-03  350702.711873\n",
       "1038 2018-11-04  317809.974856\n",
       "1039 2018-11-05  395276.699130\n",
       "1040 2018-11-06  412895.553136\n",
       "1041 2018-11-07  433503.306244\n",
       "1042 2018-11-08  427702.029174\n",
       "1043 2018-11-09  428380.995568\n",
       "1044 2018-11-10  391695.359577\n",
       "1045 2018-11-11  362119.550156\n",
       "1046 2018-11-12  442633.864674\n",
       "1047 2018-11-13  462973.290876\n",
       "1048 2018-11-14  485920.128239\n",
       "1049 2018-11-15  482026.233565\n",
       "1050 2018-11-16  484135.902660\n",
       "1051 2018-11-17  448296.337892\n",
       "1052 2018-11-18  419019.147223\n",
       "1053 2018-11-19  499260.294068\n",
       "1054 2018-11-20  518738.560125\n",
       "1055 2018-11-21  540228.557837\n",
       "1056 2018-11-22  534283.214162\n",
       "1057 2018-11-23  533756.732854\n",
       "1058 2018-11-24  494784.088411\n",
       "1059 2018-11-25  461834.975775\n",
       "1060 2018-11-26  537900.687186\n",
       "1061 2018-11-27  552742.939649\n",
       "1062 2018-11-28  569186.224209\n",
       "1063 2018-11-29  557839.507605\n",
       "1064 2018-11-30  551618.309356"
      ]
     },
     "execution_count": 45,
     "metadata": {},
     "output_type": "execute_result"
    }
   ],
   "source": [
    "b[['ds', 'yhat']]"
   ]
  },
  {
   "cell_type": "markdown",
   "metadata": {},
   "source": [
    "## ARIMA"
   ]
  },
  {
   "cell_type": "code",
   "execution_count": 51,
   "metadata": {
    "ExecuteTime": {
     "end_time": "2019-11-28T22:57:16.382704Z",
     "start_time": "2019-11-28T22:57:16.372088Z"
    }
   },
   "outputs": [],
   "source": [
    "import numpy               as np\n",
    "import pandas              as pd\n",
    "import statsmodels.tsa.api as smtsa\n",
    "\n",
    "from matplotlib                    import pyplot as plt\n",
    "from statsmodels.tsa.stattools     import adfuller\n",
    "from statsmodels.graphics.tsaplots import plot_acf, plot_pacf"
   ]
  },
  {
   "cell_type": "code",
   "execution_count": 55,
   "metadata": {
    "ExecuteTime": {
     "end_time": "2019-11-28T22:59:07.095061Z",
     "start_time": "2019-11-28T22:59:07.089189Z"
    }
   },
   "outputs": [],
   "source": [
    "djia_df = df1.copy()"
   ]
  },
  {
   "cell_type": "code",
   "execution_count": 60,
   "metadata": {
    "ExecuteTime": {
     "end_time": "2019-11-28T23:00:09.929176Z",
     "start_time": "2019-11-28T23:00:09.710465Z"
    }
   },
   "outputs": [
    {
     "name": "stdout",
     "output_type": "stream",
     "text": [
      "ADF Statistic: -1.852212\n",
      "p-value: 0.354865\n"
     ]
    }
   ],
   "source": [
    "# ADF Test\n",
    "adf_result = adfuller( djia_df.y.tolist() )\n",
    "print( 'ADF Statistic: %f' % adf_result[0] )\n",
    "print( 'p-value: %f' % adf_result[1] )"
   ]
  },
  {
   "cell_type": "code",
   "execution_count": 52,
   "metadata": {
    "ExecuteTime": {
     "end_time": "2019-11-28T22:57:17.133367Z",
     "start_time": "2019-11-28T22:57:16.942215Z"
    }
   },
   "outputs": [],
   "source": [
    "arima_obj = smtsa.ARIMA( df1['y'].tolist(), order=( 0, 2, 1 ) )\n",
    "arima_obj_fit = arima_obj.fit( disp=0 )"
   ]
  },
  {
   "cell_type": "code",
   "execution_count": 61,
   "metadata": {
    "ExecuteTime": {
     "end_time": "2019-11-28T23:00:34.832269Z",
     "start_time": "2019-11-28T23:00:28.408810Z"
    }
   },
   "outputs": [
    {
     "data": {
      "text/html": [
       "<div>\n",
       "<style scoped>\n",
       "    .dataframe tbody tr th:only-of-type {\n",
       "        vertical-align: middle;\n",
       "    }\n",
       "\n",
       "    .dataframe tbody tr th {\n",
       "        vertical-align: top;\n",
       "    }\n",
       "\n",
       "    .dataframe thead th {\n",
       "        text-align: right;\n",
       "    }\n",
       "</style>\n",
       "<table border=\"1\" class=\"dataframe\">\n",
       "  <thead>\n",
       "    <tr style=\"text-align: right;\">\n",
       "      <th></th>\n",
       "      <th>AR</th>\n",
       "      <th>d</th>\n",
       "      <th>MA</th>\n",
       "      <th>AIC</th>\n",
       "    </tr>\n",
       "  </thead>\n",
       "  <tbody>\n",
       "    <tr>\n",
       "      <th>0</th>\n",
       "      <td>0</td>\n",
       "      <td>1</td>\n",
       "      <td>0</td>\n",
       "      <td>36796.974371</td>\n",
       "    </tr>\n",
       "    <tr>\n",
       "      <th>1</th>\n",
       "      <td>0</td>\n",
       "      <td>1</td>\n",
       "      <td>1</td>\n",
       "      <td>36611.490532</td>\n",
       "    </tr>\n",
       "    <tr>\n",
       "      <th>2</th>\n",
       "      <td>0</td>\n",
       "      <td>1</td>\n",
       "      <td>2</td>\n",
       "      <td>36556.074428</td>\n",
       "    </tr>\n",
       "    <tr>\n",
       "      <th>3</th>\n",
       "      <td>1</td>\n",
       "      <td>1</td>\n",
       "      <td>0</td>\n",
       "      <td>36656.649660</td>\n",
       "    </tr>\n",
       "    <tr>\n",
       "      <th>4</th>\n",
       "      <td>1</td>\n",
       "      <td>1</td>\n",
       "      <td>1</td>\n",
       "      <td>36479.366598</td>\n",
       "    </tr>\n",
       "    <tr>\n",
       "      <th>5</th>\n",
       "      <td>1</td>\n",
       "      <td>1</td>\n",
       "      <td>2</td>\n",
       "      <td>36472.454355</td>\n",
       "    </tr>\n",
       "    <tr>\n",
       "      <th>6</th>\n",
       "      <td>2</td>\n",
       "      <td>1</td>\n",
       "      <td>0</td>\n",
       "      <td>36648.593795</td>\n",
       "    </tr>\n",
       "    <tr>\n",
       "      <th>7</th>\n",
       "      <td>2</td>\n",
       "      <td>1</td>\n",
       "      <td>1</td>\n",
       "      <td>36468.652947</td>\n",
       "    </tr>\n",
       "    <tr>\n",
       "      <th>8</th>\n",
       "      <td>2</td>\n",
       "      <td>1</td>\n",
       "      <td>2</td>\n",
       "      <td>36461.224076</td>\n",
       "    </tr>\n",
       "    <tr>\n",
       "      <th>9</th>\n",
       "      <td>0</td>\n",
       "      <td>2</td>\n",
       "      <td>0</td>\n",
       "      <td>38086.726209</td>\n",
       "    </tr>\n",
       "    <tr>\n",
       "      <th>10</th>\n",
       "      <td>0</td>\n",
       "      <td>2</td>\n",
       "      <td>1</td>\n",
       "      <td>36781.422521</td>\n",
       "    </tr>\n",
       "    <tr>\n",
       "      <th>11</th>\n",
       "      <td>1</td>\n",
       "      <td>2</td>\n",
       "      <td>0</td>\n",
       "      <td>37413.468071</td>\n",
       "    </tr>\n",
       "    <tr>\n",
       "      <th>12</th>\n",
       "      <td>2</td>\n",
       "      <td>2</td>\n",
       "      <td>0</td>\n",
       "      <td>37247.866370</td>\n",
       "    </tr>\n",
       "  </tbody>\n",
       "</table>\n",
       "</div>"
      ],
      "text/plain": [
       "    AR  d  MA           AIC\n",
       "0    0  1   0  36796.974371\n",
       "1    0  1   1  36611.490532\n",
       "2    0  1   2  36556.074428\n",
       "3    1  1   0  36656.649660\n",
       "4    1  1   1  36479.366598\n",
       "5    1  1   2  36472.454355\n",
       "6    2  1   0  36648.593795\n",
       "7    2  1   1  36468.652947\n",
       "8    2  1   2  36461.224076\n",
       "9    0  2   0  38086.726209\n",
       "10   0  2   1  36781.422521\n",
       "11   1  2   0  37413.468071\n",
       "12   2  2   0  37247.866370"
      ]
     },
     "execution_count": 61,
     "metadata": {},
     "output_type": "execute_result"
    }
   ],
   "source": [
    "# Optimize ARMA parameters\n",
    "aicVal = []\n",
    "for d in range( 1, 3 ):\n",
    "    for ari in range( 0, 3 ):\n",
    "        for maj in range( 0, 3 ):\n",
    "            try:\n",
    "                arima_obj = smtsa.ARIMA( djia_df['y'].tolist(), order=(ari, d, maj) )\n",
    "                arima_obj_fit = arima_obj.fit()\n",
    "                aicVal.append( [ari, d, maj, arima_obj_fit.aic] )\n",
    "            except ValueError:\n",
    "                pass\n",
    "pd.DataFrame( aicVal, columns=['AR', 'd', 'MA', 'AIC'] )"
   ]
  },
  {
   "cell_type": "code",
   "execution_count": 62,
   "metadata": {
    "ExecuteTime": {
     "end_time": "2019-11-28T23:01:36.915584Z",
     "start_time": "2019-11-28T23:01:35.021214Z"
    }
   },
   "outputs": [
    {
     "data": {
      "text/html": [
       "<table class=\"simpletable\">\n",
       "<caption>ARIMA Model Results</caption>\n",
       "<tr>\n",
       "  <th>Dep. Variable:</th>        <td>D.y</td>       <th>  No. Observations:  </th>    <td>1427</td>   \n",
       "</tr>\n",
       "<tr>\n",
       "  <th>Model:</th>          <td>ARIMA(2, 1, 2)</td>  <th>  Log Likelihood     </th> <td>-18224.612</td>\n",
       "</tr>\n",
       "<tr>\n",
       "  <th>Method:</th>             <td>css-mle</td>     <th>  S.D. of innovations</th>  <td>85125.209</td>\n",
       "</tr>\n",
       "<tr>\n",
       "  <th>Date:</th>          <td>Thu, 28 Nov 2019</td> <th>  AIC                </th>  <td>36461.224</td>\n",
       "</tr>\n",
       "<tr>\n",
       "  <th>Time:</th>              <td>21:01:36</td>     <th>  BIC                </th>  <td>36492.804</td>\n",
       "</tr>\n",
       "<tr>\n",
       "  <th>Sample:</th>                <td>1</td>        <th>  HQIC               </th>  <td>36473.018</td>\n",
       "</tr>\n",
       "<tr>\n",
       "  <th></th>                       <td> </td>        <th>                     </th>      <td> </td>    \n",
       "</tr>\n",
       "</table>\n",
       "<table class=\"simpletable\">\n",
       "<tr>\n",
       "      <td></td>         <th>coef</th>     <th>std err</th>      <th>z</th>      <th>P>|z|</th>  <th>[0.025</th>    <th>0.975]</th>  \n",
       "</tr>\n",
       "<tr>\n",
       "  <th>const</th>     <td>  319.7737</td> <td>  222.203</td> <td>    1.439</td> <td> 0.150</td> <td> -115.737</td> <td>  755.284</td>\n",
       "</tr>\n",
       "<tr>\n",
       "  <th>ar.L1.D.y</th> <td>   -0.0452</td> <td>    0.118</td> <td>   -0.383</td> <td> 0.702</td> <td>   -0.276</td> <td>    0.186</td>\n",
       "</tr>\n",
       "<tr>\n",
       "  <th>ar.L2.D.y</th> <td>    0.3850</td> <td>    0.058</td> <td>    6.583</td> <td> 0.000</td> <td>    0.270</td> <td>    0.500</td>\n",
       "</tr>\n",
       "<tr>\n",
       "  <th>ma.L1.D.y</th> <td>   -0.4379</td> <td>    0.121</td> <td>   -3.622</td> <td> 0.000</td> <td>   -0.675</td> <td>   -0.201</td>\n",
       "</tr>\n",
       "<tr>\n",
       "  <th>ma.L2.D.y</th> <td>   -0.4980</td> <td>    0.113</td> <td>   -4.419</td> <td> 0.000</td> <td>   -0.719</td> <td>   -0.277</td>\n",
       "</tr>\n",
       "</table>\n",
       "<table class=\"simpletable\">\n",
       "<caption>Roots</caption>\n",
       "<tr>\n",
       "    <td></td>   <th>            Real</th>  <th>         Imaginary</th> <th>         Modulus</th>  <th>        Frequency</th>\n",
       "</tr>\n",
       "<tr>\n",
       "  <th>AR.1</th> <td>          -1.5542</td> <td>          +0.0000j</td> <td>           1.5542</td> <td>           0.5000</td>\n",
       "</tr>\n",
       "<tr>\n",
       "  <th>AR.2</th> <td>           1.6715</td> <td>          +0.0000j</td> <td>           1.6715</td> <td>           0.0000</td>\n",
       "</tr>\n",
       "<tr>\n",
       "  <th>MA.1</th> <td>           1.0440</td> <td>          +0.0000j</td> <td>           1.0440</td> <td>           0.0000</td>\n",
       "</tr>\n",
       "<tr>\n",
       "  <th>MA.2</th> <td>          -1.9234</td> <td>          +0.0000j</td> <td>           1.9234</td> <td>           0.5000</td>\n",
       "</tr>\n",
       "</table>"
      ],
      "text/plain": [
       "<class 'statsmodels.iolib.summary.Summary'>\n",
       "\"\"\"\n",
       "                             ARIMA Model Results                              \n",
       "==============================================================================\n",
       "Dep. Variable:                    D.y   No. Observations:                 1427\n",
       "Model:                 ARIMA(2, 1, 2)   Log Likelihood              -18224.612\n",
       "Method:                       css-mle   S.D. of innovations          85125.209\n",
       "Date:                Thu, 28 Nov 2019   AIC                          36461.224\n",
       "Time:                        21:01:36   BIC                          36492.804\n",
       "Sample:                             1   HQIC                         36473.018\n",
       "                                                                              \n",
       "==============================================================================\n",
       "                 coef    std err          z      P>|z|      [0.025      0.975]\n",
       "------------------------------------------------------------------------------\n",
       "const        319.7737    222.203      1.439      0.150    -115.737     755.284\n",
       "ar.L1.D.y     -0.0452      0.118     -0.383      0.702      -0.276       0.186\n",
       "ar.L2.D.y      0.3850      0.058      6.583      0.000       0.270       0.500\n",
       "ma.L1.D.y     -0.4379      0.121     -3.622      0.000      -0.675      -0.201\n",
       "ma.L2.D.y     -0.4980      0.113     -4.419      0.000      -0.719      -0.277\n",
       "                                    Roots                                    \n",
       "=============================================================================\n",
       "                  Real          Imaginary           Modulus         Frequency\n",
       "-----------------------------------------------------------------------------\n",
       "AR.1           -1.5542           +0.0000j            1.5542            0.5000\n",
       "AR.2            1.6715           +0.0000j            1.6715            0.0000\n",
       "MA.1            1.0440           +0.0000j            1.0440            0.0000\n",
       "MA.2           -1.9234           +0.0000j            1.9234            0.5000\n",
       "-----------------------------------------------------------------------------\n",
       "\"\"\""
      ]
     },
     "execution_count": 62,
     "metadata": {},
     "output_type": "execute_result"
    }
   ],
   "source": [
    "# Evaluating fit using optimal parameter\n",
    "arima_obj = smtsa.ARIMA( djia_df['y'].tolist(), order=( 2, 1, 2 ) )\n",
    "arima_obj_fit = arima_obj.fit( disp=0 )\n",
    "arima_obj_fit.summary()"
   ]
  },
  {
   "cell_type": "code",
   "execution_count": 64,
   "metadata": {
    "ExecuteTime": {
     "end_time": "2019-11-28T23:03:32.672406Z",
     "start_time": "2019-11-28T23:03:32.195768Z"
    }
   },
   "outputs": [
    {
     "data": {
      "text/plain": [
       "Text(0, 0.5, 'Forecasted value')"
      ]
     },
     "execution_count": 64,
     "metadata": {},
     "output_type": "execute_result"
    },
    {
     "data": {
      "image/png": "[encoded data removed]",
      "text/plain": [
       "<Figure size 432x288 with 1 Axes>"
      ]
     },
     "metadata": {
      "needs_background": "light"
     },
     "output_type": "display_data"
    }
   ],
   "source": [
    "# Forecast and CI\n",
    "f, err, ci = arima_obj_fit.forecast( 2 )\n",
    "plt.plot( f )\n",
    "plt.plot( ci )\n",
    "plt.xlabel( 'Forecasting Index' )\n",
    "plt.ylabel( 'Forecasted value' )"
   ]
  },
  {
   "cell_type": "code",
   "execution_count": 66,
   "metadata": {
    "ExecuteTime": {
     "end_time": "2019-11-28T23:04:09.907955Z",
     "start_time": "2019-11-28T23:04:09.891014Z"
    }
   },
   "outputs": [],
   "source": [
    "f, err, ci = arima_obj_fit.forecast( 2)"
   ]
  },
  {
   "cell_type": "code",
   "execution_count": 67,
   "metadata": {
    "ExecuteTime": {
     "end_time": "2019-11-28T23:04:11.252404Z",
     "start_time": "2019-11-28T23:04:11.232252Z"
    }
   },
   "outputs": [
    {
     "data": {
      "text/plain": [
       "array([432008.89110762,  30620.0220418 ])"
      ]
     },
     "execution_count": 67,
     "metadata": {},
     "output_type": "execute_result"
    }
   ],
   "source": [
    "f"
   ]
  },
  {
   "cell_type": "code",
   "execution_count": 69,
   "metadata": {
    "ExecuteTime": {
     "end_time": "2019-11-28T23:07:18.248100Z",
     "start_time": "2019-11-28T23:07:18.241335Z"
    }
   },
   "outputs": [
    {
     "data": {
      "text/plain": [
       "array([85125.2091271 , 95826.57188456])"
      ]
     },
     "execution_count": 69,
     "metadata": {},
     "output_type": "execute_result"
    }
   ],
   "source": [
    "err"
   ]
  },
  {
   "cell_type": "code",
   "execution_count": 70,
   "metadata": {
    "ExecuteTime": {
     "end_time": "2019-11-28T23:07:26.572955Z",
     "start_time": "2019-11-28T23:07:26.566628Z"
    }
   },
   "outputs": [
    {
     "data": {
      "text/plain": [
       "array([[ 265166.54704206,  598851.23517319],\n",
       "       [-157196.60761388,  218436.65169748]])"
      ]
     },
     "execution_count": 70,
     "metadata": {},
     "output_type": "execute_result"
    }
   ],
   "source": [
    "ci"
   ]
  },
  {
   "cell_type": "code",
   "execution_count": null,
   "metadata": {},
   "outputs": [],
   "source": []
  }
 ],
 "metadata": {
  "kernelspec": {
   "display_name": "Python 3",
   "language": "python",
   "name": "python3"
  },
  "language_info": {
   "codemirror_mode": {
    "name": "ipython",
    "version": 3
   },
   "file_extension": ".py",
   "mimetype": "text/x-python",
   "name": "python",
   "nbconvert_exporter": "python",
   "pygments_lexer": "ipython3",
   "version": "3.7.1"
  }
 },
 "nbformat": 4,
 "nbformat_minor": 2
}
