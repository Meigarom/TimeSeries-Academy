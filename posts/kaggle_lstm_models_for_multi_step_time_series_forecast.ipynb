{
 "cells": [
  {
   "cell_type": "code",
   "execution_count": 1,
   "metadata": {
    "ExecuteTime": {
     "end_time": "2019-12-27T21:23:08.803519Z",
     "start_time": "2019-12-27T21:23:08.800073Z"
    }
   },
   "outputs": [],
   "source": [
    "# Reference: https://www.kaggle.com/kcostya/lstm-models-for-multi-step-time-series-forecast\n",
    "# https://stackoverflow.com/questions/52778922/stock-prediction-gru-model-predicting-same-given-values-instead-of-future-stoc"
   ]
  },
  {
   "cell_type": "markdown",
   "metadata": {
    "ExecuteTime": {
     "end_time": "2019-12-27T21:23:18.312850Z",
     "start_time": "2019-12-27T21:23:18.309297Z"
    }
   },
   "source": [
    "# 0.0. IMPORTS\n",
    "---"
   ]
  },
  {
   "cell_type": "code",
   "execution_count": 58,
   "metadata": {
    "ExecuteTime": {
     "end_time": "2019-12-28T00:55:12.921438Z",
     "start_time": "2019-12-28T00:55:12.912256Z"
    }
   },
   "outputs": [],
   "source": [
    "# load and clean-up data\n",
    "import numpy  as np\n",
    "import pandas as pd\n",
    "\n",
    "import math\n",
    "\n",
    "from sklearn.metrics import mean_squared_error\n",
    "from matplotlib import pyplot as plt\n",
    "\n",
    "from keras.models import Sequential\n",
    "from keras.layers import Dense, Flatten, LSTM, RepeatVector, TimeDistributed, ConvLSTM2D\n",
    "from keras.layers.convolutional import Conv1D\n",
    "from keras.layers.convolutional import MaxPooling1D"
   ]
  },
  {
   "cell_type": "markdown",
   "metadata": {},
   "source": [
    "## 0.1. Helper Functions"
   ]
  },
  {
   "cell_type": "code",
   "execution_count": 53,
   "metadata": {
    "ExecuteTime": {
     "end_time": "2019-12-28T00:51:15.464741Z",
     "start_time": "2019-12-28T00:51:15.446365Z"
    }
   },
   "outputs": [],
   "source": [
    "# filling missing values with a value at the same time one day ago\n",
    "def fill_missing( values ):\n",
    "    one_day = 60 * 24\n",
    "    for row in range( values.shape[0] ):\n",
    "        for col in range( values.shape[1] ):\n",
    "            if np.isnan( values[row, col] ):\n",
    "                values[row, col] = values[ row - one_day, col ]\n",
    "    return values\n",
    "\n",
    "\n",
    "# split an univariate dataset into training/test sets\n",
    "def split_dataset( data ):\n",
    "    # split into standar weeks\n",
    "    train, test = data[1:-328], data[-328:-6]\n",
    "    \n",
    "    # restructure into windows of weekly data\n",
    "    train = np.array( np.split( train, len( train ) / 7 ) )\n",
    "    test = np.array( np.split( test, len( test ) / 7 ) )\n",
    "    \n",
    "    return train, test\n",
    "\n",
    "\n",
    "# make a forecast\n",
    "def forecast( model, history, n_input ):\n",
    "    # flatten data\n",
    "    data = np.array( history )\n",
    "    data = data.reshape( (data.shape[0]*data.shape[1], data.shape[2]) )\n",
    "    \n",
    "    # retrieve last observations for input data\n",
    "    input_x = data[-n_input:, 0]\n",
    "    \n",
    "    # reshape into [1, n_input, 1]\n",
    "    input_x = input_x.reshape( (1, len( input_x ), 1) )\n",
    "    \n",
    "    # forecast the next week\n",
    "    yhat = model.predict( input_x, verbose=0 )\n",
    "    \n",
    "    # we only want the vectr forecast\n",
    "    yhat = yhat[0]\n",
    "    \n",
    "    return yhat\n",
    "    \n",
    "\n",
    "# evaluate one or more weekly forecasts against expected values\n",
    "def evaluate_forecasts( actual, predicted ):\n",
    "    scores = list()\n",
    "    \n",
    "    # calculate a RMSE score for eah day\n",
    "    for i in range( actual.shape[1] ):\n",
    "        # calculate mse\n",
    "        mse = mean_squared_error( actual[:, i], predicted[:, i] )\n",
    "        \n",
    "        # calculate rmse\n",
    "        rmse = np.sqrt( mse )\n",
    "        \n",
    "        # store\n",
    "        scores.append( rmse )\n",
    "        \n",
    "    # calculate over RMSE\n",
    "    s = 0\n",
    "    \n",
    "    for row in range( actual.shape[0] ):\n",
    "        for col in range( actual.shape[1] ):\n",
    "            s += (actual[row, col] - predicted[row, col])**2\n",
    "    score = np.sqrt( s / (actual.shape[0] * actual.shape[1]) )\n",
    "    \n",
    "    return score, scores"
   ]
  },
  {
   "cell_type": "markdown",
   "metadata": {},
   "source": [
    "## 0.2. Loading Data"
   ]
  },
  {
   "cell_type": "code",
   "execution_count": 24,
   "metadata": {
    "ExecuteTime": {
     "end_time": "2019-12-28T00:06:02.963235Z",
     "start_time": "2019-12-28T00:05:58.999912Z"
    }
   },
   "outputs": [],
   "source": [
    "# load dataset\n",
    "dataset = pd.read_csv( '../data/household_power_consumption.csv', low_memory=False, infer_datetime_format=True, parse_dates=['datetime'], index_col=['datetime'] )"
   ]
  },
  {
   "cell_type": "code",
   "execution_count": 26,
   "metadata": {
    "ExecuteTime": {
     "end_time": "2019-12-28T00:08:34.512854Z",
     "start_time": "2019-12-28T00:07:52.625851Z"
    }
   },
   "outputs": [],
   "source": [
    "# mark all missing values\n",
    "dataset.replace( '?', np.nan, inplace=True )\n",
    "\n",
    "# make dataset numeric\n",
    "dataset = dataset.astype( 'float32' )\n",
    "\n",
    "# fill missing\n",
    "fill_missing( dataset.values )\n",
    "\n",
    "# add a column for the reminder of sub metering\n",
    "values = dataset.values\n",
    "dataset['sub_metering_4'] = ( values[:, 0] * 1000 / 60 ) - ( values[:,4] + values[:,5] + values[:,6] ) "
   ]
  },
  {
   "cell_type": "markdown",
   "metadata": {},
   "source": [
    "# 2.0. DATA PREPARATION\n",
    "---"
   ]
  },
  {
   "cell_type": "code",
   "execution_count": 30,
   "metadata": {
    "ExecuteTime": {
     "end_time": "2019-12-28T00:10:01.560771Z",
     "start_time": "2019-12-28T00:10:01.448307Z"
    }
   },
   "outputs": [
    {
     "name": "stdout",
     "output_type": "stream",
     "text": [
      "(1442, 8)\n"
     ]
    }
   ],
   "source": [
    "# resample minute data to daily\n",
    "dataset = dataset.resample( 'D' ).sum()\n",
    "\n",
    "# summarize\n",
    "print( dataset.shape )"
   ]
  },
  {
   "cell_type": "code",
   "execution_count": 39,
   "metadata": {
    "ExecuteTime": {
     "end_time": "2019-12-28T00:16:02.760705Z",
     "start_time": "2019-12-28T00:16:02.750247Z"
    }
   },
   "outputs": [
    {
     "name": "stdout",
     "output_type": "stream",
     "text": [
      "(159, 7, 8)\n",
      "3390.46 1309.268\n",
      "(46, 7, 8)\n",
      "2083.454 2197.006\n"
     ]
    }
   ],
   "source": [
    "train, test = split_dataset( dataset.values )\n",
    "\n",
    "# validate train data\n",
    "print( train.shape )\n",
    "print( train[0, 0, 0], train[-1, -1, 0] )\n",
    "\n",
    "# validate test\n",
    "print( test.shape )\n",
    "print( test[0, 0, 0], test[-1, -1, 0 ] )"
   ]
  },
  {
   "cell_type": "markdown",
   "metadata": {},
   "source": [
    "## 3.0. MACHINE LEARNING MODELLING\n",
    "---"
   ]
  },
  {
   "cell_type": "markdown",
   "metadata": {},
   "source": [
    "### 3.1. LSTM with Univariate Input and Vector Output"
   ]
  },
  {
   "cell_type": "code",
   "execution_count": 45,
   "metadata": {
    "ExecuteTime": {
     "end_time": "2019-12-28T00:34:12.317818Z",
     "start_time": "2019-12-28T00:34:12.303415Z"
    }
   },
   "outputs": [],
   "source": [
    "n_input=7\n",
    "n_out = 7 \n",
    "\n",
    "# convert history into inputs and outputs\n",
    "# flatten data\n",
    "data = train.reshape( (train.shape[0]*train.shape[1], train.shape[2]) )\n",
    "\n",
    "X, y = list(), list()\n",
    "\n",
    "in_start = 0\n",
    "\n",
    "# step over the entire history one time step at a time\n",
    "for _ in range( len( data ) ):\n",
    "    # define the end of the input sequence\n",
    "    in_end = in_start + n_input\n",
    "    out_end = in_end + n_out\n",
    "    \n",
    "    # ensure we have enough data for this instance\n",
    "    if out_end < len( data ):\n",
    "        x_input = data[in_start:in_end, 0]\n",
    "        x_input = x_input.reshape( ( len( x_input ), 1 ) )\n",
    "        \n",
    "        X.append( x_input )\n",
    "        y.append( data[in_end:out_end, 0] )\n",
    "        \n",
    "    # move along one time step\n",
    "    in_start += 1\n",
    "        \n",
    "# prepare data\n",
    "train_x, train_y = np.array( X ), np.array( y )"
   ]
  },
  {
   "cell_type": "code",
   "execution_count": 47,
   "metadata": {
    "ExecuteTime": {
     "end_time": "2019-12-28T00:36:42.025055Z",
     "start_time": "2019-12-28T00:35:20.625606Z"
    }
   },
   "outputs": [
    {
     "name": "stdout",
     "output_type": "stream",
     "text": [
      "Epoch 1/70\n",
      "1099/1099 [==============================] - 2s 2ms/step - loss: 844329.9859\n",
      "Epoch 2/70\n",
      "1099/1099 [==============================] - 1s 1ms/step - loss: 272510.7966\n",
      "Epoch 3/70\n",
      "1099/1099 [==============================] - 1s 1ms/step - loss: 265672.4402\n",
      "Epoch 4/70\n",
      "1099/1099 [==============================] - 1s 989us/step - loss: 266409.2063\n",
      "Epoch 5/70\n",
      "1099/1099 [==============================] - 1s 968us/step - loss: 266759.0344\n",
      "Epoch 6/70\n",
      "1099/1099 [==============================] - 1s 977us/step - loss: 264205.5781\n",
      "Epoch 7/70\n",
      "1099/1099 [==============================] - 1s 1ms/step - loss: 261197.1246\n",
      "Epoch 8/70\n",
      "1099/1099 [==============================] - 1s 997us/step - loss: 259382.1711\n",
      "Epoch 9/70\n",
      "1099/1099 [==============================] - 1s 1ms/step - loss: 257177.6272\n",
      "Epoch 10/70\n",
      "1099/1099 [==============================] - 1s 977us/step - loss: 258476.3437\n",
      "Epoch 11/70\n",
      "1099/1099 [==============================] - 1s 1ms/step - loss: 255443.4469\n",
      "Epoch 12/70\n",
      "1099/1099 [==============================] - 1s 1ms/step - loss: 254455.6653\n",
      "Epoch 13/70\n",
      "1099/1099 [==============================] - 1s 1ms/step - loss: 253728.5237\n",
      "Epoch 14/70\n",
      "1099/1099 [==============================] - 1s 1ms/step - loss: 479279.9135\n",
      "Epoch 15/70\n",
      "1099/1099 [==============================] - 1s 1ms/step - loss: 282289.2051\n",
      "Epoch 16/70\n",
      "1099/1099 [==============================] - 1s 1ms/step - loss: 256310.8948\n",
      "Epoch 17/70\n",
      "1099/1099 [==============================] - 1s 1ms/step - loss: 258048.9008\n",
      "Epoch 18/70\n",
      "1099/1099 [==============================] - 1s 1ms/step - loss: 255696.2147\n",
      "Epoch 19/70\n",
      "1099/1099 [==============================] - 1s 985us/step - loss: 254996.4026\n",
      "Epoch 20/70\n",
      "1099/1099 [==============================] - 1s 1ms/step - loss: 254585.8486\n",
      "Epoch 21/70\n",
      "1099/1099 [==============================] - 1s 1ms/step - loss: 254499.4411\n",
      "Epoch 22/70\n",
      "1099/1099 [==============================] - 1s 1ms/step - loss: 253466.6592\n",
      "Epoch 23/70\n",
      "1099/1099 [==============================] - 1s 1ms/step - loss: 254054.1906\n",
      "Epoch 24/70\n",
      "1099/1099 [==============================] - 1s 1ms/step - loss: 254333.5245\n",
      "Epoch 25/70\n",
      "1099/1099 [==============================] - 1s 982us/step - loss: 252521.4363\n",
      "Epoch 26/70\n",
      "1099/1099 [==============================] - 1s 1ms/step - loss: 252100.9082\n",
      "Epoch 27/70\n",
      "1099/1099 [==============================] - 1s 1ms/step - loss: 250284.3348\n",
      "Epoch 28/70\n",
      "1099/1099 [==============================] - 1s 1ms/step - loss: 253635.0594\n",
      "Epoch 29/70\n",
      "1099/1099 [==============================] - 1s 1ms/step - loss: 251682.7675\n",
      "Epoch 30/70\n",
      "1099/1099 [==============================] - 1s 1ms/step - loss: 252602.4117\n",
      "Epoch 31/70\n",
      "1099/1099 [==============================] - 1s 1ms/step - loss: 251449.0054\n",
      "Epoch 32/70\n",
      "1099/1099 [==============================] - 1s 1ms/step - loss: 252407.3141\n",
      "Epoch 33/70\n",
      "1099/1099 [==============================] - 1s 1ms/step - loss: 257828.3643\n",
      "Epoch 34/70\n",
      "1099/1099 [==============================] - 1s 1ms/step - loss: 247951.0963\n",
      "Epoch 35/70\n",
      "1099/1099 [==============================] - 1s 992us/step - loss: 250419.6569\n",
      "Epoch 36/70\n",
      "1099/1099 [==============================] - 1s 1ms/step - loss: 248214.9151\n",
      "Epoch 37/70\n",
      "1099/1099 [==============================] - 1s 1ms/step - loss: 251236.8546\n",
      "Epoch 38/70\n",
      "1099/1099 [==============================] - 1s 996us/step - loss: 248003.7974\n",
      "Epoch 39/70\n",
      "1099/1099 [==============================] - 1s 1ms/step - loss: 250341.8150\n",
      "Epoch 40/70\n",
      "1099/1099 [==============================] - 1s 1ms/step - loss: 251726.2549\n",
      "Epoch 41/70\n",
      "1099/1099 [==============================] - 1s 1ms/step - loss: 249002.3193\n",
      "Epoch 42/70\n",
      "1099/1099 [==============================] - 1s 1ms/step - loss: 246317.9955\n",
      "Epoch 43/70\n",
      "1099/1099 [==============================] - 1s 1ms/step - loss: 248527.2086\n",
      "Epoch 44/70\n",
      "1099/1099 [==============================] - 1s 1ms/step - loss: 247314.3812\n",
      "Epoch 45/70\n",
      "1099/1099 [==============================] - 1s 1ms/step - loss: 247434.2185\n",
      "Epoch 46/70\n",
      "1099/1099 [==============================] - 1s 1ms/step - loss: 246461.5028\n",
      "Epoch 47/70\n",
      "1099/1099 [==============================] - 1s 1ms/step - loss: 245953.8386\n",
      "Epoch 48/70\n",
      "1099/1099 [==============================] - 1s 1ms/step - loss: 249839.2511\n",
      "Epoch 49/70\n",
      "1099/1099 [==============================] - 1s 1ms/step - loss: 247809.6021\n",
      "Epoch 50/70\n",
      "1099/1099 [==============================] - 1s 1ms/step - loss: 255611.2563\n",
      "Epoch 51/70\n",
      "1099/1099 [==============================] - 1s 1ms/step - loss: 247477.0737\n",
      "Epoch 52/70\n",
      "1099/1099 [==============================] - 1s 1ms/step - loss: 250114.2387\n",
      "Epoch 53/70\n",
      "1099/1099 [==============================] - 1s 1ms/step - loss: 244092.3020\n",
      "Epoch 54/70\n",
      "1099/1099 [==============================] - 1s 1ms/step - loss: 248686.1318\n",
      "Epoch 55/70\n",
      "1099/1099 [==============================] - 1s 1ms/step - loss: 250215.9716\n",
      "Epoch 56/70\n",
      "1099/1099 [==============================] - 1s 1ms/step - loss: 247283.7734\n",
      "Epoch 57/70\n",
      "1099/1099 [==============================] - 1s 1ms/step - loss: 247250.8199\n",
      "Epoch 58/70\n",
      "1099/1099 [==============================] - 1s 1ms/step - loss: 245752.0876\n",
      "Epoch 59/70\n",
      "1099/1099 [==============================] - 1s 1ms/step - loss: 244619.2857\n",
      "Epoch 60/70\n",
      "1099/1099 [==============================] - 1s 1ms/step - loss: 244050.6567\n",
      "Epoch 61/70\n",
      "1099/1099 [==============================] - 1s 1ms/step - loss: 243180.1761\n",
      "Epoch 62/70\n",
      "1099/1099 [==============================] - 1s 1ms/step - loss: 241061.5534\n",
      "Epoch 63/70\n",
      "1099/1099 [==============================] - 1s 1ms/step - loss: 243335.6140\n",
      "Epoch 64/70\n",
      "1099/1099 [==============================] - 1s 1ms/step - loss: 242871.6389\n",
      "Epoch 65/70\n",
      "1099/1099 [==============================] - 1s 1ms/step - loss: 239378.6199\n",
      "Epoch 66/70\n",
      "1099/1099 [==============================] - 1s 1ms/step - loss: 239256.2188\n",
      "Epoch 67/70\n",
      "1099/1099 [==============================] - 1s 1ms/step - loss: 241799.9892\n",
      "Epoch 68/70\n",
      "1099/1099 [==============================] - 1s 1ms/step - loss: 238051.6289\n",
      "Epoch 69/70\n",
      "1099/1099 [==============================] - 1s 1ms/step - loss: 238369.1722\n",
      "Epoch 70/70\n",
      "1099/1099 [==============================] - 1s 1ms/step - loss: 237124.3095\n"
     ]
    },
    {
     "data": {
      "text/plain": [
       "<keras.callbacks.callbacks.History at 0x12fda1828>"
      ]
     },
     "execution_count": 47,
     "metadata": {},
     "output_type": "execute_result"
    }
   ],
   "source": [
    "# define parameters\n",
    "verbose, epochs, batch_size = 1, 70, 16\n",
    "n_timesteps, n_features, n_outputs = train_x.shape[1], train_x.shape[2], train_y.shape[1]\n",
    "\n",
    "# define model\n",
    "model = Sequential()\n",
    "model.add( LSTM( 200, activation='relu', input_shape=(n_timesteps, n_features)))\n",
    "model.add( Dense( 100, activation='relu' ) )\n",
    "model.add( Dense( n_outputs ) )\n",
    "\n",
    "model.compile( loss='mse', optimizer='adam' )\n",
    "\n",
    "# fit network\n",
    "model.fit( train_x, train_y, epochs=epochs, batch_size=batch_size, verbose=verbose )"
   ]
  },
  {
   "cell_type": "code",
   "execution_count": 54,
   "metadata": {
    "ExecuteTime": {
     "end_time": "2019-12-28T00:51:23.652158Z",
     "start_time": "2019-12-28T00:51:23.522189Z"
    }
   },
   "outputs": [],
   "source": [
    "# history is a list of weekly data\n",
    "history = [x for x in train]\n",
    "\n",
    "# walk-forward validation over each week\n",
    "predictions = list()\n",
    "\n",
    "n_input = 7\n",
    "for i in range( len( test ) ):\n",
    "    # predict the week\n",
    "    yhat_sequence = forecast( model, history, n_input )\n",
    "    \n",
    "    # store the predictions\n",
    "    predictions.append( yhat_sequence )\n",
    "    \n",
    "    # get real observation and add to history for predicting the next week\n",
    "    history.append( test[i, :] )\n",
    "    \n",
    "# evaluate predictions days for each week\n",
    "predictions = np.array( predictions )\n",
    "\n",
    "score, scores = evaluate_forecasts( test[:, :, 0], predictions )"
   ]
  },
  {
   "cell_type": "code",
   "execution_count": 56,
   "metadata": {
    "ExecuteTime": {
     "end_time": "2019-12-28T00:54:06.578370Z",
     "start_time": "2019-12-28T00:54:06.571806Z"
    }
   },
   "outputs": [
    {
     "name": "stdout",
     "output_type": "stream",
     "text": [
      "lstm: [391.405] 403.8, 412.8, 371.9, 382.1, 399.0, 314.8, 443.2\n"
     ]
    }
   ],
   "source": [
    "# summarize scores\n",
    "s_scores = ', '.join( ['%.1f' % s for s in scores] )\n",
    "print( '%s: [%.3f] %s' % ('lstm', score, s_scores) )"
   ]
  },
  {
   "cell_type": "code",
   "execution_count": 60,
   "metadata": {
    "ExecuteTime": {
     "end_time": "2019-12-28T00:55:30.305228Z",
     "start_time": "2019-12-28T00:55:30.073341Z"
    }
   },
   "outputs": [
    {
     "data": {
      "text/plain": [
       "[<matplotlib.lines.Line2D at 0x132013ac8>]"
      ]
     },
     "execution_count": 60,
     "metadata": {},
     "output_type": "execute_result"
    },
    {
     "data": {
      "image/png": "[encoded data removed]",
      "text/plain": [
       "<Figure size 432x288 with 1 Axes>"
      ]
     },
     "metadata": {
      "needs_background": "light"
     },
     "output_type": "display_data"
    }
   ],
   "source": [
    "# plot scores\n",
    "days = ['sun', 'mon', 'tue', 'wed', 'thr', 'fri', 'sat']\n",
    "plt.plot( days, scores, marker='o', label='lstm' )"
   ]
  },
  {
   "cell_type": "code",
   "execution_count": null,
   "metadata": {},
   "outputs": [],
   "source": []
  }
 ],
 "metadata": {
  "kernelspec": {
   "display_name": "Python 3",
   "language": "python",
   "name": "python3"
  },
  "language_info": {
   "codemirror_mode": {
    "name": "ipython",
    "version": 3
   },
   "file_extension": ".py",
   "mimetype": "text/x-python",
   "name": "python",
   "nbconvert_exporter": "python",
   "pygments_lexer": "ipython3",
   "version": "3.6.9"
  }
 },
 "nbformat": 4,
 "nbformat_minor": 2
}
